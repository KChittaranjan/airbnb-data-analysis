{
  "nbformat": 4,
  "nbformat_minor": 0,
  "metadata": {
    "colab": {
      "name": "AirBnB Capstone Project Chittaranjan.ipynb",
      "provenance": [],
      "collapsed_sections": [],
      "mount_file_id": "1AYYY4bMGCsQvtFPqZN47GKQqXkufyfol",
      "authorship_tag": "ABX9TyOGQBUbKzKmw0riJSfVnEvO",
      "include_colab_link": true
    },
    "kernelspec": {
      "name": "python3",
      "display_name": "Python 3"
    }
  },
  "cells": [
    {
      "cell_type": "markdown",
      "metadata": {
        "id": "view-in-github",
        "colab_type": "text"
      },
      "source": [
        "<a href=\"https://colab.research.google.com/github/KChittaranjan/airbnb-data-analysis/blob/main/AirBnB_Capstone_Project_Chittaranjan.ipynb\" target=\"_parent\"><img src=\"https://colab.research.google.com/assets/colab-badge.svg\" alt=\"Open In Colab\"/></a>"
      ]
    },
    {
      "cell_type": "code",
      "metadata": {
        "colab": {
          "base_uri": "https://localhost:8080/"
        },
        "id": "QCRkcSBqfadB",
        "outputId": "a33190af-7c74-4aa3-a1eb-8968a7e09c91"
      },
      "source": [
        "pip install geopandas"
      ],
      "execution_count": 165,
      "outputs": [
        {
          "output_type": "stream",
          "text": [
            "Requirement already satisfied: geopandas in /usr/local/lib/python3.7/dist-packages (0.8.2)\n",
            "Requirement already satisfied: pyproj>=2.2.0 in /usr/local/lib/python3.7/dist-packages (from geopandas) (3.0.0.post1)\n",
            "Requirement already satisfied: fiona in /usr/local/lib/python3.7/dist-packages (from geopandas) (1.8.18)\n",
            "Requirement already satisfied: pandas>=0.23.0 in /usr/local/lib/python3.7/dist-packages (from geopandas) (1.1.5)\n",
            "Requirement already satisfied: shapely in /usr/local/lib/python3.7/dist-packages (from geopandas) (1.7.1)\n",
            "Requirement already satisfied: certifi in /usr/local/lib/python3.7/dist-packages (from pyproj>=2.2.0->geopandas) (2020.12.5)\n",
            "Requirement already satisfied: click-plugins>=1.0 in /usr/local/lib/python3.7/dist-packages (from fiona->geopandas) (1.1.1)\n",
            "Requirement already satisfied: attrs>=17 in /usr/local/lib/python3.7/dist-packages (from fiona->geopandas) (20.3.0)\n",
            "Requirement already satisfied: cligj>=0.5 in /usr/local/lib/python3.7/dist-packages (from fiona->geopandas) (0.7.1)\n",
            "Requirement already satisfied: click<8,>=4.0 in /usr/local/lib/python3.7/dist-packages (from fiona->geopandas) (7.1.2)\n",
            "Requirement already satisfied: six>=1.7 in /usr/local/lib/python3.7/dist-packages (from fiona->geopandas) (1.15.0)\n",
            "Requirement already satisfied: munch in /usr/local/lib/python3.7/dist-packages (from fiona->geopandas) (2.5.0)\n",
            "Requirement already satisfied: python-dateutil>=2.7.3 in /usr/local/lib/python3.7/dist-packages (from pandas>=0.23.0->geopandas) (2.8.1)\n",
            "Requirement already satisfied: numpy>=1.15.4 in /usr/local/lib/python3.7/dist-packages (from pandas>=0.23.0->geopandas) (1.19.5)\n",
            "Requirement already satisfied: pytz>=2017.2 in /usr/local/lib/python3.7/dist-packages (from pandas>=0.23.0->geopandas) (2018.9)\n"
          ],
          "name": "stdout"
        }
      ]
    },
    {
      "cell_type": "code",
      "metadata": {
        "id": "qrtHqSGvsERQ"
      },
      "source": [
        "import pandas as pd\r\n",
        "import numpy as np\r\n",
        "from datetime import datetime\r\n",
        "from datetime import timedelta\r\n",
        "import matplotlib.pyplot as plt\r\n",
        "import matplotlib\r\n",
        "import seaborn as sns\r\n",
        "import geopandas as gpd\r\n",
        "from shapely.geometry import Point, Polygon\r\n",
        "%matplotlib inline"
      ],
      "execution_count": 166,
      "outputs": []
    },
    {
      "cell_type": "code",
      "metadata": {
        "id": "0gFTc22lsnsd"
      },
      "source": [
        "file_path = '/content/drive/MyDrive/Almabetter/Cohort Nilgiri/Module 1/Week 4/Capstone Project/Airbnb NYC 2019.csv'\r\n",
        "\r\n",
        "df = pd.read_csv(file_path)"
      ],
      "execution_count": 97,
      "outputs": []
    },
    {
      "cell_type": "markdown",
      "metadata": {
        "id": "JC0MDaVWJY8H"
      },
      "source": [
        "Let us observe different columns and their types"
      ]
    },
    {
      "cell_type": "code",
      "metadata": {
        "colab": {
          "base_uri": "https://localhost:8080/"
        },
        "id": "WeR8ox9WZebH",
        "outputId": "460549a5-16b9-493d-8dad-38a993708f90"
      },
      "source": [
        "df.info()"
      ],
      "execution_count": 98,
      "outputs": [
        {
          "output_type": "stream",
          "text": [
            "<class 'pandas.core.frame.DataFrame'>\n",
            "RangeIndex: 48895 entries, 0 to 48894\n",
            "Data columns (total 16 columns):\n",
            " #   Column                          Non-Null Count  Dtype  \n",
            "---  ------                          --------------  -----  \n",
            " 0   id                              48895 non-null  int64  \n",
            " 1   name                            48879 non-null  object \n",
            " 2   host_id                         48895 non-null  int64  \n",
            " 3   host_name                       48874 non-null  object \n",
            " 4   neighbourhood_group             48895 non-null  object \n",
            " 5   neighbourhood                   48895 non-null  object \n",
            " 6   latitude                        48895 non-null  float64\n",
            " 7   longitude                       48895 non-null  float64\n",
            " 8   room_type                       48895 non-null  object \n",
            " 9   price                           48895 non-null  int64  \n",
            " 10  minimum_nights                  48895 non-null  int64  \n",
            " 11  number_of_reviews               48895 non-null  int64  \n",
            " 12  last_review                     38843 non-null  object \n",
            " 13  reviews_per_month               38843 non-null  float64\n",
            " 14  calculated_host_listings_count  48895 non-null  int64  \n",
            " 15  availability_365                48895 non-null  int64  \n",
            "dtypes: float64(3), int64(7), object(6)\n",
            "memory usage: 6.0+ MB\n"
          ],
          "name": "stdout"
        }
      ]
    },
    {
      "cell_type": "code",
      "metadata": {
        "colab": {
          "base_uri": "https://localhost:8080/",
          "height": 251
        },
        "id": "o7DU23j4PGNx",
        "outputId": "ca57e363-fc2c-4661-ab42-2a13d43477ac"
      },
      "source": [
        "df.head(2)"
      ],
      "execution_count": 99,
      "outputs": [
        {
          "output_type": "execute_result",
          "data": {
            "text/html": [
              "<div>\n",
              "<style scoped>\n",
              "    .dataframe tbody tr th:only-of-type {\n",
              "        vertical-align: middle;\n",
              "    }\n",
              "\n",
              "    .dataframe tbody tr th {\n",
              "        vertical-align: top;\n",
              "    }\n",
              "\n",
              "    .dataframe thead th {\n",
              "        text-align: right;\n",
              "    }\n",
              "</style>\n",
              "<table border=\"1\" class=\"dataframe\">\n",
              "  <thead>\n",
              "    <tr style=\"text-align: right;\">\n",
              "      <th></th>\n",
              "      <th>id</th>\n",
              "      <th>name</th>\n",
              "      <th>host_id</th>\n",
              "      <th>host_name</th>\n",
              "      <th>neighbourhood_group</th>\n",
              "      <th>neighbourhood</th>\n",
              "      <th>latitude</th>\n",
              "      <th>longitude</th>\n",
              "      <th>room_type</th>\n",
              "      <th>price</th>\n",
              "      <th>minimum_nights</th>\n",
              "      <th>number_of_reviews</th>\n",
              "      <th>last_review</th>\n",
              "      <th>reviews_per_month</th>\n",
              "      <th>calculated_host_listings_count</th>\n",
              "      <th>availability_365</th>\n",
              "    </tr>\n",
              "  </thead>\n",
              "  <tbody>\n",
              "    <tr>\n",
              "      <th>0</th>\n",
              "      <td>2539</td>\n",
              "      <td>Clean &amp; quiet apt home by the park</td>\n",
              "      <td>2787</td>\n",
              "      <td>John</td>\n",
              "      <td>Brooklyn</td>\n",
              "      <td>Kensington</td>\n",
              "      <td>40.64749</td>\n",
              "      <td>-73.97237</td>\n",
              "      <td>Private room</td>\n",
              "      <td>149</td>\n",
              "      <td>1</td>\n",
              "      <td>9</td>\n",
              "      <td>2018-10-19</td>\n",
              "      <td>0.21</td>\n",
              "      <td>6</td>\n",
              "      <td>365</td>\n",
              "    </tr>\n",
              "    <tr>\n",
              "      <th>1</th>\n",
              "      <td>2595</td>\n",
              "      <td>Skylit Midtown Castle</td>\n",
              "      <td>2845</td>\n",
              "      <td>Jennifer</td>\n",
              "      <td>Manhattan</td>\n",
              "      <td>Midtown</td>\n",
              "      <td>40.75362</td>\n",
              "      <td>-73.98377</td>\n",
              "      <td>Entire home/apt</td>\n",
              "      <td>225</td>\n",
              "      <td>1</td>\n",
              "      <td>45</td>\n",
              "      <td>2019-05-21</td>\n",
              "      <td>0.38</td>\n",
              "      <td>2</td>\n",
              "      <td>355</td>\n",
              "    </tr>\n",
              "  </tbody>\n",
              "</table>\n",
              "</div>"
            ],
            "text/plain": [
              "     id  ... availability_365\n",
              "0  2539  ...              365\n",
              "1  2595  ...              355\n",
              "\n",
              "[2 rows x 16 columns]"
            ]
          },
          "metadata": {
            "tags": []
          },
          "execution_count": 99
        }
      ]
    },
    {
      "cell_type": "markdown",
      "metadata": {
        "id": "ddGCvC7RJq4O"
      },
      "source": [
        "This is quite a large data set having wide range of features... we'll first see if columns are having appropriate data types "
      ]
    },
    {
      "cell_type": "markdown",
      "metadata": {
        "id": "Nd1SW7ld5vPn"
      },
      "source": [
        "The only column with inopropriate data type is last_review and availability_365 remaining all are fine"
      ]
    },
    {
      "cell_type": "code",
      "metadata": {
        "id": "cN6_Ihi65q5x"
      },
      "source": [
        "#parsing the last review from object to date\r\n",
        "df['last_review'] = pd.to_datetime(df['last_review'])\r\n",
        "df['availability_365'] = pd.to_timedelta(df['availability_365'])"
      ],
      "execution_count": 100,
      "outputs": []
    },
    {
      "cell_type": "code",
      "metadata": {
        "colab": {
          "base_uri": "https://localhost:8080/"
        },
        "id": "CzJpU-UyLtVv",
        "outputId": "75199d86-ea7f-4dd2-8d5a-b480cdbfd2af"
      },
      "source": [
        "#number of null values in each column\r\n",
        "print(df.isnull().sum())"
      ],
      "execution_count": 101,
      "outputs": [
        {
          "output_type": "stream",
          "text": [
            "id                                    0\n",
            "name                                 16\n",
            "host_id                               0\n",
            "host_name                            21\n",
            "neighbourhood_group                   0\n",
            "neighbourhood                         0\n",
            "latitude                              0\n",
            "longitude                             0\n",
            "room_type                             0\n",
            "price                                 0\n",
            "minimum_nights                        0\n",
            "number_of_reviews                     0\n",
            "last_review                       10052\n",
            "reviews_per_month                 10052\n",
            "calculated_host_listings_count        0\n",
            "availability_365                      0\n",
            "dtype: int64\n"
          ],
          "name": "stdout"
        }
      ]
    },
    {
      "cell_type": "markdown",
      "metadata": {
        "id": "N7Eh1GZANIBs"
      },
      "source": [
        "Columns with null values are name , host_name , last_review and reviews_per_month \r\n",
        "In these we'll use **name** to do analysis as it describes the room and contains valueble info about room , **host_name** we don't need at all as it doesn't add any relevance to the analysis , and next **last_review** and **reviews_per_month** have large number of null values we'll check the reason as to why."
      ]
    },
    {
      "cell_type": "code",
      "metadata": {
        "id": "3n1mYhfxP_iv"
      },
      "source": [
        "#dropping rows with no name\r\n",
        "df = df[~df['name'].isna()]\r\n",
        "#dropping the entire column of host_name as it is insignificant\r\n",
        "df.drop('host_name',axis=1 , inplace=True)"
      ],
      "execution_count": 102,
      "outputs": []
    },
    {
      "cell_type": "code",
      "metadata": {
        "colab": {
          "base_uri": "https://localhost:8080/",
          "height": 799
        },
        "id": "ItjCtSDCQmnE",
        "outputId": "3b19820b-ba9a-4bf0-91a5-4f82e55b6f55"
      },
      "source": [
        "#observing data with last_review as null\r\n",
        "df[df['last_review'].isna()]"
      ],
      "execution_count": 103,
      "outputs": [
        {
          "output_type": "execute_result",
          "data": {
            "text/html": [
              "<div>\n",
              "<style scoped>\n",
              "    .dataframe tbody tr th:only-of-type {\n",
              "        vertical-align: middle;\n",
              "    }\n",
              "\n",
              "    .dataframe tbody tr th {\n",
              "        vertical-align: top;\n",
              "    }\n",
              "\n",
              "    .dataframe thead th {\n",
              "        text-align: right;\n",
              "    }\n",
              "</style>\n",
              "<table border=\"1\" class=\"dataframe\">\n",
              "  <thead>\n",
              "    <tr style=\"text-align: right;\">\n",
              "      <th></th>\n",
              "      <th>id</th>\n",
              "      <th>name</th>\n",
              "      <th>host_id</th>\n",
              "      <th>neighbourhood_group</th>\n",
              "      <th>neighbourhood</th>\n",
              "      <th>latitude</th>\n",
              "      <th>longitude</th>\n",
              "      <th>room_type</th>\n",
              "      <th>price</th>\n",
              "      <th>minimum_nights</th>\n",
              "      <th>number_of_reviews</th>\n",
              "      <th>last_review</th>\n",
              "      <th>reviews_per_month</th>\n",
              "      <th>calculated_host_listings_count</th>\n",
              "      <th>availability_365</th>\n",
              "    </tr>\n",
              "  </thead>\n",
              "  <tbody>\n",
              "    <tr>\n",
              "      <th>2</th>\n",
              "      <td>3647</td>\n",
              "      <td>THE VILLAGE OF HARLEM....NEW YORK !</td>\n",
              "      <td>4632</td>\n",
              "      <td>Manhattan</td>\n",
              "      <td>Harlem</td>\n",
              "      <td>40.80902</td>\n",
              "      <td>-73.94190</td>\n",
              "      <td>Private room</td>\n",
              "      <td>150</td>\n",
              "      <td>3</td>\n",
              "      <td>0</td>\n",
              "      <td>NaT</td>\n",
              "      <td>NaN</td>\n",
              "      <td>1</td>\n",
              "      <td>0 days 00:00:00.000000365</td>\n",
              "    </tr>\n",
              "    <tr>\n",
              "      <th>19</th>\n",
              "      <td>7750</td>\n",
              "      <td>Huge 2 BR Upper East  Cental Park</td>\n",
              "      <td>17985</td>\n",
              "      <td>Manhattan</td>\n",
              "      <td>East Harlem</td>\n",
              "      <td>40.79685</td>\n",
              "      <td>-73.94872</td>\n",
              "      <td>Entire home/apt</td>\n",
              "      <td>190</td>\n",
              "      <td>7</td>\n",
              "      <td>0</td>\n",
              "      <td>NaT</td>\n",
              "      <td>NaN</td>\n",
              "      <td>2</td>\n",
              "      <td>0 days 00:00:00.000000249</td>\n",
              "    </tr>\n",
              "    <tr>\n",
              "      <th>26</th>\n",
              "      <td>8700</td>\n",
              "      <td>Magnifique Suite au N de Manhattan - vue Cloitres</td>\n",
              "      <td>26394</td>\n",
              "      <td>Manhattan</td>\n",
              "      <td>Inwood</td>\n",
              "      <td>40.86754</td>\n",
              "      <td>-73.92639</td>\n",
              "      <td>Private room</td>\n",
              "      <td>80</td>\n",
              "      <td>4</td>\n",
              "      <td>0</td>\n",
              "      <td>NaT</td>\n",
              "      <td>NaN</td>\n",
              "      <td>1</td>\n",
              "      <td>0 days 00:00:00</td>\n",
              "    </tr>\n",
              "    <tr>\n",
              "      <th>36</th>\n",
              "      <td>11452</td>\n",
              "      <td>Clean and Quiet in Brooklyn</td>\n",
              "      <td>7355</td>\n",
              "      <td>Brooklyn</td>\n",
              "      <td>Bedford-Stuyvesant</td>\n",
              "      <td>40.68876</td>\n",
              "      <td>-73.94312</td>\n",
              "      <td>Private room</td>\n",
              "      <td>35</td>\n",
              "      <td>60</td>\n",
              "      <td>0</td>\n",
              "      <td>NaT</td>\n",
              "      <td>NaN</td>\n",
              "      <td>1</td>\n",
              "      <td>0 days 00:00:00.000000365</td>\n",
              "    </tr>\n",
              "    <tr>\n",
              "      <th>38</th>\n",
              "      <td>11943</td>\n",
              "      <td>Country space in the city</td>\n",
              "      <td>45445</td>\n",
              "      <td>Brooklyn</td>\n",
              "      <td>Flatbush</td>\n",
              "      <td>40.63702</td>\n",
              "      <td>-73.96327</td>\n",
              "      <td>Private room</td>\n",
              "      <td>150</td>\n",
              "      <td>1</td>\n",
              "      <td>0</td>\n",
              "      <td>NaT</td>\n",
              "      <td>NaN</td>\n",
              "      <td>1</td>\n",
              "      <td>0 days 00:00:00.000000365</td>\n",
              "    </tr>\n",
              "    <tr>\n",
              "      <th>...</th>\n",
              "      <td>...</td>\n",
              "      <td>...</td>\n",
              "      <td>...</td>\n",
              "      <td>...</td>\n",
              "      <td>...</td>\n",
              "      <td>...</td>\n",
              "      <td>...</td>\n",
              "      <td>...</td>\n",
              "      <td>...</td>\n",
              "      <td>...</td>\n",
              "      <td>...</td>\n",
              "      <td>...</td>\n",
              "      <td>...</td>\n",
              "      <td>...</td>\n",
              "      <td>...</td>\n",
              "    </tr>\n",
              "    <tr>\n",
              "      <th>48890</th>\n",
              "      <td>36484665</td>\n",
              "      <td>Charming one bedroom - newly renovated rowhouse</td>\n",
              "      <td>8232441</td>\n",
              "      <td>Brooklyn</td>\n",
              "      <td>Bedford-Stuyvesant</td>\n",
              "      <td>40.67853</td>\n",
              "      <td>-73.94995</td>\n",
              "      <td>Private room</td>\n",
              "      <td>70</td>\n",
              "      <td>2</td>\n",
              "      <td>0</td>\n",
              "      <td>NaT</td>\n",
              "      <td>NaN</td>\n",
              "      <td>2</td>\n",
              "      <td>0 days 00:00:00.000000009</td>\n",
              "    </tr>\n",
              "    <tr>\n",
              "      <th>48891</th>\n",
              "      <td>36485057</td>\n",
              "      <td>Affordable room in Bushwick/East Williamsburg</td>\n",
              "      <td>6570630</td>\n",
              "      <td>Brooklyn</td>\n",
              "      <td>Bushwick</td>\n",
              "      <td>40.70184</td>\n",
              "      <td>-73.93317</td>\n",
              "      <td>Private room</td>\n",
              "      <td>40</td>\n",
              "      <td>4</td>\n",
              "      <td>0</td>\n",
              "      <td>NaT</td>\n",
              "      <td>NaN</td>\n",
              "      <td>2</td>\n",
              "      <td>0 days 00:00:00.000000036</td>\n",
              "    </tr>\n",
              "    <tr>\n",
              "      <th>48892</th>\n",
              "      <td>36485431</td>\n",
              "      <td>Sunny Studio at Historical Neighborhood</td>\n",
              "      <td>23492952</td>\n",
              "      <td>Manhattan</td>\n",
              "      <td>Harlem</td>\n",
              "      <td>40.81475</td>\n",
              "      <td>-73.94867</td>\n",
              "      <td>Entire home/apt</td>\n",
              "      <td>115</td>\n",
              "      <td>10</td>\n",
              "      <td>0</td>\n",
              "      <td>NaT</td>\n",
              "      <td>NaN</td>\n",
              "      <td>1</td>\n",
              "      <td>0 days 00:00:00.000000027</td>\n",
              "    </tr>\n",
              "    <tr>\n",
              "      <th>48893</th>\n",
              "      <td>36485609</td>\n",
              "      <td>43rd St. Time Square-cozy single bed</td>\n",
              "      <td>30985759</td>\n",
              "      <td>Manhattan</td>\n",
              "      <td>Hell's Kitchen</td>\n",
              "      <td>40.75751</td>\n",
              "      <td>-73.99112</td>\n",
              "      <td>Shared room</td>\n",
              "      <td>55</td>\n",
              "      <td>1</td>\n",
              "      <td>0</td>\n",
              "      <td>NaT</td>\n",
              "      <td>NaN</td>\n",
              "      <td>6</td>\n",
              "      <td>0 days 00:00:00.000000002</td>\n",
              "    </tr>\n",
              "    <tr>\n",
              "      <th>48894</th>\n",
              "      <td>36487245</td>\n",
              "      <td>Trendy duplex in the very heart of Hell's Kitchen</td>\n",
              "      <td>68119814</td>\n",
              "      <td>Manhattan</td>\n",
              "      <td>Hell's Kitchen</td>\n",
              "      <td>40.76404</td>\n",
              "      <td>-73.98933</td>\n",
              "      <td>Private room</td>\n",
              "      <td>90</td>\n",
              "      <td>7</td>\n",
              "      <td>0</td>\n",
              "      <td>NaT</td>\n",
              "      <td>NaN</td>\n",
              "      <td>1</td>\n",
              "      <td>0 days 00:00:00.000000023</td>\n",
              "    </tr>\n",
              "  </tbody>\n",
              "</table>\n",
              "<p>10042 rows × 15 columns</p>\n",
              "</div>"
            ],
            "text/plain": [
              "             id  ...          availability_365\n",
              "2          3647  ... 0 days 00:00:00.000000365\n",
              "19         7750  ... 0 days 00:00:00.000000249\n",
              "26         8700  ...           0 days 00:00:00\n",
              "36        11452  ... 0 days 00:00:00.000000365\n",
              "38        11943  ... 0 days 00:00:00.000000365\n",
              "...         ...  ...                       ...\n",
              "48890  36484665  ... 0 days 00:00:00.000000009\n",
              "48891  36485057  ... 0 days 00:00:00.000000036\n",
              "48892  36485431  ... 0 days 00:00:00.000000027\n",
              "48893  36485609  ... 0 days 00:00:00.000000002\n",
              "48894  36487245  ... 0 days 00:00:00.000000023\n",
              "\n",
              "[10042 rows x 15 columns]"
            ]
          },
          "metadata": {
            "tags": []
          },
          "execution_count": 103
        }
      ]
    },
    {
      "cell_type": "markdown",
      "metadata": {
        "id": "rIvequkgQ75Y"
      },
      "source": [
        "We can see in the data that last_month and number_of_reviews are na when number_of_reviews are 0 , so it makes sence we just need to assign them appropriate values\r\n",
        "1)**number_of_reviews** we'll assign this to 0 as total number of reviews  are 0\r\n",
        "2)**last_reviews** we'll assign NA to this as we wo'nt be using this column for most of the analysis except for the analysis that are based on the availability of listing or if it is active now same goes with **availability_365** we'll use this to answer questions on how busy a host is ,when we are doing those analysis we'll remove rows with null values as those contains large chunk of rows and it doesn't make sense to remove them when we don't need these features\r\n",
        "\r\n"
      ]
    },
    {
      "cell_type": "code",
      "metadata": {
        "id": "mnWLzMwXSs7y"
      },
      "source": [
        "df['reviews_per_month'].fillna(0,inplace=True)\r\n",
        "df['last_review'].fillna('NA',inplace=True)"
      ],
      "execution_count": 104,
      "outputs": []
    },
    {
      "cell_type": "code",
      "metadata": {
        "colab": {
          "base_uri": "https://localhost:8080/"
        },
        "id": "uX5ufc4HTXmF",
        "outputId": "54963961-4a48-44b9-876c-fd7f94415748"
      },
      "source": [
        "df.info()"
      ],
      "execution_count": 105,
      "outputs": [
        {
          "output_type": "stream",
          "text": [
            "<class 'pandas.core.frame.DataFrame'>\n",
            "Int64Index: 48879 entries, 0 to 48894\n",
            "Data columns (total 15 columns):\n",
            " #   Column                          Non-Null Count  Dtype          \n",
            "---  ------                          --------------  -----          \n",
            " 0   id                              48879 non-null  int64          \n",
            " 1   name                            48879 non-null  object         \n",
            " 2   host_id                         48879 non-null  int64          \n",
            " 3   neighbourhood_group             48879 non-null  object         \n",
            " 4   neighbourhood                   48879 non-null  object         \n",
            " 5   latitude                        48879 non-null  float64        \n",
            " 6   longitude                       48879 non-null  float64        \n",
            " 7   room_type                       48879 non-null  object         \n",
            " 8   price                           48879 non-null  int64          \n",
            " 9   minimum_nights                  48879 non-null  int64          \n",
            " 10  number_of_reviews               48879 non-null  int64          \n",
            " 11  last_review                     48879 non-null  object         \n",
            " 12  reviews_per_month               48879 non-null  float64        \n",
            " 13  calculated_host_listings_count  48879 non-null  int64          \n",
            " 14  availability_365                48879 non-null  timedelta64[ns]\n",
            "dtypes: float64(3), int64(6), object(5), timedelta64[ns](1)\n",
            "memory usage: 6.0+ MB\n"
          ],
          "name": "stdout"
        }
      ]
    },
    {
      "cell_type": "markdown",
      "metadata": {
        "id": "vss_R4kyUD6X"
      },
      "source": [
        "We can proceed as there are no null values now\r\n"
      ]
    },
    {
      "cell_type": "markdown",
      "metadata": {
        "id": "nT8Nwn7PUZcD"
      },
      "source": [
        "# Data types\r\n",
        "We'll devide the data into the types \r\n",
        "\r\n",
        "\r\n",
        "1.   Categorical - id , name , host_id , neighbourhood_group , neighbourhood , room_type \r\n",
        "2.   Numerical - price , minimum_nights , number_of_reviews , reviews_per_month,calculated_host_listings_count,availability_365, latitude , longitude \r\n",
        "\r\n"
      ]
    },
    {
      "cell_type": "markdown",
      "metadata": {
        "id": "M0sb_8CvXgI2"
      },
      "source": [
        "We'll explore numerical data types first as they might contain outliers"
      ]
    },
    {
      "cell_type": "code",
      "metadata": {
        "colab": {
          "base_uri": "https://localhost:8080/",
          "height": 439
        },
        "id": "6LGEF8Rla82V",
        "outputId": "e94dd377-1cb6-42de-bed3-979d15d7373b"
      },
      "source": [
        "print(df['price'].describe())\r\n",
        "df['price'].plot.hist(bins=100)"
      ],
      "execution_count": 107,
      "outputs": [
        {
          "output_type": "stream",
          "text": [
            "count    48879.000000\n",
            "mean       152.722355\n",
            "std        240.186804\n",
            "min          0.000000\n",
            "25%         69.000000\n",
            "50%        106.000000\n",
            "75%        175.000000\n",
            "max      10000.000000\n",
            "Name: price, dtype: float64\n"
          ],
          "name": "stdout"
        },
        {
          "output_type": "execute_result",
          "data": {
            "text/plain": [
              "<matplotlib.axes._subplots.AxesSubplot at 0x7f9edace9490>"
            ]
          },
          "metadata": {
            "tags": []
          },
          "execution_count": 107
        },
        {
          "output_type": "display_data",
          "data": {
            "image/png": "[encoded data removed]",
            "text/plain": [
              "<Figure size 432x288 with 1 Axes>"
            ]
          },
          "metadata": {
            "tags": [],
            "needs_background": "light"
          }
        }
      ]
    },
    {
      "cell_type": "markdown",
      "metadata": {
        "id": "1OirSFGObYqv"
      },
      "source": [
        "As we can see from graph and describe most of the price is below 1000 so we'll only consider that"
      ]
    },
    {
      "cell_type": "code",
      "metadata": {
        "id": "C8Zmq179cMZJ"
      },
      "source": [
        "df = df[df['price'] < 1000]"
      ],
      "execution_count": 50,
      "outputs": []
    },
    {
      "cell_type": "markdown",
      "metadata": {
        "id": "VO2mZ2LR0eb8"
      },
      "source": [
        "#"
      ]
    },
    {
      "cell_type": "code",
      "metadata": {
        "colab": {
          "base_uri": "https://localhost:8080/",
          "height": 283
        },
        "id": "aMhIKX6RcYhh",
        "outputId": "9354162a-59a8-4798-b227-9a5c8e37d61c"
      },
      "source": [
        "#distribution of new values of new values\r\n",
        "df['price'].plot.hist(bins=100)"
      ],
      "execution_count": 168,
      "outputs": [
        {
          "output_type": "execute_result",
          "data": {
            "text/plain": [
              "<matplotlib.axes._subplots.AxesSubplot at 0x7f9ed8445c50>"
            ]
          },
          "metadata": {
            "tags": []
          },
          "execution_count": 168
        },
        {
          "output_type": "display_data",
          "data": {
            "image/png": "[encoded data removed]",
            "text/plain": [
              "<Figure size 432x288 with 1 Axes>"
            ]
          },
          "metadata": {
            "tags": [],
            "needs_background": "light"
          }
        }
      ]
    },
    {
      "cell_type": "markdown",
      "metadata": {
        "id": "wu5kjlp3cmmS"
      },
      "source": [
        "There are still some outliers but we'll consider them as to allow for how expensive rents can be in new york"
      ]
    },
    {
      "cell_type": "code",
      "metadata": {
        "colab": {
          "base_uri": "https://localhost:8080/",
          "height": 439
        },
        "id": "GhMd9_lcc_PM",
        "outputId": "7becbcfe-460e-4065-c97c-05aaf3e38d26"
      },
      "source": [
        "print(df['minimum_nights'].describe())\r\n",
        "df['minimum_nights'].plot.hist(bins=100)"
      ],
      "execution_count": 110,
      "outputs": [
        {
          "output_type": "stream",
          "text": [
            "count    48879.000000\n",
            "mean         7.011027\n",
            "std         20.016000\n",
            "min          1.000000\n",
            "25%          1.000000\n",
            "50%          3.000000\n",
            "75%          5.000000\n",
            "max       1250.000000\n",
            "Name: minimum_nights, dtype: float64\n"
          ],
          "name": "stdout"
        },
        {
          "output_type": "execute_result",
          "data": {
            "text/plain": [
              "<matplotlib.axes._subplots.AxesSubplot at 0x7f9edb045e90>"
            ]
          },
          "metadata": {
            "tags": []
          },
          "execution_count": 110
        },
        {
          "output_type": "display_data",
          "data": {
            "image/png": "[encoded data removed]",
            "text/plain": [
              "<Figure size 432x288 with 1 Axes>"
            ]
          },
          "metadata": {
            "tags": [],
            "needs_background": "light"
          }
        }
      ]
    },
    {
      "cell_type": "markdown",
      "metadata": {
        "id": "KYTWgZB0dcHI"
      },
      "source": [
        "We can see that most of the data is less than 10 but there is peak somewhere around 50 "
      ]
    },
    {
      "cell_type": "code",
      "metadata": {
        "colab": {
          "base_uri": "https://localhost:8080/"
        },
        "id": "jG1lb8OBdaig",
        "outputId": "598feff6-9866-4b73-dafd-a5811d7f0d4b"
      },
      "source": [
        "#extreme outliers\r\n",
        "df['minimum_nights'].quantile(0.98)"
      ],
      "execution_count": 111,
      "outputs": [
        {
          "output_type": "execute_result",
          "data": {
            "text/plain": [
              "30.0"
            ]
          },
          "metadata": {
            "tags": []
          },
          "execution_count": 111
        }
      ]
    },
    {
      "cell_type": "markdown",
      "metadata": {
        "id": "a6HnOyu1d5EZ"
      },
      "source": [
        "We'll consider listings below this as this is 1 month which some hosts prefer "
      ]
    },
    {
      "cell_type": "code",
      "metadata": {
        "id": "bOaUd3xteVrb"
      },
      "source": [
        "df = df[df['minimum_nights'] <= 30]"
      ],
      "execution_count": 112,
      "outputs": []
    },
    {
      "cell_type": "code",
      "metadata": {
        "colab": {
          "base_uri": "https://localhost:8080/",
          "height": 283
        },
        "id": "Xlf0Efo_egPU",
        "outputId": "a74813ed-b743-4e7d-e651-27bf9f2e0ebe"
      },
      "source": [
        "df['minimum_nights'].plot.hist(bins=100)"
      ],
      "execution_count": 113,
      "outputs": [
        {
          "output_type": "execute_result",
          "data": {
            "text/plain": [
              "<matplotlib.axes._subplots.AxesSubplot at 0x7f9edb0d7c10>"
            ]
          },
          "metadata": {
            "tags": []
          },
          "execution_count": 113
        },
        {
          "output_type": "display_data",
          "data": {
            "image/png": "[encoded data removed]",
            "text/plain": [
              "<Figure size 432x288 with 1 Axes>"
            ]
          },
          "metadata": {
            "tags": [],
            "needs_background": "light"
          }
        }
      ]
    },
    {
      "cell_type": "markdown",
      "metadata": {
        "id": "63Qq2f2DerGU"
      },
      "source": [
        "Yes this is as we speculated most of the values are skewed to 0 and there are some at 30"
      ]
    },
    {
      "cell_type": "code",
      "metadata": {
        "id": "y-jqlHiL29r_"
      },
      "source": [
        "#hypothesis\r\n",
        "#city price ---chittaranjan\r\n",
        "#neighbourhood and price ---nurul\r\n",
        "#room type and price---nurul\r\n",
        "#price and number of reviews-- nurul\r\n",
        "#minimum_nights and number_of_reviews --- chittaranjan\r\n",
        "#host id reviews per month .....how busy a host is why....spread of price location , room type --- bhanu\r\n",
        "#based on map  --- bhanu\r\n",
        "#last_review to see the closed listings ---nirola\r\n",
        "#text ----nirola"
      ],
      "execution_count": null,
      "outputs": []
    },
    {
      "cell_type": "markdown",
      "metadata": {
        "id": "I4gwd9blfibK"
      },
      "source": [
        "Now let us see categorical columns"
      ]
    },
    {
      "cell_type": "markdown",
      "metadata": {
        "id": "9UBq7nhEhsN_"
      },
      "source": [
        "Let us create segregate our data into unique values of each of the category one by one\r\n",
        "\r\n",
        "\r\n",
        "1.  neighbourhood\r\n",
        "2.  type_of_room\r\n",
        "3.  neighbourhood_groups\r\n",
        "4.  host_id\r\n",
        "\r\n",
        "\r\n",
        "\r\n"
      ]
    },
    {
      "cell_type": "code",
      "metadata": {
        "id": "WHbWYZP2gpaD"
      },
      "source": [
        "#storing unique values of categorical columns to do analysis\r\n",
        "neighbourhoods = list(df['neighbourhood'].unique())\r\n",
        "neighbourhood_groups = list(df['neighbourhood_group'].unique())\r\n",
        "type_of_rooms = list(df['room_type'].unique())\r\n",
        "hosts = list(df['host_id'].unique())"
      ],
      "execution_count": 114,
      "outputs": []
    },
    {
      "cell_type": "code",
      "metadata": {
        "id": "uVILhkJuQ4Vi"
      },
      "source": [
        "def get_neighbourhood(row):\r\n",
        "  return list(set(list(df.loc[df['neighbourhood_group'] == row,'neighbourhood'])))"
      ],
      "execution_count": 152,
      "outputs": []
    },
    {
      "cell_type": "code",
      "metadata": {
        "id": "HVcJU_t0heQ0"
      },
      "source": [
        "neighbourhood_df = (df.groupby('neighbourhood_group')['id'].count().reset_index().sort_values('id',ascending=False).rename(columns={'id':'number_of_listings'}))\r\n",
        "neighbourhood_df['percentage'] = neighbourhood_df['number_of_listings'].apply(lambda row: round(row*100/df['id'].count(),2))\r\n",
        "neighbourhood_df['number_of_reviews'] = (df.groupby('neighbourhood_group')['number_of_reviews'].sum().reset_index())['number_of_reviews']\r\n",
        "neighbourhood_df['reviews_per_month'] = (df.groupby('neighbourhood_group')['reviews_per_month'].sum().reset_index())['reviews_per_month']\r\n",
        "neighbourhood_df['average_rice'] = (df.groupby('neighbourhood_group')['price'].mean().reset_index())['price']\r\n",
        "neighbourhood_df['standard_deviation'] = (df.groupby('neighbourhood_group')['price'].std().reset_index())['price']\r\n",
        "neighbourhood_df['neighbourhoods'] = neighbourhood_df['neighbourhood_group'].apply(get_neighbourhood)"
      ],
      "execution_count": 153,
      "outputs": []
    },
    {
      "cell_type": "code",
      "metadata": {
        "colab": {
          "base_uri": "https://localhost:8080/",
          "height": 341
        },
        "id": "aI9D8O16ki7-",
        "outputId": "f81d682f-d51d-4b6f-cd6c-f72f6872b404"
      },
      "source": [
        "neighbourhood_df"
      ],
      "execution_count": 154,
      "outputs": [
        {
          "output_type": "execute_result",
          "data": {
            "text/html": [
              "<div>\n",
              "<style scoped>\n",
              "    .dataframe tbody tr th:only-of-type {\n",
              "        vertical-align: middle;\n",
              "    }\n",
              "\n",
              "    .dataframe tbody tr th {\n",
              "        vertical-align: top;\n",
              "    }\n",
              "\n",
              "    .dataframe thead th {\n",
              "        text-align: right;\n",
              "    }\n",
              "</style>\n",
              "<table border=\"1\" class=\"dataframe\">\n",
              "  <thead>\n",
              "    <tr style=\"text-align: right;\">\n",
              "      <th></th>\n",
              "      <th>neighbourhood_group</th>\n",
              "      <th>number_of_listings</th>\n",
              "      <th>percentage</th>\n",
              "      <th>number_of_reviews</th>\n",
              "      <th>reviews_per_month</th>\n",
              "      <th>average_rice</th>\n",
              "      <th>standard_deviation</th>\n",
              "      <th>neighbourhoods</th>\n",
              "    </tr>\n",
              "  </thead>\n",
              "  <tbody>\n",
              "    <tr>\n",
              "      <th>2</th>\n",
              "      <td>Manhattan</td>\n",
              "      <td>21231</td>\n",
              "      <td>44.11</td>\n",
              "      <td>450280</td>\n",
              "      <td>21014.95</td>\n",
              "      <td>195.559088</td>\n",
              "      <td>278.282770</td>\n",
              "      <td>[Marble Hill, Greenwich Village, East Harlem, ...</td>\n",
              "    </tr>\n",
              "    <tr>\n",
              "      <th>1</th>\n",
              "      <td>Brooklyn</td>\n",
              "      <td>19845</td>\n",
              "      <td>41.23</td>\n",
              "      <td>483443</td>\n",
              "      <td>21026.87</td>\n",
              "      <td>123.572739</td>\n",
              "      <td>180.728686</td>\n",
              "      <td>[Williamsburg, Sheepshead Bay, Carroll Gardens...</td>\n",
              "    </tr>\n",
              "    <tr>\n",
              "      <th>3</th>\n",
              "      <td>Queens</td>\n",
              "      <td>5611</td>\n",
              "      <td>11.66</td>\n",
              "      <td>156343</td>\n",
              "      <td>8868.15</td>\n",
              "      <td>97.249866</td>\n",
              "      <td>95.600140</td>\n",
              "      <td>[South Ozone Park, Corona, Briarwood, Ridgewoo...</td>\n",
              "    </tr>\n",
              "    <tr>\n",
              "      <th>0</th>\n",
              "      <td>Bronx</td>\n",
              "      <td>1077</td>\n",
              "      <td>2.24</td>\n",
              "      <td>28319</td>\n",
              "      <td>1608.07</td>\n",
              "      <td>87.683380</td>\n",
              "      <td>107.337597</td>\n",
              "      <td>[Mott Haven, Concourse, Parkchester, Van Nest,...</td>\n",
              "    </tr>\n",
              "    <tr>\n",
              "      <th>4</th>\n",
              "      <td>Staten Island</td>\n",
              "      <td>369</td>\n",
              "      <td>0.77</td>\n",
              "      <td>11540</td>\n",
              "      <td>586.99</td>\n",
              "      <td>115.352304</td>\n",
              "      <td>279.066068</td>\n",
              "      <td>[Bull's Head, Arden Heights, Todt Hill, Howlan...</td>\n",
              "    </tr>\n",
              "  </tbody>\n",
              "</table>\n",
              "</div>"
            ],
            "text/plain": [
              "  neighbourhood_group  ...                                     neighbourhoods\n",
              "2           Manhattan  ...  [Marble Hill, Greenwich Village, East Harlem, ...\n",
              "1            Brooklyn  ...  [Williamsburg, Sheepshead Bay, Carroll Gardens...\n",
              "3              Queens  ...  [South Ozone Park, Corona, Briarwood, Ridgewoo...\n",
              "0               Bronx  ...  [Mott Haven, Concourse, Parkchester, Van Nest,...\n",
              "4       Staten Island  ...  [Bull's Head, Arden Heights, Todt Hill, Howlan...\n",
              "\n",
              "[5 rows x 8 columns]"
            ]
          },
          "metadata": {
            "tags": []
          },
          "execution_count": 154
        }
      ]
    },
    {
      "cell_type": "code",
      "metadata": {
        "colab": {
          "base_uri": "https://localhost:8080/",
          "height": 235
        },
        "id": "_6PlMXksey6W",
        "outputId": "83fc4d2b-8287-43a9-ffac-997edb048cda"
      },
      "source": [
        "street_map = gpd.read_file('/content/drive/MyDrive/Boundaries/Borough Boundaries.zip (Unzipped Files)/geo_export_dbd0e1ff-776d-4f46-9c1f-42844dbaa345.shp')\r\n",
        "goemetry = [Point(xy) for xy in zip(df['longitude'],df['latitude'])]\r\n",
        "\r\n",
        "\r\n",
        "geo_df = geopandas.GeoDataFrame(df,geometry = goemetry)\r\n",
        "\r\n",
        "fig,ax = plt.subplots(figsize = (15,10))\r\n",
        "\r\n",
        "street_map.plot(ax = ax ,alpha = 0.4 )\r\n",
        "geo_df.plot(column='price',ax = ax , alpha = 0.4 , legend = True , marketsize = 10)\r\n",
        "plt.title('Rental Prices in NYC')\r\n",
        "plt.xlim(-74.02,-73.925)\r\n",
        "plt.ylim(40.7,40.8)"
      ],
      "execution_count": 167,
      "outputs": [
        {
          "output_type": "error",
          "ename": "NameError",
          "evalue": "ignored",
          "traceback": [
            "\u001b[0;31m---------------------------------------------------------------------------\u001b[0m",
            "\u001b[0;31mNameError\u001b[0m                                 Traceback (most recent call last)",
            "\u001b[0;32m<ipython-input-167-cb4ed8453778>\u001b[0m in \u001b[0;36m<module>\u001b[0;34m()\u001b[0m\n\u001b[1;32m      3\u001b[0m \u001b[0;34m\u001b[0m\u001b[0m\n\u001b[1;32m      4\u001b[0m \u001b[0;34m\u001b[0m\u001b[0m\n\u001b[0;32m----> 5\u001b[0;31m \u001b[0mgeo_df\u001b[0m \u001b[0;34m=\u001b[0m \u001b[0mgeopandas\u001b[0m\u001b[0;34m.\u001b[0m\u001b[0mGeoDataFrame\u001b[0m\u001b[0;34m(\u001b[0m\u001b[0mdf\u001b[0m\u001b[0;34m,\u001b[0m\u001b[0mgeometry\u001b[0m \u001b[0;34m=\u001b[0m \u001b[0mgoemetry\u001b[0m\u001b[0;34m)\u001b[0m\u001b[0;34m\u001b[0m\u001b[0;34m\u001b[0m\u001b[0m\n\u001b[0m\u001b[1;32m      6\u001b[0m \u001b[0;34m\u001b[0m\u001b[0m\n\u001b[1;32m      7\u001b[0m \u001b[0mfig\u001b[0m\u001b[0;34m,\u001b[0m\u001b[0max\u001b[0m \u001b[0;34m=\u001b[0m \u001b[0mplt\u001b[0m\u001b[0;34m.\u001b[0m\u001b[0msubplots\u001b[0m\u001b[0;34m(\u001b[0m\u001b[0mfigsize\u001b[0m \u001b[0;34m=\u001b[0m \u001b[0;34m(\u001b[0m\u001b[0;36m15\u001b[0m\u001b[0;34m,\u001b[0m\u001b[0;36m10\u001b[0m\u001b[0;34m)\u001b[0m\u001b[0;34m)\u001b[0m\u001b[0;34m\u001b[0m\u001b[0;34m\u001b[0m\u001b[0m\n",
            "\u001b[0;31mNameError\u001b[0m: name 'geopandas' is not defined"
          ]
        }
      ]
    },
    {
      "cell_type": "code",
      "metadata": {
        "colab": {
          "base_uri": "https://localhost:8080/",
          "height": 427
        },
        "id": "IhD2ZhHSVvYt",
        "outputId": "6960301a-1a2a-412c-afaf-87bf44bf2cc9"
      },
      "source": [
        "plt.rcParams['figure.figsize'] = (10, 5)\r\n",
        "df.groupby(['neighbourhood_group','room_type'])['price'].mean().unstack().plot(kind=\"bar\")\r\n",
        "plt.title('Price range over different neighbourhood groups')\r\n",
        "plt.ylabel('Average Price')\r\n",
        "plt.xlabel('Neighbourhood`')"
      ],
      "execution_count": 151,
      "outputs": [
        {
          "output_type": "execute_result",
          "data": {
            "text/plain": [
              "Text(0.5, 0, 'Neighbourhood`')"
            ]
          },
          "metadata": {
            "tags": []
          },
          "execution_count": 151
        },
        {
          "output_type": "display_data",
          "data": {
            "image/png": "[encoded data removed]",
            "text/plain": [
              "<Figure size 720x360 with 1 Axes>"
            ]
          },
          "metadata": {
            "tags": []
          }
        }
      ]
    },
    {
      "cell_type": "code",
      "metadata": {
        "colab": {
          "base_uri": "https://localhost:8080/",
          "height": 501
        },
        "id": "tG1VUpzGTudH",
        "outputId": "541eb7b4-7daa-4cd4-9a6c-2774c943023e"
      },
      "source": [
        "#matplotlib.style.use('ggplot')\r\n",
        "\r\n",
        "plt.rcParams['figure.figsize'] = (8,8)\r\n",
        "\r\n",
        "#plotting\r\n",
        "plt.pie(neighbourhood_df['percentage'], labels=neighbourhood_df['neighbourhood_group'],  explode=[0.05, 0.05,0.05,0.05,0.05], autopct='%1.1f%%', shadow=True)\r\n",
        "\r\n",
        "#labeling\r\n",
        "plt.title('Percentage of listings accross New York neighbourhoods')"
      ],
      "execution_count": 150,
      "outputs": [
        {
          "output_type": "execute_result",
          "data": {
            "text/plain": [
              "Text(0.5, 1.0, 'Percentage of listings accross New York neighbourhoods')"
            ]
          },
          "metadata": {
            "tags": []
          },
          "execution_count": 150
        },
        {
          "output_type": "display_data",
          "data": {
            "image/png": "[encoded data removed]",
            "text/plain": [
              "<Figure size 576x576 with 1 Axes>"
            ]
          },
          "metadata": {
            "tags": []
          }
        }
      ]
    },
    {
      "cell_type": "markdown",
      "metadata": {
        "id": "WyWbnncUWARn"
      },
      "source": [
        "From above two figures we can see that maximum number of listings are there\r\n",
        "in Manhattan and brooklyn and it isn't coincident these two have the appropriate distribution of room types"
      ]
    },
    {
      "cell_type": "markdown",
      "metadata": {
        "id": "VAZ1wR4zjg6K"
      },
      "source": [
        "**BELOW COLUMNS WERE DONE 1 DAY BEFORE WHEN I DIDN'T KNOW DATA CLEANING WELL I KEPT THEM BECAUSE MOST OF THE ANALYSIS I HAVE DONE JUST NEED TO TWEAK THEM A LILLTE WHICH I WILL DO TOMORROW THIS IS AS FAR AS I COULD REDO**"
      ]
    },
    {
      "cell_type": "code",
      "metadata": {
        "colab": {
          "base_uri": "https://localhost:8080/",
          "height": 303
        },
        "id": "mDT8quq2Rxae",
        "outputId": "76207d23-5b66-44d5-c6c9-b9baf4552a49"
      },
      "source": [
        "plt.rcParams['figure.figsize'] = (10, 5)\r\n",
        "plt.pie(neighbourhood_df['percentage'], labels = neighbourhood_df['neighbourhood_group'])\r\n",
        "plt.show() "
      ],
      "execution_count": 132,
      "outputs": [
        {
          "output_type": "display_data",
          "data": {
            "image/png": "[encoded data removed]",
            "text/plain": [
              "<Figure size 720x360 with 1 Axes>"
            ]
          },
          "metadata": {
            "tags": []
          }
        }
      ]
    },
    {
      "cell_type": "code",
      "metadata": {
        "id": "mMZFn8loXNiM"
      },
      "source": [
        ""
      ],
      "execution_count": null,
      "outputs": []
    },
    {
      "cell_type": "code",
      "metadata": {
        "colab": {
          "base_uri": "https://localhost:8080/",
          "height": 439
        },
        "id": "IQhvgq6Z17H1",
        "outputId": "430ac136-2dfb-4335-9688-3ce7e46c742a"
      },
      "source": [
        "print(df['number_of_reviews'].describe())\r\n",
        "df['number_of_reviews'].plot.hist(bins=100)"
      ],
      "execution_count": 109,
      "outputs": [
        {
          "output_type": "stream",
          "text": [
            "count    48879.000000\n",
            "mean        23.281205\n",
            "std         44.556149\n",
            "min          0.000000\n",
            "25%          1.000000\n",
            "50%          5.000000\n",
            "75%         24.000000\n",
            "max        629.000000\n",
            "Name: number_of_reviews, dtype: float64\n"
          ],
          "name": "stdout"
        },
        {
          "output_type": "execute_result",
          "data": {
            "text/plain": [
              "<matplotlib.axes._subplots.AxesSubplot at 0x7f9ed8354150>"
            ]
          },
          "metadata": {
            "tags": []
          },
          "execution_count": 109
        },
        {
          "output_type": "display_data",
          "data": {
            "image/png": "[encoded data removed]",
            "text/plain": [
              "<Figure size 432x288 with 1 Axes>"
            ]
          },
          "metadata": {
            "tags": [],
            "needs_background": "light"
          }
        }
      ]
    },
    {
      "cell_type": "code",
      "metadata": {
        "colab": {
          "base_uri": "https://localhost:8080/",
          "height": 169
        },
        "id": "uZ964Gx0Yfwv",
        "outputId": "9f68478f-cbe3-49f1-b9b4-3cf18b76ae05"
      },
      "source": [
        "df[df['minimum_nights'] > 1000]"
      ],
      "execution_count": 93,
      "outputs": [
        {
          "output_type": "execute_result",
          "data": {
            "text/html": [
              "<div>\n",
              "<style scoped>\n",
              "    .dataframe tbody tr th:only-of-type {\n",
              "        vertical-align: middle;\n",
              "    }\n",
              "\n",
              "    .dataframe tbody tr th {\n",
              "        vertical-align: top;\n",
              "    }\n",
              "\n",
              "    .dataframe thead th {\n",
              "        text-align: right;\n",
              "    }\n",
              "</style>\n",
              "<table border=\"1\" class=\"dataframe\">\n",
              "  <thead>\n",
              "    <tr style=\"text-align: right;\">\n",
              "      <th></th>\n",
              "      <th>id</th>\n",
              "      <th>name</th>\n",
              "      <th>host_id</th>\n",
              "      <th>host_name</th>\n",
              "      <th>neighbourhood_group</th>\n",
              "      <th>neighbourhood</th>\n",
              "      <th>latitude</th>\n",
              "      <th>longitude</th>\n",
              "      <th>room_type</th>\n",
              "      <th>price</th>\n",
              "      <th>minimum_nights</th>\n",
              "      <th>number_of_reviews</th>\n",
              "      <th>last_review</th>\n",
              "      <th>reviews_per_month</th>\n",
              "      <th>calculated_host_listings_count</th>\n",
              "      <th>availability_365</th>\n",
              "    </tr>\n",
              "  </thead>\n",
              "  <tbody>\n",
              "    <tr>\n",
              "      <th>5767</th>\n",
              "      <td>4204302</td>\n",
              "      <td>Prime W. Village location 1 bdrm</td>\n",
              "      <td>17550546</td>\n",
              "      <td>Genevieve</td>\n",
              "      <td>Manhattan</td>\n",
              "      <td>Greenwich Village</td>\n",
              "      <td>40.73293</td>\n",
              "      <td>-73.99782</td>\n",
              "      <td>Entire home/apt</td>\n",
              "      <td>180</td>\n",
              "      <td>1250</td>\n",
              "      <td>2</td>\n",
              "      <td>2014-11-09 00:00:00</td>\n",
              "      <td>0.03</td>\n",
              "      <td>1</td>\n",
              "      <td>365</td>\n",
              "    </tr>\n",
              "  </tbody>\n",
              "</table>\n",
              "</div>"
            ],
            "text/plain": [
              "           id  ... availability_365\n",
              "5767  4204302  ...              365\n",
              "\n",
              "[1 rows x 16 columns]"
            ]
          },
          "metadata": {
            "tags": []
          },
          "execution_count": 93
        }
      ]
    },
    {
      "cell_type": "code",
      "metadata": {
        "colab": {
          "base_uri": "https://localhost:8080/",
          "height": 169
        },
        "id": "nGmK1eWzZp29",
        "outputId": "10b710e4-374a-4fee-86e8-52600e5560fe"
      },
      "source": [
        "df[df['id']==4204302]"
      ],
      "execution_count": 94,
      "outputs": [
        {
          "output_type": "execute_result",
          "data": {
            "text/html": [
              "<div>\n",
              "<style scoped>\n",
              "    .dataframe tbody tr th:only-of-type {\n",
              "        vertical-align: middle;\n",
              "    }\n",
              "\n",
              "    .dataframe tbody tr th {\n",
              "        vertical-align: top;\n",
              "    }\n",
              "\n",
              "    .dataframe thead th {\n",
              "        text-align: right;\n",
              "    }\n",
              "</style>\n",
              "<table border=\"1\" class=\"dataframe\">\n",
              "  <thead>\n",
              "    <tr style=\"text-align: right;\">\n",
              "      <th></th>\n",
              "      <th>id</th>\n",
              "      <th>name</th>\n",
              "      <th>host_id</th>\n",
              "      <th>host_name</th>\n",
              "      <th>neighbourhood_group</th>\n",
              "      <th>neighbourhood</th>\n",
              "      <th>latitude</th>\n",
              "      <th>longitude</th>\n",
              "      <th>room_type</th>\n",
              "      <th>price</th>\n",
              "      <th>minimum_nights</th>\n",
              "      <th>number_of_reviews</th>\n",
              "      <th>last_review</th>\n",
              "      <th>reviews_per_month</th>\n",
              "      <th>calculated_host_listings_count</th>\n",
              "      <th>availability_365</th>\n",
              "    </tr>\n",
              "  </thead>\n",
              "  <tbody>\n",
              "    <tr>\n",
              "      <th>5767</th>\n",
              "      <td>4204302</td>\n",
              "      <td>Prime W. Village location 1 bdrm</td>\n",
              "      <td>17550546</td>\n",
              "      <td>Genevieve</td>\n",
              "      <td>Manhattan</td>\n",
              "      <td>Greenwich Village</td>\n",
              "      <td>40.73293</td>\n",
              "      <td>-73.99782</td>\n",
              "      <td>Entire home/apt</td>\n",
              "      <td>180</td>\n",
              "      <td>1250</td>\n",
              "      <td>2</td>\n",
              "      <td>2014-11-09 00:00:00</td>\n",
              "      <td>0.03</td>\n",
              "      <td>1</td>\n",
              "      <td>365</td>\n",
              "    </tr>\n",
              "  </tbody>\n",
              "</table>\n",
              "</div>"
            ],
            "text/plain": [
              "           id  ... availability_365\n",
              "5767  4204302  ...              365\n",
              "\n",
              "[1 rows x 16 columns]"
            ]
          },
          "metadata": {
            "tags": []
          },
          "execution_count": 94
        }
      ]
    },
    {
      "cell_type": "markdown",
      "metadata": {
        "id": "GTqYcwTdZ1uB"
      },
      "source": [
        "So no these are not aggregated and we will remove the extreme outliers"
      ]
    },
    {
      "cell_type": "code",
      "metadata": {
        "colab": {
          "base_uri": "https://localhost:8080/"
        },
        "id": "lOQnlNS9Z0Ze",
        "outputId": "d60484bb-b36b-48ff-8e34-ecf39cdf44ab"
      },
      "source": [
        "df[(df['minimum_nights'] > df['minimum_nights'].quantile(0.95))]['minimum_nights'].min()"
      ],
      "execution_count": 95,
      "outputs": [
        {
          "output_type": "execute_result",
          "data": {
            "text/plain": [
              "31"
            ]
          },
          "metadata": {
            "tags": []
          },
          "execution_count": 95
        }
      ]
    },
    {
      "cell_type": "markdown",
      "metadata": {
        "id": "diFojdWbfbtM"
      },
      "source": [
        "Coincidentally they became the listings which requires the guest to stay atleast for one month"
      ]
    },
    {
      "cell_type": "code",
      "metadata": {
        "id": "SBxL__KwfaCV"
      },
      "source": [
        "df = df[df['minimum_nights'] <= 31]"
      ],
      "execution_count": 96,
      "outputs": []
    },
    {
      "cell_type": "code",
      "metadata": {
        "colab": {
          "base_uri": "https://localhost:8080/"
        },
        "id": "GPJIhoxpZE7l",
        "outputId": "2ea66887-8674-48b0-d001-bc19f492b61e"
      },
      "source": [
        "df.info()"
      ],
      "execution_count": 24,
      "outputs": [
        {
          "output_type": "stream",
          "text": [
            "<class 'pandas.core.frame.DataFrame'>\n",
            "Int64Index: 48254 entries, 0 to 48894\n",
            "Data columns (total 16 columns):\n",
            " #   Column                          Non-Null Count  Dtype         \n",
            "---  ------                          --------------  -----         \n",
            " 0   id                              48254 non-null  int64         \n",
            " 1   name                            48239 non-null  object        \n",
            " 2   host_id                         48254 non-null  int64         \n",
            " 3   host_name                       48233 non-null  object        \n",
            " 4   neighbourhood_group             48254 non-null  object        \n",
            " 5   neighbourhood                   48254 non-null  object        \n",
            " 6   latitude                        48254 non-null  float64       \n",
            " 7   longitude                       48254 non-null  float64       \n",
            " 8   room_type                       48254 non-null  object        \n",
            " 9   price                           48254 non-null  int64         \n",
            " 10  minimum_nights                  48254 non-null  int64         \n",
            " 11  number_of_reviews               48254 non-null  int64         \n",
            " 12  last_review                     48254 non-null  datetime64[ns]\n",
            " 13  reviews_per_month               48254 non-null  float64       \n",
            " 14  calculated_host_listings_count  48254 non-null  int64         \n",
            " 15  availability_365                48254 non-null  int64         \n",
            "dtypes: datetime64[ns](1), float64(3), int64(7), object(5)\n",
            "memory usage: 6.3+ MB\n"
          ],
          "name": "stdout"
        }
      ]
    },
    {
      "cell_type": "markdown",
      "metadata": {
        "id": "k2_6PXImgdtl"
      },
      "source": [
        "Now we'll check if the listing is available in a year or not"
      ]
    },
    {
      "cell_type": "code",
      "metadata": {
        "id": "y5Ny0X1CgBrq"
      },
      "source": [
        "available_df = df.loc[df['availability_365'] == 0,['availability_365','number_of_reviews','last_review']]"
      ],
      "execution_count": 97,
      "outputs": []
    },
    {
      "cell_type": "code",
      "metadata": {
        "colab": {
          "base_uri": "https://localhost:8080/",
          "height": 415
        },
        "id": "zr_1MbkJmpxA",
        "outputId": "be64a44c-abca-4fe1-e20c-a7a14fd8e691"
      },
      "source": [
        "available_df"
      ],
      "execution_count": 26,
      "outputs": [
        {
          "output_type": "execute_result",
          "data": {
            "text/html": [
              "<div>\n",
              "<style scoped>\n",
              "    .dataframe tbody tr th:only-of-type {\n",
              "        vertical-align: middle;\n",
              "    }\n",
              "\n",
              "    .dataframe tbody tr th {\n",
              "        vertical-align: top;\n",
              "    }\n",
              "\n",
              "    .dataframe thead th {\n",
              "        text-align: right;\n",
              "    }\n",
              "</style>\n",
              "<table border=\"1\" class=\"dataframe\">\n",
              "  <thead>\n",
              "    <tr style=\"text-align: right;\">\n",
              "      <th></th>\n",
              "      <th>availability_365</th>\n",
              "      <th>number_of_reviews</th>\n",
              "      <th>last_review</th>\n",
              "    </tr>\n",
              "  </thead>\n",
              "  <tbody>\n",
              "    <tr>\n",
              "      <th>4</th>\n",
              "      <td>0</td>\n",
              "      <td>9</td>\n",
              "      <td>2018-11-19</td>\n",
              "    </tr>\n",
              "    <tr>\n",
              "      <th>8</th>\n",
              "      <td>0</td>\n",
              "      <td>118</td>\n",
              "      <td>2017-07-21</td>\n",
              "    </tr>\n",
              "    <tr>\n",
              "      <th>20</th>\n",
              "      <td>0</td>\n",
              "      <td>9</td>\n",
              "      <td>2011-12-28</td>\n",
              "    </tr>\n",
              "    <tr>\n",
              "      <th>26</th>\n",
              "      <td>0</td>\n",
              "      <td>0</td>\n",
              "      <td>2011-03-28</td>\n",
              "    </tr>\n",
              "    <tr>\n",
              "      <th>48</th>\n",
              "      <td>0</td>\n",
              "      <td>11</td>\n",
              "      <td>2017-01-01</td>\n",
              "    </tr>\n",
              "    <tr>\n",
              "      <th>...</th>\n",
              "      <td>...</td>\n",
              "      <td>...</td>\n",
              "      <td>...</td>\n",
              "    </tr>\n",
              "    <tr>\n",
              "      <th>48550</th>\n",
              "      <td>0</td>\n",
              "      <td>0</td>\n",
              "      <td>2011-03-28</td>\n",
              "    </tr>\n",
              "    <tr>\n",
              "      <th>48731</th>\n",
              "      <td>0</td>\n",
              "      <td>0</td>\n",
              "      <td>2011-03-28</td>\n",
              "    </tr>\n",
              "    <tr>\n",
              "      <th>48756</th>\n",
              "      <td>0</td>\n",
              "      <td>0</td>\n",
              "      <td>2011-03-28</td>\n",
              "    </tr>\n",
              "    <tr>\n",
              "      <th>48760</th>\n",
              "      <td>0</td>\n",
              "      <td>0</td>\n",
              "      <td>2011-03-28</td>\n",
              "    </tr>\n",
              "    <tr>\n",
              "      <th>48779</th>\n",
              "      <td>0</td>\n",
              "      <td>0</td>\n",
              "      <td>2011-03-28</td>\n",
              "    </tr>\n",
              "  </tbody>\n",
              "</table>\n",
              "<p>17389 rows × 3 columns</p>\n",
              "</div>"
            ],
            "text/plain": [
              "       availability_365  number_of_reviews last_review\n",
              "4                     0                  9  2018-11-19\n",
              "8                     0                118  2017-07-21\n",
              "20                    0                  9  2011-12-28\n",
              "26                    0                  0  2011-03-28\n",
              "48                    0                 11  2017-01-01\n",
              "...                 ...                ...         ...\n",
              "48550                 0                  0  2011-03-28\n",
              "48731                 0                  0  2011-03-28\n",
              "48756                 0                  0  2011-03-28\n",
              "48760                 0                  0  2011-03-28\n",
              "48779                 0                  0  2011-03-28\n",
              "\n",
              "[17389 rows x 3 columns]"
            ]
          },
          "metadata": {
            "tags": []
          },
          "execution_count": 26
        }
      ]
    },
    {
      "cell_type": "markdown",
      "metadata": {
        "id": "pAQmm0vsiNTl"
      },
      "source": [
        "We'll check the difference between the latest date a perticular review has been added and that of the listing and see if it really is 0"
      ]
    },
    {
      "cell_type": "code",
      "metadata": {
        "id": "IVWrnZosh9Wt"
      },
      "source": [
        "latest_date = df.loc[df['last_review'] != 'NA','last_review'].max()"
      ],
      "execution_count": 102,
      "outputs": []
    },
    {
      "cell_type": "code",
      "metadata": {
        "id": "fjHZaIoYkGr4"
      },
      "source": [
        "available_df.loc[available_df['last_review']!='NA','inactive_for'] = available_df.loc[available_df['last_review']!='NA','last_review'].apply(lambda row: (latest_date - row))"
      ],
      "execution_count": 104,
      "outputs": []
    },
    {
      "cell_type": "code",
      "metadata": {
        "id": "QFhFuuDyltPT"
      },
      "source": [
        "available_df['diff_year'] = available_df['inactive_for']/ np.timedelta64(1, 'Y')"
      ],
      "execution_count": 105,
      "outputs": []
    },
    {
      "cell_type": "code",
      "metadata": {
        "id": "g-fuxGt9kq7R"
      },
      "source": [
        "available_df = available_df[(available_df['diff_year'] >= 1)&(available_df['number_of_reviews'] != 0)]"
      ],
      "execution_count": 106,
      "outputs": []
    },
    {
      "cell_type": "markdown",
      "metadata": {
        "id": "wYYIiciHnK2p"
      },
      "source": [
        "We can remove the above columns as these really have been inactive for more than year"
      ]
    },
    {
      "cell_type": "code",
      "metadata": {
        "id": "rKnRddJcnolL"
      },
      "source": [
        "df2 = df.copy()"
      ],
      "execution_count": 107,
      "outputs": []
    },
    {
      "cell_type": "code",
      "metadata": {
        "colab": {
          "base_uri": "https://localhost:8080/"
        },
        "id": "BXWALPAKrcvT",
        "outputId": "54eb8f6e-e6d1-479e-caa2-2c61392a6176"
      },
      "source": [
        "df2.info()"
      ],
      "execution_count": 108,
      "outputs": [
        {
          "output_type": "stream",
          "text": [
            "<class 'pandas.core.frame.DataFrame'>\n",
            "Int64Index: 48254 entries, 0 to 48894\n",
            "Data columns (total 16 columns):\n",
            " #   Column                          Non-Null Count  Dtype  \n",
            "---  ------                          --------------  -----  \n",
            " 0   id                              48254 non-null  int64  \n",
            " 1   name                            48239 non-null  object \n",
            " 2   host_id                         48254 non-null  int64  \n",
            " 3   host_name                       48233 non-null  object \n",
            " 4   neighbourhood_group             48254 non-null  object \n",
            " 5   neighbourhood                   48254 non-null  object \n",
            " 6   latitude                        48254 non-null  float64\n",
            " 7   longitude                       48254 non-null  float64\n",
            " 8   room_type                       48254 non-null  object \n",
            " 9   price                           48254 non-null  int64  \n",
            " 10  minimum_nights                  48254 non-null  int64  \n",
            " 11  number_of_reviews               48254 non-null  int64  \n",
            " 12  last_review                     48254 non-null  object \n",
            " 13  reviews_per_month               48254 non-null  float64\n",
            " 14  calculated_host_listings_count  48254 non-null  int64  \n",
            " 15  availability_365                48254 non-null  int64  \n",
            "dtypes: float64(3), int64(7), object(6)\n",
            "memory usage: 6.3+ MB\n"
          ],
          "name": "stdout"
        }
      ]
    },
    {
      "cell_type": "code",
      "metadata": {
        "id": "u_HvZy7riMbf"
      },
      "source": [
        "df2 = df2.drop(index=available_df.index.to_list())"
      ],
      "execution_count": 109,
      "outputs": []
    },
    {
      "cell_type": "code",
      "metadata": {
        "colab": {
          "base_uri": "https://localhost:8080/"
        },
        "id": "bO8F-nKJrhSx",
        "outputId": "42653c92-c793-410d-f19e-05465ea02fc2"
      },
      "source": [
        "df2.info()"
      ],
      "execution_count": 110,
      "outputs": [
        {
          "output_type": "stream",
          "text": [
            "<class 'pandas.core.frame.DataFrame'>\n",
            "Int64Index: 40568 entries, 0 to 48894\n",
            "Data columns (total 16 columns):\n",
            " #   Column                          Non-Null Count  Dtype  \n",
            "---  ------                          --------------  -----  \n",
            " 0   id                              40568 non-null  int64  \n",
            " 1   name                            40556 non-null  object \n",
            " 2   host_id                         40568 non-null  int64  \n",
            " 3   host_name                       40552 non-null  object \n",
            " 4   neighbourhood_group             40568 non-null  object \n",
            " 5   neighbourhood                   40568 non-null  object \n",
            " 6   latitude                        40568 non-null  float64\n",
            " 7   longitude                       40568 non-null  float64\n",
            " 8   room_type                       40568 non-null  object \n",
            " 9   price                           40568 non-null  int64  \n",
            " 10  minimum_nights                  40568 non-null  int64  \n",
            " 11  number_of_reviews               40568 non-null  int64  \n",
            " 12  last_review                     40568 non-null  object \n",
            " 13  reviews_per_month               40568 non-null  float64\n",
            " 14  calculated_host_listings_count  40568 non-null  int64  \n",
            " 15  availability_365                40568 non-null  int64  \n",
            "dtypes: float64(3), int64(7), object(6)\n",
            "memory usage: 5.3+ MB\n"
          ],
          "name": "stdout"
        }
      ]
    },
    {
      "cell_type": "code",
      "metadata": {
        "colab": {
          "base_uri": "https://localhost:8080/",
          "height": 990
        },
        "id": "VggB1vbqiKsZ",
        "outputId": "38cb209d-a80e-4405-92a1-a9e3e137da98"
      },
      "source": [
        "df2[(df2['availability_365']==0) & (df2['number_of_reviews']!=0)]"
      ],
      "execution_count": 111,
      "outputs": [
        {
          "output_type": "execute_result",
          "data": {
            "text/html": [
              "<div>\n",
              "<style scoped>\n",
              "    .dataframe tbody tr th:only-of-type {\n",
              "        vertical-align: middle;\n",
              "    }\n",
              "\n",
              "    .dataframe tbody tr th {\n",
              "        vertical-align: top;\n",
              "    }\n",
              "\n",
              "    .dataframe thead th {\n",
              "        text-align: right;\n",
              "    }\n",
              "</style>\n",
              "<table border=\"1\" class=\"dataframe\">\n",
              "  <thead>\n",
              "    <tr style=\"text-align: right;\">\n",
              "      <th></th>\n",
              "      <th>id</th>\n",
              "      <th>name</th>\n",
              "      <th>host_id</th>\n",
              "      <th>host_name</th>\n",
              "      <th>neighbourhood_group</th>\n",
              "      <th>neighbourhood</th>\n",
              "      <th>latitude</th>\n",
              "      <th>longitude</th>\n",
              "      <th>room_type</th>\n",
              "      <th>price</th>\n",
              "      <th>minimum_nights</th>\n",
              "      <th>number_of_reviews</th>\n",
              "      <th>last_review</th>\n",
              "      <th>reviews_per_month</th>\n",
              "      <th>calculated_host_listings_count</th>\n",
              "      <th>availability_365</th>\n",
              "    </tr>\n",
              "  </thead>\n",
              "  <tbody>\n",
              "    <tr>\n",
              "      <th>4</th>\n",
              "      <td>5022</td>\n",
              "      <td>Entire Apt: Spacious Studio/Loft by central park</td>\n",
              "      <td>7192</td>\n",
              "      <td>Laura</td>\n",
              "      <td>Manhattan</td>\n",
              "      <td>East Harlem</td>\n",
              "      <td>40.79851</td>\n",
              "      <td>-73.94399</td>\n",
              "      <td>Entire home/apt</td>\n",
              "      <td>80</td>\n",
              "      <td>10</td>\n",
              "      <td>9</td>\n",
              "      <td>2018-11-19 00:00:00</td>\n",
              "      <td>0.10</td>\n",
              "      <td>1</td>\n",
              "      <td>0</td>\n",
              "    </tr>\n",
              "    <tr>\n",
              "      <th>94</th>\n",
              "      <td>20913</td>\n",
              "      <td>Charming 1 bed GR8 WBurg LOCATION!</td>\n",
              "      <td>79402</td>\n",
              "      <td>Christiana</td>\n",
              "      <td>Brooklyn</td>\n",
              "      <td>Williamsburg</td>\n",
              "      <td>40.70984</td>\n",
              "      <td>-73.95775</td>\n",
              "      <td>Entire home/apt</td>\n",
              "      <td>100</td>\n",
              "      <td>5</td>\n",
              "      <td>168</td>\n",
              "      <td>2018-07-22 00:00:00</td>\n",
              "      <td>1.57</td>\n",
              "      <td>1</td>\n",
              "      <td>0</td>\n",
              "    </tr>\n",
              "    <tr>\n",
              "      <th>132</th>\n",
              "      <td>30031</td>\n",
              "      <td>NYC artists’ loft with roof deck</td>\n",
              "      <td>129352</td>\n",
              "      <td>Sol</td>\n",
              "      <td>Brooklyn</td>\n",
              "      <td>Greenpoint</td>\n",
              "      <td>40.73494</td>\n",
              "      <td>-73.95030</td>\n",
              "      <td>Private room</td>\n",
              "      <td>50</td>\n",
              "      <td>3</td>\n",
              "      <td>193</td>\n",
              "      <td>2019-05-20 00:00:00</td>\n",
              "      <td>1.86</td>\n",
              "      <td>1</td>\n",
              "      <td>0</td>\n",
              "    </tr>\n",
              "    <tr>\n",
              "      <th>165</th>\n",
              "      <td>41348</td>\n",
              "      <td>* Spacious GARDEN Park Slope Duplex* 6 people max</td>\n",
              "      <td>180083</td>\n",
              "      <td>Syl</td>\n",
              "      <td>Brooklyn</td>\n",
              "      <td>Gowanus</td>\n",
              "      <td>40.66858</td>\n",
              "      <td>-73.99083</td>\n",
              "      <td>Entire home/apt</td>\n",
              "      <td>250</td>\n",
              "      <td>2</td>\n",
              "      <td>80</td>\n",
              "      <td>2019-07-06 00:00:00</td>\n",
              "      <td>2.17</td>\n",
              "      <td>1</td>\n",
              "      <td>0</td>\n",
              "    </tr>\n",
              "    <tr>\n",
              "      <th>174</th>\n",
              "      <td>44221</td>\n",
              "      <td>Financial District Luxury Loft</td>\n",
              "      <td>193722</td>\n",
              "      <td>Coral</td>\n",
              "      <td>Manhattan</td>\n",
              "      <td>Financial District</td>\n",
              "      <td>40.70666</td>\n",
              "      <td>-74.01374</td>\n",
              "      <td>Entire home/apt</td>\n",
              "      <td>196</td>\n",
              "      <td>3</td>\n",
              "      <td>114</td>\n",
              "      <td>2019-06-20 00:00:00</td>\n",
              "      <td>1.06</td>\n",
              "      <td>1</td>\n",
              "      <td>0</td>\n",
              "    </tr>\n",
              "    <tr>\n",
              "      <th>...</th>\n",
              "      <td>...</td>\n",
              "      <td>...</td>\n",
              "      <td>...</td>\n",
              "      <td>...</td>\n",
              "      <td>...</td>\n",
              "      <td>...</td>\n",
              "      <td>...</td>\n",
              "      <td>...</td>\n",
              "      <td>...</td>\n",
              "      <td>...</td>\n",
              "      <td>...</td>\n",
              "      <td>...</td>\n",
              "      <td>...</td>\n",
              "      <td>...</td>\n",
              "      <td>...</td>\n",
              "      <td>...</td>\n",
              "    </tr>\n",
              "    <tr>\n",
              "      <th>46532</th>\n",
              "      <td>35292625</td>\n",
              "      <td>Room-cabin in Hell's kitchen</td>\n",
              "      <td>137191484</td>\n",
              "      <td>Maria</td>\n",
              "      <td>Manhattan</td>\n",
              "      <td>Hell's Kitchen</td>\n",
              "      <td>40.76479</td>\n",
              "      <td>-73.98667</td>\n",
              "      <td>Private room</td>\n",
              "      <td>86</td>\n",
              "      <td>1</td>\n",
              "      <td>1</td>\n",
              "      <td>2019-06-05 00:00:00</td>\n",
              "      <td>0.88</td>\n",
              "      <td>5</td>\n",
              "      <td>0</td>\n",
              "    </tr>\n",
              "    <tr>\n",
              "      <th>46583</th>\n",
              "      <td>35329913</td>\n",
              "      <td>Charming Brooklyn Garden apt - historic Macdon...</td>\n",
              "      <td>46724430</td>\n",
              "      <td>Mariana</td>\n",
              "      <td>Brooklyn</td>\n",
              "      <td>Bedford-Stuyvesant</td>\n",
              "      <td>40.68364</td>\n",
              "      <td>-73.92307</td>\n",
              "      <td>Entire home/apt</td>\n",
              "      <td>125</td>\n",
              "      <td>3</td>\n",
              "      <td>1</td>\n",
              "      <td>2019-07-01 00:00:00</td>\n",
              "      <td>1.00</td>\n",
              "      <td>1</td>\n",
              "      <td>0</td>\n",
              "    </tr>\n",
              "    <tr>\n",
              "      <th>47175</th>\n",
              "      <td>35615687</td>\n",
              "      <td>Duplex Apartment  3 bedroom 2 bath (6 guest)</td>\n",
              "      <td>145082728</td>\n",
              "      <td>Jason &amp; Kelly</td>\n",
              "      <td>Brooklyn</td>\n",
              "      <td>Bedford-Stuyvesant</td>\n",
              "      <td>40.68091</td>\n",
              "      <td>-73.95006</td>\n",
              "      <td>Entire home/apt</td>\n",
              "      <td>350</td>\n",
              "      <td>2</td>\n",
              "      <td>1</td>\n",
              "      <td>2019-06-30 00:00:00</td>\n",
              "      <td>1.00</td>\n",
              "      <td>2</td>\n",
              "      <td>0</td>\n",
              "    </tr>\n",
              "    <tr>\n",
              "      <th>47218</th>\n",
              "      <td>35642891</td>\n",
              "      <td>Beautiful room in Bushwick</td>\n",
              "      <td>268138154</td>\n",
              "      <td>Julio</td>\n",
              "      <td>Brooklyn</td>\n",
              "      <td>Bushwick</td>\n",
              "      <td>40.69640</td>\n",
              "      <td>-73.91898</td>\n",
              "      <td>Private room</td>\n",
              "      <td>10</td>\n",
              "      <td>1</td>\n",
              "      <td>2</td>\n",
              "      <td>2019-06-18 00:00:00</td>\n",
              "      <td>2.00</td>\n",
              "      <td>1</td>\n",
              "      <td>0</td>\n",
              "    </tr>\n",
              "    <tr>\n",
              "      <th>47614</th>\n",
              "      <td>35832547</td>\n",
              "      <td>Big 1 Bedroom located in Union Square</td>\n",
              "      <td>95000637</td>\n",
              "      <td>Mike</td>\n",
              "      <td>Manhattan</td>\n",
              "      <td>Gramercy</td>\n",
              "      <td>40.73592</td>\n",
              "      <td>-73.98993</td>\n",
              "      <td>Entire home/apt</td>\n",
              "      <td>295</td>\n",
              "      <td>2</td>\n",
              "      <td>1</td>\n",
              "      <td>2019-07-01 00:00:00</td>\n",
              "      <td>1.00</td>\n",
              "      <td>1</td>\n",
              "      <td>0</td>\n",
              "    </tr>\n",
              "  </tbody>\n",
              "</table>\n",
              "<p>4918 rows × 16 columns</p>\n",
              "</div>"
            ],
            "text/plain": [
              "             id  ... availability_365\n",
              "4          5022  ...                0\n",
              "94        20913  ...                0\n",
              "132       30031  ...                0\n",
              "165       41348  ...                0\n",
              "174       44221  ...                0\n",
              "...         ...  ...              ...\n",
              "46532  35292625  ...                0\n",
              "46583  35329913  ...                0\n",
              "47175  35615687  ...                0\n",
              "47218  35642891  ...                0\n",
              "47614  35832547  ...                0\n",
              "\n",
              "[4918 rows x 16 columns]"
            ]
          },
          "metadata": {
            "tags": []
          },
          "execution_count": 111
        }
      ]
    },
    {
      "cell_type": "markdown",
      "metadata": {
        "id": "5RKAzor_tEHM"
      },
      "source": [
        "We'll update these values with the number of days = 365 - (latest date - last review date) as these are inconsistent"
      ]
    },
    {
      "cell_type": "code",
      "metadata": {
        "colab": {
          "base_uri": "https://localhost:8080/",
          "height": 1000
        },
        "id": "Gpr80y_YNybv",
        "outputId": "92b8b1b8-fe19-4e72-d17f-d8a7f6827a4a"
      },
      "source": [
        "df2[df2['availability_365']==0]"
      ],
      "execution_count": 112,
      "outputs": [
        {
          "output_type": "execute_result",
          "data": {
            "text/html": [
              "<div>\n",
              "<style scoped>\n",
              "    .dataframe tbody tr th:only-of-type {\n",
              "        vertical-align: middle;\n",
              "    }\n",
              "\n",
              "    .dataframe tbody tr th {\n",
              "        vertical-align: top;\n",
              "    }\n",
              "\n",
              "    .dataframe thead th {\n",
              "        text-align: right;\n",
              "    }\n",
              "</style>\n",
              "<table border=\"1\" class=\"dataframe\">\n",
              "  <thead>\n",
              "    <tr style=\"text-align: right;\">\n",
              "      <th></th>\n",
              "      <th>id</th>\n",
              "      <th>name</th>\n",
              "      <th>host_id</th>\n",
              "      <th>host_name</th>\n",
              "      <th>neighbourhood_group</th>\n",
              "      <th>neighbourhood</th>\n",
              "      <th>latitude</th>\n",
              "      <th>longitude</th>\n",
              "      <th>room_type</th>\n",
              "      <th>price</th>\n",
              "      <th>minimum_nights</th>\n",
              "      <th>number_of_reviews</th>\n",
              "      <th>last_review</th>\n",
              "      <th>reviews_per_month</th>\n",
              "      <th>calculated_host_listings_count</th>\n",
              "      <th>availability_365</th>\n",
              "    </tr>\n",
              "  </thead>\n",
              "  <tbody>\n",
              "    <tr>\n",
              "      <th>4</th>\n",
              "      <td>5022</td>\n",
              "      <td>Entire Apt: Spacious Studio/Loft by central park</td>\n",
              "      <td>7192</td>\n",
              "      <td>Laura</td>\n",
              "      <td>Manhattan</td>\n",
              "      <td>East Harlem</td>\n",
              "      <td>40.79851</td>\n",
              "      <td>-73.94399</td>\n",
              "      <td>Entire home/apt</td>\n",
              "      <td>80</td>\n",
              "      <td>10</td>\n",
              "      <td>9</td>\n",
              "      <td>2018-11-19 00:00:00</td>\n",
              "      <td>0.10</td>\n",
              "      <td>1</td>\n",
              "      <td>0</td>\n",
              "    </tr>\n",
              "    <tr>\n",
              "      <th>26</th>\n",
              "      <td>8700</td>\n",
              "      <td>Magnifique Suite au N de Manhattan - vue Cloitres</td>\n",
              "      <td>26394</td>\n",
              "      <td>Claude &amp; Sophie</td>\n",
              "      <td>Manhattan</td>\n",
              "      <td>Inwood</td>\n",
              "      <td>40.86754</td>\n",
              "      <td>-73.92639</td>\n",
              "      <td>Private room</td>\n",
              "      <td>80</td>\n",
              "      <td>4</td>\n",
              "      <td>0</td>\n",
              "      <td>NA</td>\n",
              "      <td>0.00</td>\n",
              "      <td>1</td>\n",
              "      <td>0</td>\n",
              "    </tr>\n",
              "    <tr>\n",
              "      <th>94</th>\n",
              "      <td>20913</td>\n",
              "      <td>Charming 1 bed GR8 WBurg LOCATION!</td>\n",
              "      <td>79402</td>\n",
              "      <td>Christiana</td>\n",
              "      <td>Brooklyn</td>\n",
              "      <td>Williamsburg</td>\n",
              "      <td>40.70984</td>\n",
              "      <td>-73.95775</td>\n",
              "      <td>Entire home/apt</td>\n",
              "      <td>100</td>\n",
              "      <td>5</td>\n",
              "      <td>168</td>\n",
              "      <td>2018-07-22 00:00:00</td>\n",
              "      <td>1.57</td>\n",
              "      <td>1</td>\n",
              "      <td>0</td>\n",
              "    </tr>\n",
              "    <tr>\n",
              "      <th>132</th>\n",
              "      <td>30031</td>\n",
              "      <td>NYC artists’ loft with roof deck</td>\n",
              "      <td>129352</td>\n",
              "      <td>Sol</td>\n",
              "      <td>Brooklyn</td>\n",
              "      <td>Greenpoint</td>\n",
              "      <td>40.73494</td>\n",
              "      <td>-73.95030</td>\n",
              "      <td>Private room</td>\n",
              "      <td>50</td>\n",
              "      <td>3</td>\n",
              "      <td>193</td>\n",
              "      <td>2019-05-20 00:00:00</td>\n",
              "      <td>1.86</td>\n",
              "      <td>1</td>\n",
              "      <td>0</td>\n",
              "    </tr>\n",
              "    <tr>\n",
              "      <th>165</th>\n",
              "      <td>41348</td>\n",
              "      <td>* Spacious GARDEN Park Slope Duplex* 6 people max</td>\n",
              "      <td>180083</td>\n",
              "      <td>Syl</td>\n",
              "      <td>Brooklyn</td>\n",
              "      <td>Gowanus</td>\n",
              "      <td>40.66858</td>\n",
              "      <td>-73.99083</td>\n",
              "      <td>Entire home/apt</td>\n",
              "      <td>250</td>\n",
              "      <td>2</td>\n",
              "      <td>80</td>\n",
              "      <td>2019-07-06 00:00:00</td>\n",
              "      <td>2.17</td>\n",
              "      <td>1</td>\n",
              "      <td>0</td>\n",
              "    </tr>\n",
              "    <tr>\n",
              "      <th>...</th>\n",
              "      <td>...</td>\n",
              "      <td>...</td>\n",
              "      <td>...</td>\n",
              "      <td>...</td>\n",
              "      <td>...</td>\n",
              "      <td>...</td>\n",
              "      <td>...</td>\n",
              "      <td>...</td>\n",
              "      <td>...</td>\n",
              "      <td>...</td>\n",
              "      <td>...</td>\n",
              "      <td>...</td>\n",
              "      <td>...</td>\n",
              "      <td>...</td>\n",
              "      <td>...</td>\n",
              "      <td>...</td>\n",
              "    </tr>\n",
              "    <tr>\n",
              "      <th>48550</th>\n",
              "      <td>36313048</td>\n",
              "      <td>Sunny room with private entrance in shared home</td>\n",
              "      <td>16883913</td>\n",
              "      <td>Tiffany</td>\n",
              "      <td>Queens</td>\n",
              "      <td>Ridgewood</td>\n",
              "      <td>40.69919</td>\n",
              "      <td>-73.89902</td>\n",
              "      <td>Private room</td>\n",
              "      <td>45</td>\n",
              "      <td>1</td>\n",
              "      <td>0</td>\n",
              "      <td>NA</td>\n",
              "      <td>0.00</td>\n",
              "      <td>1</td>\n",
              "      <td>0</td>\n",
              "    </tr>\n",
              "    <tr>\n",
              "      <th>48731</th>\n",
              "      <td>36410519</td>\n",
              "      <td>Sunlight charming apt. in the heart of Brooklyn</td>\n",
              "      <td>121384174</td>\n",
              "      <td>Luciana Paula</td>\n",
              "      <td>Brooklyn</td>\n",
              "      <td>Park Slope</td>\n",
              "      <td>40.66716</td>\n",
              "      <td>-73.98101</td>\n",
              "      <td>Entire home/apt</td>\n",
              "      <td>111</td>\n",
              "      <td>8</td>\n",
              "      <td>0</td>\n",
              "      <td>NA</td>\n",
              "      <td>0.00</td>\n",
              "      <td>1</td>\n",
              "      <td>0</td>\n",
              "    </tr>\n",
              "    <tr>\n",
              "      <th>48756</th>\n",
              "      <td>36419441</td>\n",
              "      <td>Murray Hill Masterpiece</td>\n",
              "      <td>273824202</td>\n",
              "      <td>David</td>\n",
              "      <td>Manhattan</td>\n",
              "      <td>Murray Hill</td>\n",
              "      <td>40.74404</td>\n",
              "      <td>-73.97239</td>\n",
              "      <td>Entire home/apt</td>\n",
              "      <td>129</td>\n",
              "      <td>2</td>\n",
              "      <td>0</td>\n",
              "      <td>NA</td>\n",
              "      <td>0.00</td>\n",
              "      <td>1</td>\n",
              "      <td>0</td>\n",
              "    </tr>\n",
              "    <tr>\n",
              "      <th>48760</th>\n",
              "      <td>36420725</td>\n",
              "      <td>Sunnyside, Queens 15 Mins to Midtown Clean &amp; C...</td>\n",
              "      <td>19990280</td>\n",
              "      <td>Brandon</td>\n",
              "      <td>Queens</td>\n",
              "      <td>Sunnyside</td>\n",
              "      <td>40.74719</td>\n",
              "      <td>-73.91919</td>\n",
              "      <td>Private room</td>\n",
              "      <td>46</td>\n",
              "      <td>1</td>\n",
              "      <td>0</td>\n",
              "      <td>NA</td>\n",
              "      <td>0.00</td>\n",
              "      <td>1</td>\n",
              "      <td>0</td>\n",
              "    </tr>\n",
              "    <tr>\n",
              "      <th>48779</th>\n",
              "      <td>36424776</td>\n",
              "      <td>Queen size bedroom in two bed apt with great l...</td>\n",
              "      <td>13384464</td>\n",
              "      <td>Hollie</td>\n",
              "      <td>Brooklyn</td>\n",
              "      <td>Bedford-Stuyvesant</td>\n",
              "      <td>40.69617</td>\n",
              "      <td>-73.94198</td>\n",
              "      <td>Private room</td>\n",
              "      <td>50</td>\n",
              "      <td>3</td>\n",
              "      <td>0</td>\n",
              "      <td>NA</td>\n",
              "      <td>0.00</td>\n",
              "      <td>1</td>\n",
              "      <td>0</td>\n",
              "    </tr>\n",
              "  </tbody>\n",
              "</table>\n",
              "<p>9703 rows × 16 columns</p>\n",
              "</div>"
            ],
            "text/plain": [
              "             id  ... availability_365\n",
              "4          5022  ...                0\n",
              "26         8700  ...                0\n",
              "94        20913  ...                0\n",
              "132       30031  ...                0\n",
              "165       41348  ...                0\n",
              "...         ...  ...              ...\n",
              "48550  36313048  ...                0\n",
              "48731  36410519  ...                0\n",
              "48756  36419441  ...                0\n",
              "48760  36420725  ...                0\n",
              "48779  36424776  ...                0\n",
              "\n",
              "[9703 rows x 16 columns]"
            ]
          },
          "metadata": {
            "tags": []
          },
          "execution_count": 112
        }
      ]
    },
    {
      "cell_type": "code",
      "metadata": {
        "id": "NHHZyAMPtANk"
      },
      "source": [
        "df2.loc[(df2['availability_365']==0) & (df2['number_of_reviews']!=0),'availability_365'] = df2.loc[(df2['availability_365']==0) & (df2['number_of_reviews']!=0),'last_review'].apply(lambda row: timedelta(days = 365) -(latest_date - row))"
      ],
      "execution_count": 113,
      "outputs": []
    },
    {
      "cell_type": "code",
      "metadata": {
        "colab": {
          "base_uri": "https://localhost:8080/"
        },
        "id": "ZXxkvxUQOYIs",
        "outputId": "ef5d37bc-c6ca-41dc-f98c-c4c74db87fc1"
      },
      "source": [
        "len(df2[df2['availability_365']==0])"
      ],
      "execution_count": 71,
      "outputs": [
        {
          "output_type": "execute_result",
          "data": {
            "text/plain": [
              "4785"
            ]
          },
          "metadata": {
            "tags": []
          },
          "execution_count": 71
        }
      ]
    },
    {
      "cell_type": "code",
      "metadata": {
        "colab": {
          "base_uri": "https://localhost:8080/",
          "height": 782
        },
        "id": "yh79cDdeO2R7",
        "outputId": "68e1bd1e-4e33-4274-8861-9dc60a7659b1"
      },
      "source": [
        "df2[(df2['number_of_reviews']==0) & (df2['availability_365']!=0)]"
      ],
      "execution_count": 114,
      "outputs": [
        {
          "output_type": "execute_result",
          "data": {
            "text/html": [
              "<div>\n",
              "<style scoped>\n",
              "    .dataframe tbody tr th:only-of-type {\n",
              "        vertical-align: middle;\n",
              "    }\n",
              "\n",
              "    .dataframe tbody tr th {\n",
              "        vertical-align: top;\n",
              "    }\n",
              "\n",
              "    .dataframe thead th {\n",
              "        text-align: right;\n",
              "    }\n",
              "</style>\n",
              "<table border=\"1\" class=\"dataframe\">\n",
              "  <thead>\n",
              "    <tr style=\"text-align: right;\">\n",
              "      <th></th>\n",
              "      <th>id</th>\n",
              "      <th>name</th>\n",
              "      <th>host_id</th>\n",
              "      <th>host_name</th>\n",
              "      <th>neighbourhood_group</th>\n",
              "      <th>neighbourhood</th>\n",
              "      <th>latitude</th>\n",
              "      <th>longitude</th>\n",
              "      <th>room_type</th>\n",
              "      <th>price</th>\n",
              "      <th>minimum_nights</th>\n",
              "      <th>number_of_reviews</th>\n",
              "      <th>last_review</th>\n",
              "      <th>reviews_per_month</th>\n",
              "      <th>calculated_host_listings_count</th>\n",
              "      <th>availability_365</th>\n",
              "    </tr>\n",
              "  </thead>\n",
              "  <tbody>\n",
              "    <tr>\n",
              "      <th>2</th>\n",
              "      <td>3647</td>\n",
              "      <td>THE VILLAGE OF HARLEM....NEW YORK !</td>\n",
              "      <td>4632</td>\n",
              "      <td>Elisabeth</td>\n",
              "      <td>Manhattan</td>\n",
              "      <td>Harlem</td>\n",
              "      <td>40.80902</td>\n",
              "      <td>-73.94190</td>\n",
              "      <td>Private room</td>\n",
              "      <td>150</td>\n",
              "      <td>3</td>\n",
              "      <td>0</td>\n",
              "      <td>NA</td>\n",
              "      <td>0.0</td>\n",
              "      <td>1</td>\n",
              "      <td>365</td>\n",
              "    </tr>\n",
              "    <tr>\n",
              "      <th>19</th>\n",
              "      <td>7750</td>\n",
              "      <td>Huge 2 BR Upper East  Cental Park</td>\n",
              "      <td>17985</td>\n",
              "      <td>Sing</td>\n",
              "      <td>Manhattan</td>\n",
              "      <td>East Harlem</td>\n",
              "      <td>40.79685</td>\n",
              "      <td>-73.94872</td>\n",
              "      <td>Entire home/apt</td>\n",
              "      <td>190</td>\n",
              "      <td>7</td>\n",
              "      <td>0</td>\n",
              "      <td>NA</td>\n",
              "      <td>0.0</td>\n",
              "      <td>2</td>\n",
              "      <td>249</td>\n",
              "    </tr>\n",
              "    <tr>\n",
              "      <th>38</th>\n",
              "      <td>11943</td>\n",
              "      <td>Country space in the city</td>\n",
              "      <td>45445</td>\n",
              "      <td>Harriet</td>\n",
              "      <td>Brooklyn</td>\n",
              "      <td>Flatbush</td>\n",
              "      <td>40.63702</td>\n",
              "      <td>-73.96327</td>\n",
              "      <td>Private room</td>\n",
              "      <td>150</td>\n",
              "      <td>1</td>\n",
              "      <td>0</td>\n",
              "      <td>NA</td>\n",
              "      <td>0.0</td>\n",
              "      <td>1</td>\n",
              "      <td>365</td>\n",
              "    </tr>\n",
              "    <tr>\n",
              "      <th>204</th>\n",
              "      <td>54466</td>\n",
              "      <td>Beautiful Uptown Manhattan apartmnt</td>\n",
              "      <td>253385</td>\n",
              "      <td>Douglas</td>\n",
              "      <td>Manhattan</td>\n",
              "      <td>Harlem</td>\n",
              "      <td>40.80234</td>\n",
              "      <td>-73.95603</td>\n",
              "      <td>Private room</td>\n",
              "      <td>200</td>\n",
              "      <td>30</td>\n",
              "      <td>0</td>\n",
              "      <td>NA</td>\n",
              "      <td>0.0</td>\n",
              "      <td>1</td>\n",
              "      <td>365</td>\n",
              "    </tr>\n",
              "    <tr>\n",
              "      <th>260</th>\n",
              "      <td>63588</td>\n",
              "      <td>LL3</td>\n",
              "      <td>295128</td>\n",
              "      <td>Carol Gloria</td>\n",
              "      <td>Bronx</td>\n",
              "      <td>Clason Point</td>\n",
              "      <td>40.81309</td>\n",
              "      <td>-73.85514</td>\n",
              "      <td>Private room</td>\n",
              "      <td>90</td>\n",
              "      <td>2</td>\n",
              "      <td>0</td>\n",
              "      <td>NA</td>\n",
              "      <td>0.0</td>\n",
              "      <td>7</td>\n",
              "      <td>349</td>\n",
              "    </tr>\n",
              "    <tr>\n",
              "      <th>...</th>\n",
              "      <td>...</td>\n",
              "      <td>...</td>\n",
              "      <td>...</td>\n",
              "      <td>...</td>\n",
              "      <td>...</td>\n",
              "      <td>...</td>\n",
              "      <td>...</td>\n",
              "      <td>...</td>\n",
              "      <td>...</td>\n",
              "      <td>...</td>\n",
              "      <td>...</td>\n",
              "      <td>...</td>\n",
              "      <td>...</td>\n",
              "      <td>...</td>\n",
              "      <td>...</td>\n",
              "      <td>...</td>\n",
              "    </tr>\n",
              "    <tr>\n",
              "      <th>48890</th>\n",
              "      <td>36484665</td>\n",
              "      <td>Charming one bedroom - newly renovated rowhouse</td>\n",
              "      <td>8232441</td>\n",
              "      <td>Sabrina</td>\n",
              "      <td>Brooklyn</td>\n",
              "      <td>Bedford-Stuyvesant</td>\n",
              "      <td>40.67853</td>\n",
              "      <td>-73.94995</td>\n",
              "      <td>Private room</td>\n",
              "      <td>70</td>\n",
              "      <td>2</td>\n",
              "      <td>0</td>\n",
              "      <td>NA</td>\n",
              "      <td>0.0</td>\n",
              "      <td>2</td>\n",
              "      <td>9</td>\n",
              "    </tr>\n",
              "    <tr>\n",
              "      <th>48891</th>\n",
              "      <td>36485057</td>\n",
              "      <td>Affordable room in Bushwick/East Williamsburg</td>\n",
              "      <td>6570630</td>\n",
              "      <td>Marisol</td>\n",
              "      <td>Brooklyn</td>\n",
              "      <td>Bushwick</td>\n",
              "      <td>40.70184</td>\n",
              "      <td>-73.93317</td>\n",
              "      <td>Private room</td>\n",
              "      <td>40</td>\n",
              "      <td>4</td>\n",
              "      <td>0</td>\n",
              "      <td>NA</td>\n",
              "      <td>0.0</td>\n",
              "      <td>2</td>\n",
              "      <td>36</td>\n",
              "    </tr>\n",
              "    <tr>\n",
              "      <th>48892</th>\n",
              "      <td>36485431</td>\n",
              "      <td>Sunny Studio at Historical Neighborhood</td>\n",
              "      <td>23492952</td>\n",
              "      <td>Ilgar &amp; Aysel</td>\n",
              "      <td>Manhattan</td>\n",
              "      <td>Harlem</td>\n",
              "      <td>40.81475</td>\n",
              "      <td>-73.94867</td>\n",
              "      <td>Entire home/apt</td>\n",
              "      <td>115</td>\n",
              "      <td>10</td>\n",
              "      <td>0</td>\n",
              "      <td>NA</td>\n",
              "      <td>0.0</td>\n",
              "      <td>1</td>\n",
              "      <td>27</td>\n",
              "    </tr>\n",
              "    <tr>\n",
              "      <th>48893</th>\n",
              "      <td>36485609</td>\n",
              "      <td>43rd St. Time Square-cozy single bed</td>\n",
              "      <td>30985759</td>\n",
              "      <td>Taz</td>\n",
              "      <td>Manhattan</td>\n",
              "      <td>Hell's Kitchen</td>\n",
              "      <td>40.75751</td>\n",
              "      <td>-73.99112</td>\n",
              "      <td>Shared room</td>\n",
              "      <td>55</td>\n",
              "      <td>1</td>\n",
              "      <td>0</td>\n",
              "      <td>NA</td>\n",
              "      <td>0.0</td>\n",
              "      <td>6</td>\n",
              "      <td>2</td>\n",
              "    </tr>\n",
              "    <tr>\n",
              "      <th>48894</th>\n",
              "      <td>36487245</td>\n",
              "      <td>Trendy duplex in the very heart of Hell's Kitchen</td>\n",
              "      <td>68119814</td>\n",
              "      <td>Christophe</td>\n",
              "      <td>Manhattan</td>\n",
              "      <td>Hell's Kitchen</td>\n",
              "      <td>40.76404</td>\n",
              "      <td>-73.98933</td>\n",
              "      <td>Private room</td>\n",
              "      <td>90</td>\n",
              "      <td>7</td>\n",
              "      <td>0</td>\n",
              "      <td>NA</td>\n",
              "      <td>0.0</td>\n",
              "      <td>1</td>\n",
              "      <td>23</td>\n",
              "    </tr>\n",
              "  </tbody>\n",
              "</table>\n",
              "<p>4972 rows × 16 columns</p>\n",
              "</div>"
            ],
            "text/plain": [
              "             id  ... availability_365\n",
              "2          3647  ...              365\n",
              "19         7750  ...              249\n",
              "38        11943  ...              365\n",
              "204       54466  ...              365\n",
              "260       63588  ...              349\n",
              "...         ...  ...              ...\n",
              "48890  36484665  ...                9\n",
              "48891  36485057  ...               36\n",
              "48892  36485431  ...               27\n",
              "48893  36485609  ...                2\n",
              "48894  36487245  ...               23\n",
              "\n",
              "[4972 rows x 16 columns]"
            ]
          },
          "metadata": {
            "tags": []
          },
          "execution_count": 114
        }
      ]
    },
    {
      "cell_type": "markdown",
      "metadata": {
        "id": "j8tml687TZIM"
      },
      "source": [
        "Now on these values we dont have any way of knowing if these are really been inactive for a year as these do not have reviews and do not have availability  we'll drop these "
      ]
    },
    {
      "cell_type": "code",
      "metadata": {
        "id": "ygDNV1Z-Nbx3"
      },
      "source": [
        "remove = df2.loc[(df2['availability_365']==0) & (df2['number_of_reviews']==0)].index.to_list()"
      ],
      "execution_count": 119,
      "outputs": []
    },
    {
      "cell_type": "code",
      "metadata": {
        "id": "e8LxTaR2UIGB"
      },
      "source": [
        "df3 = df2.copy()"
      ],
      "execution_count": 120,
      "outputs": []
    },
    {
      "cell_type": "code",
      "metadata": {
        "colab": {
          "base_uri": "https://localhost:8080/",
          "height": 817
        },
        "id": "fgKnuzccUK8D",
        "outputId": "796194fe-c0b7-45b9-96ab-33f62699ab65"
      },
      "source": [
        "df3.drop(index=remove)"
      ],
      "execution_count": 122,
      "outputs": [
        {
          "output_type": "execute_result",
          "data": {
            "text/html": [
              "<div>\n",
              "<style scoped>\n",
              "    .dataframe tbody tr th:only-of-type {\n",
              "        vertical-align: middle;\n",
              "    }\n",
              "\n",
              "    .dataframe tbody tr th {\n",
              "        vertical-align: top;\n",
              "    }\n",
              "\n",
              "    .dataframe thead th {\n",
              "        text-align: right;\n",
              "    }\n",
              "</style>\n",
              "<table border=\"1\" class=\"dataframe\">\n",
              "  <thead>\n",
              "    <tr style=\"text-align: right;\">\n",
              "      <th></th>\n",
              "      <th>id</th>\n",
              "      <th>name</th>\n",
              "      <th>host_id</th>\n",
              "      <th>host_name</th>\n",
              "      <th>neighbourhood_group</th>\n",
              "      <th>neighbourhood</th>\n",
              "      <th>latitude</th>\n",
              "      <th>longitude</th>\n",
              "      <th>room_type</th>\n",
              "      <th>price</th>\n",
              "      <th>minimum_nights</th>\n",
              "      <th>number_of_reviews</th>\n",
              "      <th>last_review</th>\n",
              "      <th>reviews_per_month</th>\n",
              "      <th>calculated_host_listings_count</th>\n",
              "      <th>availability_365</th>\n",
              "    </tr>\n",
              "  </thead>\n",
              "  <tbody>\n",
              "    <tr>\n",
              "      <th>0</th>\n",
              "      <td>2539</td>\n",
              "      <td>Clean &amp; quiet apt home by the park</td>\n",
              "      <td>2787</td>\n",
              "      <td>John</td>\n",
              "      <td>Brooklyn</td>\n",
              "      <td>Kensington</td>\n",
              "      <td>40.64749</td>\n",
              "      <td>-73.97237</td>\n",
              "      <td>Private room</td>\n",
              "      <td>149</td>\n",
              "      <td>1</td>\n",
              "      <td>9</td>\n",
              "      <td>2018-10-19 00:00:00</td>\n",
              "      <td>0.21</td>\n",
              "      <td>6</td>\n",
              "      <td>365</td>\n",
              "    </tr>\n",
              "    <tr>\n",
              "      <th>1</th>\n",
              "      <td>2595</td>\n",
              "      <td>Skylit Midtown Castle</td>\n",
              "      <td>2845</td>\n",
              "      <td>Jennifer</td>\n",
              "      <td>Manhattan</td>\n",
              "      <td>Midtown</td>\n",
              "      <td>40.75362</td>\n",
              "      <td>-73.98377</td>\n",
              "      <td>Entire home/apt</td>\n",
              "      <td>225</td>\n",
              "      <td>1</td>\n",
              "      <td>45</td>\n",
              "      <td>2019-05-21 00:00:00</td>\n",
              "      <td>0.38</td>\n",
              "      <td>2</td>\n",
              "      <td>355</td>\n",
              "    </tr>\n",
              "    <tr>\n",
              "      <th>2</th>\n",
              "      <td>3647</td>\n",
              "      <td>THE VILLAGE OF HARLEM....NEW YORK !</td>\n",
              "      <td>4632</td>\n",
              "      <td>Elisabeth</td>\n",
              "      <td>Manhattan</td>\n",
              "      <td>Harlem</td>\n",
              "      <td>40.80902</td>\n",
              "      <td>-73.94190</td>\n",
              "      <td>Private room</td>\n",
              "      <td>150</td>\n",
              "      <td>3</td>\n",
              "      <td>0</td>\n",
              "      <td>NA</td>\n",
              "      <td>0.00</td>\n",
              "      <td>1</td>\n",
              "      <td>365</td>\n",
              "    </tr>\n",
              "    <tr>\n",
              "      <th>3</th>\n",
              "      <td>3831</td>\n",
              "      <td>Cozy Entire Floor of Brownstone</td>\n",
              "      <td>4869</td>\n",
              "      <td>LisaRoxanne</td>\n",
              "      <td>Brooklyn</td>\n",
              "      <td>Clinton Hill</td>\n",
              "      <td>40.68514</td>\n",
              "      <td>-73.95976</td>\n",
              "      <td>Entire home/apt</td>\n",
              "      <td>89</td>\n",
              "      <td>1</td>\n",
              "      <td>270</td>\n",
              "      <td>2019-07-05 00:00:00</td>\n",
              "      <td>4.64</td>\n",
              "      <td>1</td>\n",
              "      <td>194</td>\n",
              "    </tr>\n",
              "    <tr>\n",
              "      <th>4</th>\n",
              "      <td>5022</td>\n",
              "      <td>Entire Apt: Spacious Studio/Loft by central park</td>\n",
              "      <td>7192</td>\n",
              "      <td>Laura</td>\n",
              "      <td>Manhattan</td>\n",
              "      <td>East Harlem</td>\n",
              "      <td>40.79851</td>\n",
              "      <td>-73.94399</td>\n",
              "      <td>Entire home/apt</td>\n",
              "      <td>80</td>\n",
              "      <td>10</td>\n",
              "      <td>9</td>\n",
              "      <td>2018-11-19 00:00:00</td>\n",
              "      <td>0.10</td>\n",
              "      <td>1</td>\n",
              "      <td>134 days 00:00:00</td>\n",
              "    </tr>\n",
              "    <tr>\n",
              "      <th>...</th>\n",
              "      <td>...</td>\n",
              "      <td>...</td>\n",
              "      <td>...</td>\n",
              "      <td>...</td>\n",
              "      <td>...</td>\n",
              "      <td>...</td>\n",
              "      <td>...</td>\n",
              "      <td>...</td>\n",
              "      <td>...</td>\n",
              "      <td>...</td>\n",
              "      <td>...</td>\n",
              "      <td>...</td>\n",
              "      <td>...</td>\n",
              "      <td>...</td>\n",
              "      <td>...</td>\n",
              "      <td>...</td>\n",
              "    </tr>\n",
              "    <tr>\n",
              "      <th>48890</th>\n",
              "      <td>36484665</td>\n",
              "      <td>Charming one bedroom - newly renovated rowhouse</td>\n",
              "      <td>8232441</td>\n",
              "      <td>Sabrina</td>\n",
              "      <td>Brooklyn</td>\n",
              "      <td>Bedford-Stuyvesant</td>\n",
              "      <td>40.67853</td>\n",
              "      <td>-73.94995</td>\n",
              "      <td>Private room</td>\n",
              "      <td>70</td>\n",
              "      <td>2</td>\n",
              "      <td>0</td>\n",
              "      <td>NA</td>\n",
              "      <td>0.00</td>\n",
              "      <td>2</td>\n",
              "      <td>9</td>\n",
              "    </tr>\n",
              "    <tr>\n",
              "      <th>48891</th>\n",
              "      <td>36485057</td>\n",
              "      <td>Affordable room in Bushwick/East Williamsburg</td>\n",
              "      <td>6570630</td>\n",
              "      <td>Marisol</td>\n",
              "      <td>Brooklyn</td>\n",
              "      <td>Bushwick</td>\n",
              "      <td>40.70184</td>\n",
              "      <td>-73.93317</td>\n",
              "      <td>Private room</td>\n",
              "      <td>40</td>\n",
              "      <td>4</td>\n",
              "      <td>0</td>\n",
              "      <td>NA</td>\n",
              "      <td>0.00</td>\n",
              "      <td>2</td>\n",
              "      <td>36</td>\n",
              "    </tr>\n",
              "    <tr>\n",
              "      <th>48892</th>\n",
              "      <td>36485431</td>\n",
              "      <td>Sunny Studio at Historical Neighborhood</td>\n",
              "      <td>23492952</td>\n",
              "      <td>Ilgar &amp; Aysel</td>\n",
              "      <td>Manhattan</td>\n",
              "      <td>Harlem</td>\n",
              "      <td>40.81475</td>\n",
              "      <td>-73.94867</td>\n",
              "      <td>Entire home/apt</td>\n",
              "      <td>115</td>\n",
              "      <td>10</td>\n",
              "      <td>0</td>\n",
              "      <td>NA</td>\n",
              "      <td>0.00</td>\n",
              "      <td>1</td>\n",
              "      <td>27</td>\n",
              "    </tr>\n",
              "    <tr>\n",
              "      <th>48893</th>\n",
              "      <td>36485609</td>\n",
              "      <td>43rd St. Time Square-cozy single bed</td>\n",
              "      <td>30985759</td>\n",
              "      <td>Taz</td>\n",
              "      <td>Manhattan</td>\n",
              "      <td>Hell's Kitchen</td>\n",
              "      <td>40.75751</td>\n",
              "      <td>-73.99112</td>\n",
              "      <td>Shared room</td>\n",
              "      <td>55</td>\n",
              "      <td>1</td>\n",
              "      <td>0</td>\n",
              "      <td>NA</td>\n",
              "      <td>0.00</td>\n",
              "      <td>6</td>\n",
              "      <td>2</td>\n",
              "    </tr>\n",
              "    <tr>\n",
              "      <th>48894</th>\n",
              "      <td>36487245</td>\n",
              "      <td>Trendy duplex in the very heart of Hell's Kitchen</td>\n",
              "      <td>68119814</td>\n",
              "      <td>Christophe</td>\n",
              "      <td>Manhattan</td>\n",
              "      <td>Hell's Kitchen</td>\n",
              "      <td>40.76404</td>\n",
              "      <td>-73.98933</td>\n",
              "      <td>Private room</td>\n",
              "      <td>90</td>\n",
              "      <td>7</td>\n",
              "      <td>0</td>\n",
              "      <td>NA</td>\n",
              "      <td>0.00</td>\n",
              "      <td>1</td>\n",
              "      <td>23</td>\n",
              "    </tr>\n",
              "  </tbody>\n",
              "</table>\n",
              "<p>35783 rows × 16 columns</p>\n",
              "</div>"
            ],
            "text/plain": [
              "             id  ...   availability_365\n",
              "0          2539  ...                365\n",
              "1          2595  ...                355\n",
              "2          3647  ...                365\n",
              "3          3831  ...                194\n",
              "4          5022  ...  134 days 00:00:00\n",
              "...         ...  ...                ...\n",
              "48890  36484665  ...                  9\n",
              "48891  36485057  ...                 36\n",
              "48892  36485431  ...                 27\n",
              "48893  36485609  ...                  2\n",
              "48894  36487245  ...                 23\n",
              "\n",
              "[35783 rows x 16 columns]"
            ]
          },
          "metadata": {
            "tags": []
          },
          "execution_count": 122
        }
      ]
    },
    {
      "cell_type": "code",
      "metadata": {
        "id": "89AJB8NGVD0L"
      },
      "source": [
        "Now rows with 0 price"
      ],
      "execution_count": null,
      "outputs": []
    },
    {
      "cell_type": "code",
      "metadata": {
        "id": "hUTxt1RDvk2K",
        "colab": {
          "base_uri": "https://localhost:8080/",
          "height": 895
        },
        "outputId": "85a82b88-9873-45d0-b1bb-8de1412b2a82"
      },
      "source": [
        "df3[df3['price'] == 0]"
      ],
      "execution_count": 124,
      "outputs": [
        {
          "output_type": "execute_result",
          "data": {
            "text/html": [
              "<div>\n",
              "<style scoped>\n",
              "    .dataframe tbody tr th:only-of-type {\n",
              "        vertical-align: middle;\n",
              "    }\n",
              "\n",
              "    .dataframe tbody tr th {\n",
              "        vertical-align: top;\n",
              "    }\n",
              "\n",
              "    .dataframe thead th {\n",
              "        text-align: right;\n",
              "    }\n",
              "</style>\n",
              "<table border=\"1\" class=\"dataframe\">\n",
              "  <thead>\n",
              "    <tr style=\"text-align: right;\">\n",
              "      <th></th>\n",
              "      <th>id</th>\n",
              "      <th>name</th>\n",
              "      <th>host_id</th>\n",
              "      <th>host_name</th>\n",
              "      <th>neighbourhood_group</th>\n",
              "      <th>neighbourhood</th>\n",
              "      <th>latitude</th>\n",
              "      <th>longitude</th>\n",
              "      <th>room_type</th>\n",
              "      <th>price</th>\n",
              "      <th>minimum_nights</th>\n",
              "      <th>number_of_reviews</th>\n",
              "      <th>last_review</th>\n",
              "      <th>reviews_per_month</th>\n",
              "      <th>calculated_host_listings_count</th>\n",
              "      <th>availability_365</th>\n",
              "    </tr>\n",
              "  </thead>\n",
              "  <tbody>\n",
              "    <tr>\n",
              "      <th>23161</th>\n",
              "      <td>18750597</td>\n",
              "      <td>Huge Brooklyn Brownstone Living, Close to it all.</td>\n",
              "      <td>8993084</td>\n",
              "      <td>Kimberly</td>\n",
              "      <td>Brooklyn</td>\n",
              "      <td>Bedford-Stuyvesant</td>\n",
              "      <td>40.69023</td>\n",
              "      <td>-73.95428</td>\n",
              "      <td>Private room</td>\n",
              "      <td>0</td>\n",
              "      <td>4</td>\n",
              "      <td>1</td>\n",
              "      <td>2018-01-06 00:00:00</td>\n",
              "      <td>0.05</td>\n",
              "      <td>4</td>\n",
              "      <td>28</td>\n",
              "    </tr>\n",
              "    <tr>\n",
              "      <th>25433</th>\n",
              "      <td>20333471</td>\n",
              "      <td>★Hostel Style Room | Ideal Traveling Buddies★</td>\n",
              "      <td>131697576</td>\n",
              "      <td>Anisha</td>\n",
              "      <td>Bronx</td>\n",
              "      <td>East Morrisania</td>\n",
              "      <td>40.83296</td>\n",
              "      <td>-73.88668</td>\n",
              "      <td>Private room</td>\n",
              "      <td>0</td>\n",
              "      <td>2</td>\n",
              "      <td>55</td>\n",
              "      <td>2019-06-24 00:00:00</td>\n",
              "      <td>2.56</td>\n",
              "      <td>4</td>\n",
              "      <td>127</td>\n",
              "    </tr>\n",
              "    <tr>\n",
              "      <th>25634</th>\n",
              "      <td>20523843</td>\n",
              "      <td>MARTIAL LOFT 3: REDEMPTION (upstairs, 2nd room)</td>\n",
              "      <td>15787004</td>\n",
              "      <td>Martial Loft</td>\n",
              "      <td>Brooklyn</td>\n",
              "      <td>Bushwick</td>\n",
              "      <td>40.69467</td>\n",
              "      <td>-73.92433</td>\n",
              "      <td>Private room</td>\n",
              "      <td>0</td>\n",
              "      <td>2</td>\n",
              "      <td>16</td>\n",
              "      <td>2019-05-18 00:00:00</td>\n",
              "      <td>0.71</td>\n",
              "      <td>5</td>\n",
              "      <td>314 days 00:00:00</td>\n",
              "    </tr>\n",
              "    <tr>\n",
              "      <th>25778</th>\n",
              "      <td>20624541</td>\n",
              "      <td>Modern apartment in the heart of Williamsburg</td>\n",
              "      <td>10132166</td>\n",
              "      <td>Aymeric</td>\n",
              "      <td>Brooklyn</td>\n",
              "      <td>Williamsburg</td>\n",
              "      <td>40.70838</td>\n",
              "      <td>-73.94645</td>\n",
              "      <td>Entire home/apt</td>\n",
              "      <td>0</td>\n",
              "      <td>5</td>\n",
              "      <td>3</td>\n",
              "      <td>2018-01-02 00:00:00</td>\n",
              "      <td>0.15</td>\n",
              "      <td>1</td>\n",
              "      <td>73</td>\n",
              "    </tr>\n",
              "    <tr>\n",
              "      <th>25794</th>\n",
              "      <td>20639628</td>\n",
              "      <td>Spacious comfortable master bedroom with nice ...</td>\n",
              "      <td>86327101</td>\n",
              "      <td>Adeyemi</td>\n",
              "      <td>Brooklyn</td>\n",
              "      <td>Bedford-Stuyvesant</td>\n",
              "      <td>40.68173</td>\n",
              "      <td>-73.91342</td>\n",
              "      <td>Private room</td>\n",
              "      <td>0</td>\n",
              "      <td>1</td>\n",
              "      <td>93</td>\n",
              "      <td>2019-06-15 00:00:00</td>\n",
              "      <td>4.28</td>\n",
              "      <td>6</td>\n",
              "      <td>176</td>\n",
              "    </tr>\n",
              "    <tr>\n",
              "      <th>25795</th>\n",
              "      <td>20639792</td>\n",
              "      <td>Contemporary bedroom in brownstone with nice view</td>\n",
              "      <td>86327101</td>\n",
              "      <td>Adeyemi</td>\n",
              "      <td>Brooklyn</td>\n",
              "      <td>Bedford-Stuyvesant</td>\n",
              "      <td>40.68279</td>\n",
              "      <td>-73.91170</td>\n",
              "      <td>Private room</td>\n",
              "      <td>0</td>\n",
              "      <td>1</td>\n",
              "      <td>95</td>\n",
              "      <td>2019-06-21 00:00:00</td>\n",
              "      <td>4.37</td>\n",
              "      <td>6</td>\n",
              "      <td>232</td>\n",
              "    </tr>\n",
              "    <tr>\n",
              "      <th>25796</th>\n",
              "      <td>20639914</td>\n",
              "      <td>Cozy yet spacious private brownstone bedroom</td>\n",
              "      <td>86327101</td>\n",
              "      <td>Adeyemi</td>\n",
              "      <td>Brooklyn</td>\n",
              "      <td>Bedford-Stuyvesant</td>\n",
              "      <td>40.68258</td>\n",
              "      <td>-73.91284</td>\n",
              "      <td>Private room</td>\n",
              "      <td>0</td>\n",
              "      <td>1</td>\n",
              "      <td>95</td>\n",
              "      <td>2019-06-23 00:00:00</td>\n",
              "      <td>4.35</td>\n",
              "      <td>6</td>\n",
              "      <td>222</td>\n",
              "    </tr>\n",
              "    <tr>\n",
              "      <th>26259</th>\n",
              "      <td>20933849</td>\n",
              "      <td>the best you can find</td>\n",
              "      <td>13709292</td>\n",
              "      <td>Qiuchi</td>\n",
              "      <td>Manhattan</td>\n",
              "      <td>Murray Hill</td>\n",
              "      <td>40.75091</td>\n",
              "      <td>-73.97597</td>\n",
              "      <td>Entire home/apt</td>\n",
              "      <td>0</td>\n",
              "      <td>3</td>\n",
              "      <td>0</td>\n",
              "      <td>NA</td>\n",
              "      <td>0.00</td>\n",
              "      <td>1</td>\n",
              "      <td>0</td>\n",
              "    </tr>\n",
              "    <tr>\n",
              "      <th>26841</th>\n",
              "      <td>21291569</td>\n",
              "      <td>Coliving in Brooklyn! Modern design / Shared room</td>\n",
              "      <td>101970559</td>\n",
              "      <td>Sergii</td>\n",
              "      <td>Brooklyn</td>\n",
              "      <td>Bushwick</td>\n",
              "      <td>40.69211</td>\n",
              "      <td>-73.90670</td>\n",
              "      <td>Shared room</td>\n",
              "      <td>0</td>\n",
              "      <td>30</td>\n",
              "      <td>2</td>\n",
              "      <td>2019-06-22 00:00:00</td>\n",
              "      <td>0.11</td>\n",
              "      <td>6</td>\n",
              "      <td>333</td>\n",
              "    </tr>\n",
              "    <tr>\n",
              "      <th>26866</th>\n",
              "      <td>21304320</td>\n",
              "      <td>Best Coliving space ever! Shared room.</td>\n",
              "      <td>101970559</td>\n",
              "      <td>Sergii</td>\n",
              "      <td>Brooklyn</td>\n",
              "      <td>Bushwick</td>\n",
              "      <td>40.69166</td>\n",
              "      <td>-73.90928</td>\n",
              "      <td>Shared room</td>\n",
              "      <td>0</td>\n",
              "      <td>30</td>\n",
              "      <td>5</td>\n",
              "      <td>2019-05-24 00:00:00</td>\n",
              "      <td>0.26</td>\n",
              "      <td>6</td>\n",
              "      <td>139</td>\n",
              "    </tr>\n",
              "  </tbody>\n",
              "</table>\n",
              "</div>"
            ],
            "text/plain": [
              "             id  ...   availability_365\n",
              "23161  18750597  ...                 28\n",
              "25433  20333471  ...                127\n",
              "25634  20523843  ...  314 days 00:00:00\n",
              "25778  20624541  ...                 73\n",
              "25794  20639628  ...                176\n",
              "25795  20639792  ...                232\n",
              "25796  20639914  ...                222\n",
              "26259  20933849  ...                  0\n",
              "26841  21291569  ...                333\n",
              "26866  21304320  ...                139\n",
              "\n",
              "[10 rows x 16 columns]"
            ]
          },
          "metadata": {
            "tags": []
          },
          "execution_count": 124
        }
      ]
    },
    {
      "cell_type": "code",
      "metadata": {
        "colab": {
          "base_uri": "https://localhost:8080/",
          "height": 456
        },
        "id": "TjXsVqnCsq0F",
        "outputId": "9ebd29cc-dca1-4f66-99f2-9c9162bc5246"
      },
      "source": [
        "sns.distplot(df['price'], hist=True,bins=100)\r\n",
        "sns.distplot(df['number_of_reviews'], hist=True,bins=100)\r\n",
        "sns.distplot(df['minimum_nights'], hist=True,bins=100)\r\n",
        "sns.distplot(df['availability_365'], hist=True,bins=100)\r\n",
        "\r\n"
      ],
      "execution_count": null,
      "outputs": [
        {
          "output_type": "stream",
          "text": [
            "/usr/local/lib/python3.7/dist-packages/seaborn/distributions.py:2557: FutureWarning: `distplot` is a deprecated function and will be removed in a future version. Please adapt your code to use either `displot` (a figure-level function with similar flexibility) or `histplot` (an axes-level function for histograms).\n",
            "  warnings.warn(msg, FutureWarning)\n",
            "/usr/local/lib/python3.7/dist-packages/seaborn/distributions.py:2557: FutureWarning: `distplot` is a deprecated function and will be removed in a future version. Please adapt your code to use either `displot` (a figure-level function with similar flexibility) or `histplot` (an axes-level function for histograms).\n",
            "  warnings.warn(msg, FutureWarning)\n",
            "/usr/local/lib/python3.7/dist-packages/seaborn/distributions.py:2557: FutureWarning: `distplot` is a deprecated function and will be removed in a future version. Please adapt your code to use either `displot` (a figure-level function with similar flexibility) or `histplot` (an axes-level function for histograms).\n",
            "  warnings.warn(msg, FutureWarning)\n",
            "/usr/local/lib/python3.7/dist-packages/seaborn/distributions.py:2557: FutureWarning: `distplot` is a deprecated function and will be removed in a future version. Please adapt your code to use either `displot` (a figure-level function with similar flexibility) or `histplot` (an axes-level function for histograms).\n",
            "  warnings.warn(msg, FutureWarning)\n"
          ],
          "name": "stderr"
        },
        {
          "output_type": "execute_result",
          "data": {
            "text/plain": [
              "<matplotlib.axes._subplots.AxesSubplot at 0x7f6d3b6acb10>"
            ]
          },
          "metadata": {
            "tags": []
          },
          "execution_count": 254
        },
        {
          "output_type": "display_data",
          "data": {
            "image/png": "[encoded data removed]",
            "text/plain": [
              "<Figure size 432x288 with 1 Axes>"
            ]
          },
          "metadata": {
            "tags": [],
            "needs_background": "light"
          }
        }
      ]
    },
    {
      "cell_type": "code",
      "metadata": {
        "id": "gtOfkXO0rnqX"
      },
      "source": [
        ""
      ],
      "execution_count": null,
      "outputs": []
    },
    {
      "cell_type": "code",
      "metadata": {
        "colab": {
          "base_uri": "https://localhost:8080/",
          "height": 782
        },
        "id": "RB2VBg8zZiW-",
        "outputId": "2d893ada-03f2-432f-b54d-60f51672703c"
      },
      "source": [
        ""
      ],
      "execution_count": null,
      "outputs": [
        {
          "output_type": "execute_result",
          "data": {
            "text/html": [
              "<div>\n",
              "<style scoped>\n",
              "    .dataframe tbody tr th:only-of-type {\n",
              "        vertical-align: middle;\n",
              "    }\n",
              "\n",
              "    .dataframe tbody tr th {\n",
              "        vertical-align: top;\n",
              "    }\n",
              "\n",
              "    .dataframe thead th {\n",
              "        text-align: right;\n",
              "    }\n",
              "</style>\n",
              "<table border=\"1\" class=\"dataframe\">\n",
              "  <thead>\n",
              "    <tr style=\"text-align: right;\">\n",
              "      <th></th>\n",
              "      <th>id</th>\n",
              "      <th>name</th>\n",
              "      <th>host_id</th>\n",
              "      <th>host_name</th>\n",
              "      <th>neighbourhood_group</th>\n",
              "      <th>neighbourhood</th>\n",
              "      <th>latitude</th>\n",
              "      <th>longitude</th>\n",
              "      <th>room_type</th>\n",
              "      <th>price</th>\n",
              "      <th>minimum_nights</th>\n",
              "      <th>number_of_reviews</th>\n",
              "      <th>last_review</th>\n",
              "      <th>reviews_per_month</th>\n",
              "      <th>calculated_host_listings_count</th>\n",
              "      <th>availability_365</th>\n",
              "    </tr>\n",
              "  </thead>\n",
              "  <tbody>\n",
              "    <tr>\n",
              "      <th>23161</th>\n",
              "      <td>18750597</td>\n",
              "      <td>Huge Brooklyn Brownstone Living, Close to it all.</td>\n",
              "      <td>8993084</td>\n",
              "      <td>Kimberly</td>\n",
              "      <td>Brooklyn</td>\n",
              "      <td>Bedford-Stuyvesant</td>\n",
              "      <td>40.69023</td>\n",
              "      <td>-73.95428</td>\n",
              "      <td>Private room</td>\n",
              "      <td>0</td>\n",
              "      <td>4</td>\n",
              "      <td>1</td>\n",
              "      <td>2018-01-06</td>\n",
              "      <td>0.05</td>\n",
              "      <td>4</td>\n",
              "      <td>28</td>\n",
              "    </tr>\n",
              "    <tr>\n",
              "      <th>25433</th>\n",
              "      <td>20333471</td>\n",
              "      <td>★Hostel Style Room | Ideal Traveling Buddies★</td>\n",
              "      <td>131697576</td>\n",
              "      <td>Anisha</td>\n",
              "      <td>Bronx</td>\n",
              "      <td>East Morrisania</td>\n",
              "      <td>40.83296</td>\n",
              "      <td>-73.88668</td>\n",
              "      <td>Private room</td>\n",
              "      <td>0</td>\n",
              "      <td>2</td>\n",
              "      <td>55</td>\n",
              "      <td>2019-06-24</td>\n",
              "      <td>2.56</td>\n",
              "      <td>4</td>\n",
              "      <td>127</td>\n",
              "    </tr>\n",
              "    <tr>\n",
              "      <th>25778</th>\n",
              "      <td>20624541</td>\n",
              "      <td>Modern apartment in the heart of Williamsburg</td>\n",
              "      <td>10132166</td>\n",
              "      <td>Aymeric</td>\n",
              "      <td>Brooklyn</td>\n",
              "      <td>Williamsburg</td>\n",
              "      <td>40.70838</td>\n",
              "      <td>-73.94645</td>\n",
              "      <td>Entire home/apt</td>\n",
              "      <td>0</td>\n",
              "      <td>5</td>\n",
              "      <td>3</td>\n",
              "      <td>2018-01-02</td>\n",
              "      <td>0.15</td>\n",
              "      <td>1</td>\n",
              "      <td>73</td>\n",
              "    </tr>\n",
              "    <tr>\n",
              "      <th>25794</th>\n",
              "      <td>20639628</td>\n",
              "      <td>Spacious comfortable master bedroom with nice ...</td>\n",
              "      <td>86327101</td>\n",
              "      <td>Adeyemi</td>\n",
              "      <td>Brooklyn</td>\n",
              "      <td>Bedford-Stuyvesant</td>\n",
              "      <td>40.68173</td>\n",
              "      <td>-73.91342</td>\n",
              "      <td>Private room</td>\n",
              "      <td>0</td>\n",
              "      <td>1</td>\n",
              "      <td>93</td>\n",
              "      <td>2019-06-15</td>\n",
              "      <td>4.28</td>\n",
              "      <td>6</td>\n",
              "      <td>176</td>\n",
              "    </tr>\n",
              "    <tr>\n",
              "      <th>25795</th>\n",
              "      <td>20639792</td>\n",
              "      <td>Contemporary bedroom in brownstone with nice view</td>\n",
              "      <td>86327101</td>\n",
              "      <td>Adeyemi</td>\n",
              "      <td>Brooklyn</td>\n",
              "      <td>Bedford-Stuyvesant</td>\n",
              "      <td>40.68279</td>\n",
              "      <td>-73.91170</td>\n",
              "      <td>Private room</td>\n",
              "      <td>0</td>\n",
              "      <td>1</td>\n",
              "      <td>95</td>\n",
              "      <td>2019-06-21</td>\n",
              "      <td>4.37</td>\n",
              "      <td>6</td>\n",
              "      <td>232</td>\n",
              "    </tr>\n",
              "    <tr>\n",
              "      <th>25796</th>\n",
              "      <td>20639914</td>\n",
              "      <td>Cozy yet spacious private brownstone bedroom</td>\n",
              "      <td>86327101</td>\n",
              "      <td>Adeyemi</td>\n",
              "      <td>Brooklyn</td>\n",
              "      <td>Bedford-Stuyvesant</td>\n",
              "      <td>40.68258</td>\n",
              "      <td>-73.91284</td>\n",
              "      <td>Private room</td>\n",
              "      <td>0</td>\n",
              "      <td>1</td>\n",
              "      <td>95</td>\n",
              "      <td>2019-06-23</td>\n",
              "      <td>4.35</td>\n",
              "      <td>6</td>\n",
              "      <td>222</td>\n",
              "    </tr>\n",
              "    <tr>\n",
              "      <th>26841</th>\n",
              "      <td>21291569</td>\n",
              "      <td>Coliving in Brooklyn! Modern design / Shared room</td>\n",
              "      <td>101970559</td>\n",
              "      <td>Sergii</td>\n",
              "      <td>Brooklyn</td>\n",
              "      <td>Bushwick</td>\n",
              "      <td>40.69211</td>\n",
              "      <td>-73.90670</td>\n",
              "      <td>Shared room</td>\n",
              "      <td>0</td>\n",
              "      <td>30</td>\n",
              "      <td>2</td>\n",
              "      <td>2019-06-22</td>\n",
              "      <td>0.11</td>\n",
              "      <td>6</td>\n",
              "      <td>333</td>\n",
              "    </tr>\n",
              "    <tr>\n",
              "      <th>26866</th>\n",
              "      <td>21304320</td>\n",
              "      <td>Best Coliving space ever! Shared room.</td>\n",
              "      <td>101970559</td>\n",
              "      <td>Sergii</td>\n",
              "      <td>Brooklyn</td>\n",
              "      <td>Bushwick</td>\n",
              "      <td>40.69166</td>\n",
              "      <td>-73.90928</td>\n",
              "      <td>Shared room</td>\n",
              "      <td>0</td>\n",
              "      <td>30</td>\n",
              "      <td>5</td>\n",
              "      <td>2019-05-24</td>\n",
              "      <td>0.26</td>\n",
              "      <td>6</td>\n",
              "      <td>139</td>\n",
              "    </tr>\n",
              "  </tbody>\n",
              "</table>\n",
              "</div>"
            ],
            "text/plain": [
              "             id  ... availability_365\n",
              "23161  18750597  ...               28\n",
              "25433  20333471  ...              127\n",
              "25778  20624541  ...               73\n",
              "25794  20639628  ...              176\n",
              "25795  20639792  ...              232\n",
              "25796  20639914  ...              222\n",
              "26841  21291569  ...              333\n",
              "26866  21304320  ...              139\n",
              "\n",
              "[8 rows x 16 columns]"
            ]
          },
          "metadata": {
            "tags": []
          },
          "execution_count": 208
        }
      ]
    },
    {
      "cell_type": "code",
      "metadata": {
        "id": "kXA_DTo-ApmC"
      },
      "source": [
        "#correcting the prices with 0 values to median values\r\n",
        "#update the price values based on categorical (subgroup)\r\n",
        "df.loc[df['price'] == 0,'price'] = df.loc[df['price'] != 0,'price'].median()"
      ],
      "execution_count": null,
      "outputs": []
    },
    {
      "cell_type": "code",
      "metadata": {
        "colab": {
          "base_uri": "https://localhost:8080/"
        },
        "id": "QZ22AaWiZpyv",
        "outputId": "ff5fc31a-1ebf-4163-d3aa-f6deb3f1cb25"
      },
      "source": [
        "df.loc[df['price'] == 0,'price']"
      ],
      "execution_count": null,
      "outputs": [
        {
          "output_type": "execute_result",
          "data": {
            "text/plain": [
              "Series([], Name: price, dtype: int64)"
            ]
          },
          "metadata": {
            "tags": []
          },
          "execution_count": 167
        }
      ]
    },
    {
      "cell_type": "code",
      "metadata": {
        "id": "FXr_5bjL-798"
      },
      "source": [
        "neighbourhood_group_df = df.groupby('neighbourhood_group')['price'].mean().reset_index()"
      ],
      "execution_count": null,
      "outputs": []
    },
    {
      "cell_type": "code",
      "metadata": {
        "id": "pgAdn150b0Jf"
      },
      "source": [
        "neighbourhood_group_df['number_of_reviews'] = (df.groupby('neighbourhood_group')['number_of_reviews'].sum().reset_index())['number_of_reviews']"
      ],
      "execution_count": null,
      "outputs": []
    },
    {
      "cell_type": "code",
      "metadata": {
        "id": "jEHdfUgrrMGE"
      },
      "source": [
        "neighbourhood_group_df['number_of_listings'] = (df.groupby('neighbourhood_group')['id'].count().reset_index())['id']"
      ],
      "execution_count": null,
      "outputs": []
    },
    {
      "cell_type": "code",
      "metadata": {
        "id": "HTa_41Es-hda"
      },
      "source": [
        "neighbourhood_group_df['standard_deviation'] = (df.groupby('neighbourhood_group')['price'].std().reset_index())['price']"
      ],
      "execution_count": null,
      "outputs": []
    },
    {
      "cell_type": "code",
      "metadata": {
        "id": "pIQvFBXgLBgv"
      },
      "source": [
        "neighbourhood_group_df['last_review'] = (df.groupby('neighbourhood_group')['last_review'].max().reset_index())['last_review']"
      ],
      "execution_count": null,
      "outputs": []
    },
    {
      "cell_type": "code",
      "metadata": {
        "id": "IeIUZcylLnGl"
      },
      "source": [
        "neighbourhood_group_df['number_of_hosts'] = (df.groupby('neighbourhood_group')['host_id'].count().reset_index())['host_id']"
      ],
      "execution_count": null,
      "outputs": []
    },
    {
      "cell_type": "code",
      "metadata": {
        "id": "J7VL8yjYQDHf"
      },
      "source": [
        ""
      ],
      "execution_count": null,
      "outputs": []
    },
    {
      "cell_type": "code",
      "metadata": {
        "colab": {
          "base_uri": "https://localhost:8080/",
          "height": 202
        },
        "id": "HracLfQDdTb5",
        "outputId": "52604252-f004-46d7-afb2-4fc929d32cf1"
      },
      "source": [
        "neighbourhood_group_df.drop('number_of_hosts',axis = 1)"
      ],
      "execution_count": null,
      "outputs": [
        {
          "output_type": "execute_result",
          "data": {
            "text/html": [
              "<div>\n",
              "<style scoped>\n",
              "    .dataframe tbody tr th:only-of-type {\n",
              "        vertical-align: middle;\n",
              "    }\n",
              "\n",
              "    .dataframe tbody tr th {\n",
              "        vertical-align: top;\n",
              "    }\n",
              "\n",
              "    .dataframe thead th {\n",
              "        text-align: right;\n",
              "    }\n",
              "</style>\n",
              "<table border=\"1\" class=\"dataframe\">\n",
              "  <thead>\n",
              "    <tr style=\"text-align: right;\">\n",
              "      <th></th>\n",
              "      <th>neighbourhood_group</th>\n",
              "      <th>price</th>\n",
              "      <th>number_of_reviews</th>\n",
              "      <th>number_of_listings</th>\n",
              "      <th>standard_deviation</th>\n",
              "      <th>last_review</th>\n",
              "    </tr>\n",
              "  </thead>\n",
              "  <tbody>\n",
              "    <tr>\n",
              "      <th>0</th>\n",
              "      <td>Bronx</td>\n",
              "      <td>89.130197</td>\n",
              "      <td>26582</td>\n",
              "      <td>914</td>\n",
              "      <td>112.617584</td>\n",
              "      <td>2019-07-07</td>\n",
              "    </tr>\n",
              "    <tr>\n",
              "      <th>1</th>\n",
              "      <td>Brooklyn</td>\n",
              "      <td>132.916313</td>\n",
              "      <td>425357</td>\n",
              "      <td>12260</td>\n",
              "      <td>188.984983</td>\n",
              "      <td>2019-07-08</td>\n",
              "    </tr>\n",
              "    <tr>\n",
              "      <th>2</th>\n",
              "      <td>Manhattan</td>\n",
              "      <td>214.202080</td>\n",
              "      <td>392267</td>\n",
              "      <td>13559</td>\n",
              "      <td>325.029426</td>\n",
              "      <td>2019-07-08</td>\n",
              "    </tr>\n",
              "    <tr>\n",
              "      <th>3</th>\n",
              "      <td>Queens</td>\n",
              "      <td>100.029781</td>\n",
              "      <td>143883</td>\n",
              "      <td>4298</td>\n",
              "      <td>108.584467</td>\n",
              "      <td>2019-07-08</td>\n",
              "    </tr>\n",
              "    <tr>\n",
              "      <th>4</th>\n",
              "      <td>Staten Island</td>\n",
              "      <td>114.229607</td>\n",
              "      <td>10865</td>\n",
              "      <td>331</td>\n",
              "      <td>291.526508</td>\n",
              "      <td>2019-07-08</td>\n",
              "    </tr>\n",
              "  </tbody>\n",
              "</table>\n",
              "</div>"
            ],
            "text/plain": [
              "  neighbourhood_group       price  ...  standard_deviation  last_review\n",
              "0               Bronx   89.130197  ...          112.617584   2019-07-07\n",
              "1            Brooklyn  132.916313  ...          188.984983   2019-07-08\n",
              "2           Manhattan  214.202080  ...          325.029426   2019-07-08\n",
              "3              Queens  100.029781  ...          108.584467   2019-07-08\n",
              "4       Staten Island  114.229607  ...          291.526508   2019-07-08\n",
              "\n",
              "[5 rows x 6 columns]"
            ]
          },
          "metadata": {
            "tags": []
          },
          "execution_count": 174
        }
      ]
    },
    {
      "cell_type": "code",
      "metadata": {
        "colab": {
          "base_uri": "https://localhost:8080/",
          "height": 423
        },
        "id": "CuOGO2kRkSDw",
        "outputId": "480d8e09-e04b-44e2-ca25-05f7f250be37"
      },
      "source": [
        "plt.rcParams['figure.figsize'] = (10, 5)\r\n",
        "df.groupby(['neighbourhood_group','room_type'])['price'].mean().unstack().plot(kind=\"bar\")\r\n",
        "plt.title('Price range over different neighbourhood groups')\r\n",
        "plt.ylabel('Average Price')\r\n",
        "plt.xlabel('Neighbourhood`')"
      ],
      "execution_count": null,
      "outputs": [
        {
          "output_type": "execute_result",
          "data": {
            "text/plain": [
              "Text(0.5, 0, 'Neighbourhood`')"
            ]
          },
          "metadata": {
            "tags": []
          },
          "execution_count": 175
        },
        {
          "output_type": "display_data",
          "data": {
            "image/png": "[encoded data removed]",
            "text/plain": [
              "<Figure size 720x360 with 1 Axes>"
            ]
          },
          "metadata": {
            "tags": [],
            "needs_background": "light"
          }
        }
      ]
    },
    {
      "cell_type": "code",
      "metadata": {
        "id": "5xM3JhUMQgIh"
      },
      "source": [
        "host_df = df.groupby('host_id')['id'].count().reset_index().sort_values('id',ascending = False)"
      ],
      "execution_count": null,
      "outputs": []
    },
    {
      "cell_type": "code",
      "metadata": {
        "colab": {
          "base_uri": "https://localhost:8080/",
          "height": 415
        },
        "id": "DUyd9EawRqGI",
        "outputId": "b9b71522-f777-4e77-ba56-56a6fae3265e"
      },
      "source": [
        "host_df"
      ],
      "execution_count": null,
      "outputs": [
        {
          "output_type": "execute_result",
          "data": {
            "text/html": [
              "<div>\n",
              "<style scoped>\n",
              "    .dataframe tbody tr th:only-of-type {\n",
              "        vertical-align: middle;\n",
              "    }\n",
              "\n",
              "    .dataframe tbody tr th {\n",
              "        vertical-align: top;\n",
              "    }\n",
              "\n",
              "    .dataframe thead th {\n",
              "        text-align: right;\n",
              "    }\n",
              "</style>\n",
              "<table border=\"1\" class=\"dataframe\">\n",
              "  <thead>\n",
              "    <tr style=\"text-align: right;\">\n",
              "      <th></th>\n",
              "      <th>host_id</th>\n",
              "      <th>id</th>\n",
              "    </tr>\n",
              "  </thead>\n",
              "  <tbody>\n",
              "    <tr>\n",
              "      <th>19267</th>\n",
              "      <td>219517861</td>\n",
              "      <td>327</td>\n",
              "    </tr>\n",
              "    <tr>\n",
              "      <th>15504</th>\n",
              "      <td>107434423</td>\n",
              "      <td>232</td>\n",
              "    </tr>\n",
              "    <tr>\n",
              "      <th>10412</th>\n",
              "      <td>30283594</td>\n",
              "      <td>121</td>\n",
              "    </tr>\n",
              "    <tr>\n",
              "      <th>7164</th>\n",
              "      <td>12243051</td>\n",
              "      <td>96</td>\n",
              "    </tr>\n",
              "    <tr>\n",
              "      <th>16600</th>\n",
              "      <td>137358866</td>\n",
              "      <td>92</td>\n",
              "    </tr>\n",
              "    <tr>\n",
              "      <th>...</th>\n",
              "      <td>...</td>\n",
              "      <td>...</td>\n",
              "    </tr>\n",
              "    <tr>\n",
              "      <th>7897</th>\n",
              "      <td>16030422</td>\n",
              "      <td>1</td>\n",
              "    </tr>\n",
              "    <tr>\n",
              "      <th>7895</th>\n",
              "      <td>16024560</td>\n",
              "      <td>1</td>\n",
              "    </tr>\n",
              "    <tr>\n",
              "      <th>7894</th>\n",
              "      <td>16015663</td>\n",
              "      <td>1</td>\n",
              "    </tr>\n",
              "    <tr>\n",
              "      <th>7893</th>\n",
              "      <td>16006197</td>\n",
              "      <td>1</td>\n",
              "    </tr>\n",
              "    <tr>\n",
              "      <th>21808</th>\n",
              "      <td>274321313</td>\n",
              "      <td>1</td>\n",
              "    </tr>\n",
              "  </tbody>\n",
              "</table>\n",
              "<p>21809 rows × 2 columns</p>\n",
              "</div>"
            ],
            "text/plain": [
              "         host_id   id\n",
              "19267  219517861  327\n",
              "15504  107434423  232\n",
              "10412   30283594  121\n",
              "7164    12243051   96\n",
              "16600  137358866   92\n",
              "...          ...  ...\n",
              "7897    16030422    1\n",
              "7895    16024560    1\n",
              "7894    16015663    1\n",
              "7893    16006197    1\n",
              "21808  274321313    1\n",
              "\n",
              "[21809 rows x 2 columns]"
            ]
          },
          "metadata": {
            "tags": []
          },
          "execution_count": 177
        }
      ]
    },
    {
      "cell_type": "code",
      "metadata": {
        "id": "v7gPeio1R_6G"
      },
      "source": [
        "def get_neighbourhood(row):\r\n",
        "  li = []\r\n",
        "  for area in df.loc[row == df['host_id'],'neighbourhood_group']:\r\n",
        "    li.append(area)\r\n",
        "  return list(set(li))"
      ],
      "execution_count": null,
      "outputs": []
    },
    {
      "cell_type": "code",
      "metadata": {
        "id": "ReGbH5YRQ4bd"
      },
      "source": [
        "host_df['neighbourhood'] = host_df['host_id'].apply(lambda row: get_neighbourhood(row))"
      ],
      "execution_count": null,
      "outputs": []
    },
    {
      "cell_type": "code",
      "metadata": {
        "id": "G9u7ZfBaVEFk"
      },
      "source": [
        "host_df['avg_number_of_days'] = host_df['host_id'].apply(lambda row: df.loc[df['host_id']==row,'availability_365'].mean())"
      ],
      "execution_count": null,
      "outputs": []
    },
    {
      "cell_type": "code",
      "metadata": {
        "colab": {
          "base_uri": "https://localhost:8080/",
          "height": 415
        },
        "id": "JwKWpa3UUTaR",
        "outputId": "03e87a55-6dd7-41ca-9d1f-81a456040925"
      },
      "source": [
        "host_df"
      ],
      "execution_count": null,
      "outputs": [
        {
          "output_type": "execute_result",
          "data": {
            "text/html": [
              "<div>\n",
              "<style scoped>\n",
              "    .dataframe tbody tr th:only-of-type {\n",
              "        vertical-align: middle;\n",
              "    }\n",
              "\n",
              "    .dataframe tbody tr th {\n",
              "        vertical-align: top;\n",
              "    }\n",
              "\n",
              "    .dataframe thead th {\n",
              "        text-align: right;\n",
              "    }\n",
              "</style>\n",
              "<table border=\"1\" class=\"dataframe\">\n",
              "  <thead>\n",
              "    <tr style=\"text-align: right;\">\n",
              "      <th></th>\n",
              "      <th>host_id</th>\n",
              "      <th>id</th>\n",
              "      <th>neighbourhood</th>\n",
              "      <th>avg_number_of_days</th>\n",
              "    </tr>\n",
              "  </thead>\n",
              "  <tbody>\n",
              "    <tr>\n",
              "      <th>19267</th>\n",
              "      <td>219517861</td>\n",
              "      <td>327</td>\n",
              "      <td>[Manhattan]</td>\n",
              "      <td>301.492355</td>\n",
              "    </tr>\n",
              "    <tr>\n",
              "      <th>15504</th>\n",
              "      <td>107434423</td>\n",
              "      <td>232</td>\n",
              "      <td>[Manhattan, Brooklyn]</td>\n",
              "      <td>253.810345</td>\n",
              "    </tr>\n",
              "    <tr>\n",
              "      <th>10412</th>\n",
              "      <td>30283594</td>\n",
              "      <td>121</td>\n",
              "      <td>[Manhattan]</td>\n",
              "      <td>313.421488</td>\n",
              "    </tr>\n",
              "    <tr>\n",
              "      <th>7164</th>\n",
              "      <td>12243051</td>\n",
              "      <td>96</td>\n",
              "      <td>[Manhattan]</td>\n",
              "      <td>276.614583</td>\n",
              "    </tr>\n",
              "    <tr>\n",
              "      <th>16600</th>\n",
              "      <td>137358866</td>\n",
              "      <td>92</td>\n",
              "      <td>[Manhattan, Brooklyn, Queens]</td>\n",
              "      <td>219.967391</td>\n",
              "    </tr>\n",
              "    <tr>\n",
              "      <th>...</th>\n",
              "      <td>...</td>\n",
              "      <td>...</td>\n",
              "      <td>...</td>\n",
              "      <td>...</td>\n",
              "    </tr>\n",
              "    <tr>\n",
              "      <th>7897</th>\n",
              "      <td>16030422</td>\n",
              "      <td>1</td>\n",
              "      <td>[Manhattan]</td>\n",
              "      <td>18.000000</td>\n",
              "    </tr>\n",
              "    <tr>\n",
              "      <th>7895</th>\n",
              "      <td>16024560</td>\n",
              "      <td>1</td>\n",
              "      <td>[Brooklyn]</td>\n",
              "      <td>165.000000</td>\n",
              "    </tr>\n",
              "    <tr>\n",
              "      <th>7894</th>\n",
              "      <td>16015663</td>\n",
              "      <td>1</td>\n",
              "      <td>[Queens]</td>\n",
              "      <td>88.000000</td>\n",
              "    </tr>\n",
              "    <tr>\n",
              "      <th>7893</th>\n",
              "      <td>16006197</td>\n",
              "      <td>1</td>\n",
              "      <td>[Brooklyn]</td>\n",
              "      <td>86.000000</td>\n",
              "    </tr>\n",
              "    <tr>\n",
              "      <th>21808</th>\n",
              "      <td>274321313</td>\n",
              "      <td>1</td>\n",
              "      <td>[Manhattan]</td>\n",
              "      <td>31.000000</td>\n",
              "    </tr>\n",
              "  </tbody>\n",
              "</table>\n",
              "<p>21809 rows × 4 columns</p>\n",
              "</div>"
            ],
            "text/plain": [
              "         host_id   id                  neighbourhood  avg_number_of_days\n",
              "19267  219517861  327                    [Manhattan]          301.492355\n",
              "15504  107434423  232          [Manhattan, Brooklyn]          253.810345\n",
              "10412   30283594  121                    [Manhattan]          313.421488\n",
              "7164    12243051   96                    [Manhattan]          276.614583\n",
              "16600  137358866   92  [Manhattan, Brooklyn, Queens]          219.967391\n",
              "...          ...  ...                            ...                 ...\n",
              "7897    16030422    1                    [Manhattan]           18.000000\n",
              "7895    16024560    1                     [Brooklyn]          165.000000\n",
              "7894    16015663    1                       [Queens]           88.000000\n",
              "7893    16006197    1                     [Brooklyn]           86.000000\n",
              "21808  274321313    1                    [Manhattan]           31.000000\n",
              "\n",
              "[21809 rows x 4 columns]"
            ]
          },
          "metadata": {
            "tags": []
          },
          "execution_count": 181
        }
      ]
    },
    {
      "cell_type": "code",
      "metadata": {
        "colab": {
          "base_uri": "https://localhost:8080/",
          "height": 303
        },
        "id": "GxUWG3M-rCDa",
        "outputId": "0f5f6a37-bdd2-403c-8fc2-3c515afd2e96"
      },
      "source": [
        "plt.rcParams['figure.figsize'] = (10, 5)\r\n",
        "plt.pie(neighbourhood_group_df['number_of_listings'], labels = neighbourhood_group_df['neighbourhood_group'])\r\n",
        "plt.show() "
      ],
      "execution_count": null,
      "outputs": [
        {
          "output_type": "display_data",
          "data": {
            "image/png": "[encoded data removed]",
            "text/plain": [
              "<Figure size 720x360 with 1 Axes>"
            ]
          },
          "metadata": {
            "tags": []
          }
        }
      ]
    },
    {
      "cell_type": "code",
      "metadata": {
        "colab": {
          "base_uri": "https://localhost:8080/",
          "height": 441
        },
        "id": "62VEm7PrENQr",
        "outputId": "40f2b2c5-ca2f-43ee-b807-bef39b3871d3"
      },
      "source": [
        "df.groupby('neighbourhood_group').price.plot(kind='kde')"
      ],
      "execution_count": null,
      "outputs": [
        {
          "output_type": "execute_result",
          "data": {
            "text/plain": [
              "neighbourhood_group\n",
              "Bronx            AxesSubplot(0.125,0.125;0.775x0.755)\n",
              "Brooklyn         AxesSubplot(0.125,0.125;0.775x0.755)\n",
              "Manhattan        AxesSubplot(0.125,0.125;0.775x0.755)\n",
              "Queens           AxesSubplot(0.125,0.125;0.775x0.755)\n",
              "Staten Island    AxesSubplot(0.125,0.125;0.775x0.755)\n",
              "Name: price, dtype: object"
            ]
          },
          "metadata": {
            "tags": []
          },
          "execution_count": 185
        },
        {
          "output_type": "display_data",
          "data": {
            "image/png": "[encoded data removed]",
            "text/plain": [
              "<Figure size 720x360 with 1 Axes>"
            ]
          },
          "metadata": {
            "tags": [],
            "needs_background": "light"
          }
        }
      ]
    },
    {
      "cell_type": "code",
      "metadata": {
        "colab": {
          "base_uri": "https://localhost:8080/",
          "height": 406
        },
        "id": "-xtICYsiFIHZ",
        "outputId": "3dc08f68-3b63-41d5-e406-331868dc972c"
      },
      "source": [
        "sns.distplot(df['price'], hist=True)"
      ],
      "execution_count": null,
      "outputs": [
        {
          "output_type": "stream",
          "text": [
            "/usr/local/lib/python3.7/dist-packages/seaborn/distributions.py:2557: FutureWarning: `distplot` is a deprecated function and will be removed in a future version. Please adapt your code to use either `displot` (a figure-level function with similar flexibility) or `histplot` (an axes-level function for histograms).\n",
            "  warnings.warn(msg, FutureWarning)\n"
          ],
          "name": "stderr"
        },
        {
          "output_type": "execute_result",
          "data": {
            "text/plain": [
              "<matplotlib.axes._subplots.AxesSubplot at 0x7ff781a61d10>"
            ]
          },
          "metadata": {
            "tags": []
          },
          "execution_count": 186
        },
        {
          "output_type": "display_data",
          "data": {
            "image/png": "[encoded data removed]",
            "text/plain": [
              "<Figure size 720x360 with 1 Axes>"
            ]
          },
          "metadata": {
            "tags": [],
            "needs_background": "light"
          }
        }
      ]
    },
    {
      "cell_type": "code",
      "metadata": {
        "id": "G2xtPa_EGIbT"
      },
      "source": [
        "plt.rcParams['figure.figsize'] = (10, 5)\r\n"
      ],
      "execution_count": null,
      "outputs": []
    },
    {
      "cell_type": "code",
      "metadata": {
        "colab": {
          "base_uri": "https://localhost:8080/",
          "height": 337
        },
        "id": "HgD8bgGBGtPZ",
        "outputId": "80c711e4-da97-4847-b950-d5191090837f"
      },
      "source": [
        "df['price'].plot.hist(xlim=(0,3000)) \r\n"
      ],
      "execution_count": null,
      "outputs": [
        {
          "output_type": "execute_result",
          "data": {
            "text/plain": [
              "<matplotlib.axes._subplots.AxesSubplot at 0x7ff791420fd0>"
            ]
          },
          "metadata": {
            "tags": []
          },
          "execution_count": 90
        },
        {
          "output_type": "display_data",
          "data": {
            "image/png": "[encoded data removed]",
            "text/plain": [
              "<Figure size 720x360 with 1 Axes>"
            ]
          },
          "metadata": {
            "tags": [],
            "needs_background": "light"
          }
        }
      ]
    },
    {
      "cell_type": "code",
      "metadata": {
        "colab": {
          "base_uri": "https://localhost:8080/",
          "height": 698
        },
        "id": "C5GRdgrOF8vd",
        "outputId": "3c575a75-4a37-48e2-c0b1-eca7f207db0b"
      },
      "source": [
        "plt.hist(neighbourhood_group_df['price'], color='green')\r\n",
        "plt.xlim(0,200)\r\n",
        "plt.xlabel('Age')\r\n",
        "plt.ylabel('Frequency')\r\n",
        "\r\n",
        "plt.xticks(np.arange(0, 200, 10))"
      ],
      "execution_count": null,
      "outputs": [
        {
          "output_type": "execute_result",
          "data": {
            "text/plain": [
              "([<matplotlib.axis.XTick at 0x7ff7819af0d0>,\n",
              "  <matplotlib.axis.XTick at 0x7ff7819af950>,\n",
              "  <matplotlib.axis.XTick at 0x7ff7819a7810>,\n",
              "  <matplotlib.axis.XTick at 0x7ff781954dd0>,\n",
              "  <matplotlib.axis.XTick at 0x7ff781975b50>,\n",
              "  <matplotlib.axis.XTick at 0x7ff781975d90>,\n",
              "  <matplotlib.axis.XTick at 0x7ff78197f650>,\n",
              "  <matplotlib.axis.XTick at 0x7ff78197fb90>,\n",
              "  <matplotlib.axis.XTick at 0x7ff78197f750>,\n",
              "  <matplotlib.axis.XTick at 0x7ff78197f510>,\n",
              "  <matplotlib.axis.XTick at 0x7ff781975710>,\n",
              "  <matplotlib.axis.XTick at 0x7ff781906950>,\n",
              "  <matplotlib.axis.XTick at 0x7ff781906cd0>,\n",
              "  <matplotlib.axis.XTick at 0x7ff78190f2d0>,\n",
              "  <matplotlib.axis.XTick at 0x7ff78190f790>,\n",
              "  <matplotlib.axis.XTick at 0x7ff78190fcd0>,\n",
              "  <matplotlib.axis.XTick at 0x7ff7819172d0>,\n",
              "  <matplotlib.axis.XTick at 0x7ff781917790>,\n",
              "  <matplotlib.axis.XTick at 0x7ff781917cd0>,\n",
              "  <matplotlib.axis.XTick at 0x7ff781917510>],\n",
              " <a list of 20 Text major ticklabel objects>)"
            ]
          },
          "metadata": {
            "tags": []
          },
          "execution_count": 187
        },
        {
          "output_type": "display_data",
          "data": {
            "image/png": "[encoded data removed]",
            "text/plain": [
              "<Figure size 720x360 with 1 Axes>"
            ]
          },
          "metadata": {
            "tags": [],
            "needs_background": "light"
          }
        }
      ]
    },
    {
      "cell_type": "code",
      "metadata": {
        "colab": {
          "base_uri": "https://localhost:8080/"
        },
        "id": "KGUqqGRG_LNt",
        "outputId": "f9c41222-a9f1-42a7-ce51-737b38162cd5"
      },
      "source": [
        "corr1 = neighbourhood_group_df['number_of_listings'].corr(neighbourhood_group_df['standard_deviation'],method='pearson')\r\n",
        "print(corr1)"
      ],
      "execution_count": null,
      "outputs": [
        {
          "output_type": "stream",
          "text": [
            "0.3793623754913061\n"
          ],
          "name": "stdout"
        }
      ]
    },
    {
      "cell_type": "code",
      "metadata": {
        "colab": {
          "base_uri": "https://localhost:8080/",
          "height": 401
        },
        "id": "ktlynO-kA0XJ",
        "outputId": "125a58ae-53dc-478c-e6e6-003d444c4a5d"
      },
      "source": [
        "sns.lmplot(x='number_of_reviews', y='standard_deviation', data= neighbourhood_group_df )"
      ],
      "execution_count": null,
      "outputs": [
        {
          "output_type": "execute_result",
          "data": {
            "text/plain": [
              "<seaborn.axisgrid.FacetGrid at 0x7ff79a3955d0>"
            ]
          },
          "metadata": {
            "tags": []
          },
          "execution_count": 78
        },
        {
          "output_type": "display_data",
          "data": {
            "image/png": "[encoded data removed]",
            "text/plain": [
              "<Figure size 360x360 with 1 Axes>"
            ]
          },
          "metadata": {
            "tags": [],
            "needs_background": "light"
          }
        }
      ]
    },
    {
      "cell_type": "code",
      "metadata": {
        "colab": {
          "base_uri": "https://localhost:8080/",
          "height": 401
        },
        "id": "mZ3eAfTpt6TS",
        "outputId": "88dbc28a-3b8b-4bc1-d6d0-13295041258c"
      },
      "source": [
        "sns.lmplot(x='number_of_reviews', y='price', data= df )"
      ],
      "execution_count": null,
      "outputs": [
        {
          "output_type": "execute_result",
          "data": {
            "text/plain": [
              "<seaborn.axisgrid.FacetGrid at 0x7f1ee4617750>"
            ]
          },
          "metadata": {
            "tags": []
          },
          "execution_count": 123
        },
        {
          "output_type": "display_data",
          "data": {
            "image/png": "[encoded data removed]",
            "text/plain": [
              "<Figure size 360x360 with 1 Axes>"
            ]
          },
          "metadata": {
            "tags": [],
            "needs_background": "light"
          }
        }
      ]
    },
    {
      "cell_type": "code",
      "metadata": {
        "colab": {
          "base_uri": "https://localhost:8080/",
          "height": 401
        },
        "id": "XDHTPFEIwejL",
        "outputId": "c0278f6f-8f8a-4f9b-99df-cbf4e4e24d4c"
      },
      "source": [
        "sns.lmplot(x='number_of_reviews', y='price', data= neighbourhood_group_df )"
      ],
      "execution_count": null,
      "outputs": [
        {
          "output_type": "execute_result",
          "data": {
            "text/plain": [
              "<seaborn.axisgrid.FacetGrid at 0x7f1ee4461e10>"
            ]
          },
          "metadata": {
            "tags": []
          },
          "execution_count": 125
        },
        {
          "output_type": "display_data",
          "data": {
            "image/png": "[encoded data removed]",
            "text/plain": [
              "<Figure size 360x360 with 1 Axes>"
            ]
          },
          "metadata": {
            "tags": [],
            "needs_background": "light"
          }
        }
      ]
    },
    {
      "cell_type": "code",
      "metadata": {
        "id": "70UvN4amutPb"
      },
      "source": [
        "correlation_price_reviews = df.loc[:,['price','number_of_reviews']]"
      ],
      "execution_count": null,
      "outputs": []
    },
    {
      "cell_type": "code",
      "metadata": {
        "colab": {
          "base_uri": "https://localhost:8080/",
          "height": 110
        },
        "id": "Ewu_y-Chu95C",
        "outputId": "5a82323c-4674-4808-dc98-22369c0faa5c"
      },
      "source": [
        "correlation_price_reviews.corr()"
      ],
      "execution_count": null,
      "outputs": [
        {
          "output_type": "execute_result",
          "data": {
            "text/html": [
              "<div>\n",
              "<style scoped>\n",
              "    .dataframe tbody tr th:only-of-type {\n",
              "        vertical-align: middle;\n",
              "    }\n",
              "\n",
              "    .dataframe tbody tr th {\n",
              "        vertical-align: top;\n",
              "    }\n",
              "\n",
              "    .dataframe thead th {\n",
              "        text-align: right;\n",
              "    }\n",
              "</style>\n",
              "<table border=\"1\" class=\"dataframe\">\n",
              "  <thead>\n",
              "    <tr style=\"text-align: right;\">\n",
              "      <th></th>\n",
              "      <th>price</th>\n",
              "      <th>number_of_reviews</th>\n",
              "    </tr>\n",
              "  </thead>\n",
              "  <tbody>\n",
              "    <tr>\n",
              "      <th>price</th>\n",
              "      <td>1.000000</td>\n",
              "      <td>-0.047932</td>\n",
              "    </tr>\n",
              "    <tr>\n",
              "      <th>number_of_reviews</th>\n",
              "      <td>-0.047932</td>\n",
              "      <td>1.000000</td>\n",
              "    </tr>\n",
              "  </tbody>\n",
              "</table>\n",
              "</div>"
            ],
            "text/plain": [
              "                      price  number_of_reviews\n",
              "price              1.000000          -0.047932\n",
              "number_of_reviews -0.047932           1.000000"
            ]
          },
          "metadata": {
            "tags": []
          },
          "execution_count": 119
        }
      ]
    },
    {
      "cell_type": "code",
      "metadata": {
        "id": "mtIUncEb_R5G"
      },
      "source": [
        "neighbourhood_df = df.groupby(['neighbourhood_group','neighbourhood'])['price'].mean().reset_index()"
      ],
      "execution_count": null,
      "outputs": []
    },
    {
      "cell_type": "code",
      "metadata": {
        "id": "HAE36xXJYtQu"
      },
      "source": [
        "neighbourhood_df['number_of_listings'] = (df.groupby(['neighbourhood_group','neighbourhood'])['id'].count().reset_index())['id']"
      ],
      "execution_count": null,
      "outputs": []
    },
    {
      "cell_type": "code",
      "metadata": {
        "id": "IF3-fXfPbUO7"
      },
      "source": [
        "neighbourhood_df['number_of_reviews'] = (df.groupby(['neighbourhood_group','neighbourhood'])['number_of_reviews'].sum().reset_index())['number_of_reviews']"
      ],
      "execution_count": null,
      "outputs": []
    },
    {
      "cell_type": "code",
      "metadata": {
        "id": "E-Z0GCOlYVve"
      },
      "source": [
        "neighbourhood_df['standard_deviation'] = (df.groupby(['neighbourhood_group','neighbourhood'])['price'].std().reset_index())['price']"
      ],
      "execution_count": null,
      "outputs": []
    },
    {
      "cell_type": "code",
      "metadata": {
        "colab": {
          "base_uri": "https://localhost:8080/",
          "height": 415
        },
        "id": "UitO_eBTblfT",
        "outputId": "cad00269-9fa6-46d7-fbaf-0cd593562b04"
      },
      "source": [
        "neighbourhood_df"
      ],
      "execution_count": null,
      "outputs": [
        {
          "output_type": "execute_result",
          "data": {
            "text/html": [
              "<div>\n",
              "<style scoped>\n",
              "    .dataframe tbody tr th:only-of-type {\n",
              "        vertical-align: middle;\n",
              "    }\n",
              "\n",
              "    .dataframe tbody tr th {\n",
              "        vertical-align: top;\n",
              "    }\n",
              "\n",
              "    .dataframe thead th {\n",
              "        text-align: right;\n",
              "    }\n",
              "</style>\n",
              "<table border=\"1\" class=\"dataframe\">\n",
              "  <thead>\n",
              "    <tr style=\"text-align: right;\">\n",
              "      <th></th>\n",
              "      <th>neighbourhood_group</th>\n",
              "      <th>neighbourhood</th>\n",
              "      <th>price</th>\n",
              "      <th>number_of_listings</th>\n",
              "      <th>number_of_reviews</th>\n",
              "      <th>standard_deviation</th>\n",
              "    </tr>\n",
              "  </thead>\n",
              "  <tbody>\n",
              "    <tr>\n",
              "      <th>0</th>\n",
              "      <td>Bronx</td>\n",
              "      <td>Allerton</td>\n",
              "      <td>91.702703</td>\n",
              "      <td>37</td>\n",
              "      <td>1752</td>\n",
              "      <td>76.842142</td>\n",
              "    </tr>\n",
              "    <tr>\n",
              "      <th>1</th>\n",
              "      <td>Bronx</td>\n",
              "      <td>Baychester</td>\n",
              "      <td>78.000000</td>\n",
              "      <td>6</td>\n",
              "      <td>310</td>\n",
              "      <td>17.561321</td>\n",
              "    </tr>\n",
              "    <tr>\n",
              "      <th>2</th>\n",
              "      <td>Bronx</td>\n",
              "      <td>Belmont</td>\n",
              "      <td>85.823529</td>\n",
              "      <td>17</td>\n",
              "      <td>275</td>\n",
              "      <td>77.808447</td>\n",
              "    </tr>\n",
              "    <tr>\n",
              "      <th>3</th>\n",
              "      <td>Bronx</td>\n",
              "      <td>Bronxdale</td>\n",
              "      <td>54.923077</td>\n",
              "      <td>13</td>\n",
              "      <td>318</td>\n",
              "      <td>18.481800</td>\n",
              "    </tr>\n",
              "    <tr>\n",
              "      <th>4</th>\n",
              "      <td>Bronx</td>\n",
              "      <td>Castle Hill</td>\n",
              "      <td>63.000000</td>\n",
              "      <td>9</td>\n",
              "      <td>118</td>\n",
              "      <td>33.462666</td>\n",
              "    </tr>\n",
              "    <tr>\n",
              "      <th>...</th>\n",
              "      <td>...</td>\n",
              "      <td>...</td>\n",
              "      <td>...</td>\n",
              "      <td>...</td>\n",
              "      <td>...</td>\n",
              "      <td>...</td>\n",
              "    </tr>\n",
              "    <tr>\n",
              "      <th>213</th>\n",
              "      <td>Staten Island</td>\n",
              "      <td>Tompkinsville</td>\n",
              "      <td>77.567568</td>\n",
              "      <td>37</td>\n",
              "      <td>2197</td>\n",
              "      <td>46.831578</td>\n",
              "    </tr>\n",
              "    <tr>\n",
              "      <th>214</th>\n",
              "      <td>Staten Island</td>\n",
              "      <td>Tottenville</td>\n",
              "      <td>144.857143</td>\n",
              "      <td>7</td>\n",
              "      <td>139</td>\n",
              "      <td>98.311458</td>\n",
              "    </tr>\n",
              "    <tr>\n",
              "      <th>215</th>\n",
              "      <td>Staten Island</td>\n",
              "      <td>West Brighton</td>\n",
              "      <td>80.555556</td>\n",
              "      <td>18</td>\n",
              "      <td>656</td>\n",
              "      <td>47.689217</td>\n",
              "    </tr>\n",
              "    <tr>\n",
              "      <th>216</th>\n",
              "      <td>Staten Island</td>\n",
              "      <td>Westerleigh</td>\n",
              "      <td>71.500000</td>\n",
              "      <td>2</td>\n",
              "      <td>18</td>\n",
              "      <td>44.547727</td>\n",
              "    </tr>\n",
              "    <tr>\n",
              "      <th>217</th>\n",
              "      <td>Staten Island</td>\n",
              "      <td>Willowbrook</td>\n",
              "      <td>249.000000</td>\n",
              "      <td>1</td>\n",
              "      <td>9</td>\n",
              "      <td>NaN</td>\n",
              "    </tr>\n",
              "  </tbody>\n",
              "</table>\n",
              "<p>218 rows × 6 columns</p>\n",
              "</div>"
            ],
            "text/plain": [
              "    neighbourhood_group  neighbourhood  ...  number_of_reviews  standard_deviation\n",
              "0                 Bronx       Allerton  ...               1752           76.842142\n",
              "1                 Bronx     Baychester  ...                310           17.561321\n",
              "2                 Bronx        Belmont  ...                275           77.808447\n",
              "3                 Bronx      Bronxdale  ...                318           18.481800\n",
              "4                 Bronx    Castle Hill  ...                118           33.462666\n",
              "..                  ...            ...  ...                ...                 ...\n",
              "213       Staten Island  Tompkinsville  ...               2197           46.831578\n",
              "214       Staten Island    Tottenville  ...                139           98.311458\n",
              "215       Staten Island  West Brighton  ...                656           47.689217\n",
              "216       Staten Island    Westerleigh  ...                 18           44.547727\n",
              "217       Staten Island    Willowbrook  ...                  9                 NaN\n",
              "\n",
              "[218 rows x 6 columns]"
            ]
          },
          "metadata": {
            "tags": []
          },
          "execution_count": 200
        }
      ]
    },
    {
      "cell_type": "code",
      "metadata": {
        "colab": {
          "base_uri": "https://localhost:8080/",
          "height": 714
        },
        "id": "9k49wOZ-nd1V",
        "outputId": "8c4b8048-653a-481c-a972-5392c3250125"
      },
      "source": [
        "plt.rcParams['figure.figsize'] = (20, 10)\r\n",
        "neighbourhood_df.boxplot(by = 'neighbourhood_group' , column='price')"
      ],
      "execution_count": null,
      "outputs": [
        {
          "output_type": "stream",
          "text": [
            "/usr/local/lib/python3.7/dist-packages/numpy/core/_asarray.py:83: VisibleDeprecationWarning: Creating an ndarray from ragged nested sequences (which is a list-or-tuple of lists-or-tuples-or ndarrays with different lengths or shapes) is deprecated. If you meant to do this, you must specify 'dtype=object' when creating the ndarray\n",
            "  return array(a, dtype, copy=False, order=order)\n"
          ],
          "name": "stderr"
        },
        {
          "output_type": "execute_result",
          "data": {
            "text/plain": [
              "<matplotlib.axes._subplots.AxesSubplot at 0x7ff781694750>"
            ]
          },
          "metadata": {
            "tags": []
          },
          "execution_count": 204
        },
        {
          "output_type": "display_data",
          "data": {
            "image/png": "[encoded data removed]",
            "text/plain": [
              "<Figure size 1440x720 with 1 Axes>"
            ]
          },
          "metadata": {
            "tags": [],
            "needs_background": "light"
          }
        }
      ]
    },
    {
      "cell_type": "code",
      "metadata": {
        "id": "xhmETkJs-Njv"
      },
      "source": [
        ""
      ],
      "execution_count": null,
      "outputs": []
    },
    {
      "cell_type": "code",
      "metadata": {
        "id": "wnEE1j1WveU4"
      },
      "source": [
        "plt.rcParams['figure.figsize'] = (10, 5)"
      ],
      "execution_count": null,
      "outputs": []
    },
    {
      "cell_type": "code",
      "metadata": {
        "id": "wOkV1RICx4uN"
      },
      "source": [
        "plt.plot()\r\n"
      ],
      "execution_count": null,
      "outputs": []
    },
    {
      "cell_type": "code",
      "metadata": {
        "id": "iuL96GXxwDzi"
      },
      "source": [
        "plt.plot()\r\n",
        "\r\n",
        "plt.title('Monthly Sales in the year 2018')\r\n",
        "plt.ylabel('Total number of sales')\r\n",
        "plt.xlabel('Month')"
      ],
      "execution_count": null,
      "outputs": []
    },
    {
      "cell_type": "code",
      "metadata": {
        "id": "m9Z1hXIwaUd-"
      },
      "source": [
        "room_type_df = df.groupby('room_type')['price'].mean()"
      ],
      "execution_count": null,
      "outputs": []
    },
    {
      "cell_type": "code",
      "metadata": {
        "colab": {
          "base_uri": "https://localhost:8080/"
        },
        "id": "MuqeL_DPhH3T",
        "outputId": "9b1c74f2-334f-443f-e1d6-fea4486e22c0"
      },
      "source": [
        "room_type_df"
      ],
      "execution_count": null,
      "outputs": [
        {
          "output_type": "execute_result",
          "data": {
            "text/plain": [
              "room_type\n",
              "Entire home/apt    211.802590\n",
              "Private room        89.814208\n",
              "Shared room         70.310345\n",
              "Name: price, dtype: float64"
            ]
          },
          "metadata": {
            "tags": []
          },
          "execution_count": 44
        }
      ]
    },
    {
      "cell_type": "code",
      "metadata": {
        "colab": {
          "base_uri": "https://localhost:8080/",
          "height": 214
        },
        "id": "5I9XQpLmWmGD",
        "outputId": "260e0248-e44d-4ed5-84ab-09715ae1dcd7"
      },
      "source": [
        "\r\n",
        "\r\n",
        "geometry = [Point(xy) for xy in zip(df['longitude'], df['latitude'])]\r\n",
        "gdf = GeoDataFrame(df, geometry=geometry)   \r\n",
        "\r\n",
        "#this is a simple map that goes with geopandas\r\n",
        "world = gpd.read_file(gpd.datasets.get_path('naturalearth_cities'))\r\n",
        "gdf.plot(ax=world.plot(figsize=(10, 6)), marker='o', color='red', markersize=15);"
      ],
      "execution_count": null,
      "outputs": [
        {
          "output_type": "display_data",
          "data": {
            "image/png": "[encoded data removed]",
            "text/plain": [
              "<Figure size 720x432 with 1 Axes>"
            ]
          },
          "metadata": {
            "tags": [],
            "needs_background": "light"
          }
        }
      ]
    }
  ]
}