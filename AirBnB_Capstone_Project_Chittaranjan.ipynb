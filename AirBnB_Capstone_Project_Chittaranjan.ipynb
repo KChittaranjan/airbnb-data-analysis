{
  "nbformat": 4,
  "nbformat_minor": 0,
  "metadata": {
    "colab": {
      "name": "AirBnB Capstone Project Chittaranjan.ipynb",
      "provenance": [],
      "collapsed_sections": [],
      "mount_file_id": "1AYYY4bMGCsQvtFPqZN47GKQqXkufyfol",
      "authorship_tag": "ABX9TyNJ++WJOYa0VI7d5FBjkoNe",
      "include_colab_link": true
    },
    "kernelspec": {
      "name": "python3",
      "display_name": "Python 3"
    }
  },
  "cells": [
    {
      "cell_type": "markdown",
      "metadata": {
        "id": "view-in-github",
        "colab_type": "text"
      },
      "source": [
        "<a href=\"https://colab.research.google.com/github/KChittaranjan/airbnb-data-analysis/blob/main/AirBnB_Capstone_Project_Chittaranjan.ipynb\" target=\"_parent\"><img src=\"https://colab.research.google.com/assets/colab-badge.svg\" alt=\"Open In Colab\"/></a>"
      ]
    },
    {
      "cell_type": "code",
      "metadata": {
        "id": "qrtHqSGvsERQ"
      },
      "source": [
        "import pandas as pd\r\n",
        "import numpy as np\r\n",
        "import seaborn as sns\r\n",
        "from shapely.geometry import Point\r\n",
        "from datetime import datetime\r\n",
        "import matplotlib.pyplot as plt\r\n",
        "%matplotlib inline"
      ],
      "execution_count": 70,
      "outputs": []
    },
    {
      "cell_type": "code",
      "metadata": {
        "id": "YyHTkdq5v56k"
      },
      "source": [
        ""
      ],
      "execution_count": 159,
      "outputs": []
    },
    {
      "cell_type": "code",
      "metadata": {
        "id": "0gFTc22lsnsd"
      },
      "source": [
        "file_path = '/content/drive/MyDrive/Almabetter/Cohort Nilgiri/Module 1/Week 4/Capstone Project/Airbnb NYC 2019.csv'\r\n",
        "\r\n",
        "df = pd.read_csv(file_path)"
      ],
      "execution_count": 103,
      "outputs": []
    },
    {
      "cell_type": "code",
      "metadata": {
        "colab": {
          "base_uri": "https://localhost:8080/"
        },
        "id": "WeR8ox9WZebH",
        "outputId": "f6558200-0383-4a3c-a42f-d95caa581c41"
      },
      "source": [
        "df.info()"
      ],
      "execution_count": 104,
      "outputs": [
        {
          "output_type": "stream",
          "text": [
            "<class 'pandas.core.frame.DataFrame'>\n",
            "RangeIndex: 48895 entries, 0 to 48894\n",
            "Data columns (total 16 columns):\n",
            " #   Column                          Non-Null Count  Dtype  \n",
            "---  ------                          --------------  -----  \n",
            " 0   id                              48895 non-null  int64  \n",
            " 1   name                            48879 non-null  object \n",
            " 2   host_id                         48895 non-null  int64  \n",
            " 3   host_name                       48874 non-null  object \n",
            " 4   neighbourhood_group             48895 non-null  object \n",
            " 5   neighbourhood                   48895 non-null  object \n",
            " 6   latitude                        48895 non-null  float64\n",
            " 7   longitude                       48895 non-null  float64\n",
            " 8   room_type                       48895 non-null  object \n",
            " 9   price                           48895 non-null  int64  \n",
            " 10  minimum_nights                  48895 non-null  int64  \n",
            " 11  number_of_reviews               48895 non-null  int64  \n",
            " 12  last_review                     38843 non-null  object \n",
            " 13  reviews_per_month               38843 non-null  float64\n",
            " 14  calculated_host_listings_count  48895 non-null  int64  \n",
            " 15  availability_365                48895 non-null  int64  \n",
            "dtypes: float64(3), int64(7), object(6)\n",
            "memory usage: 6.0+ MB\n"
          ],
          "name": "stdout"
        }
      ]
    },
    {
      "cell_type": "markdown",
      "metadata": {
        "id": "Nd1SW7ld5vPn"
      },
      "source": [
        "The only column with inopropriate data type is date remaining all are fine"
      ]
    },
    {
      "cell_type": "code",
      "metadata": {
        "id": "cN6_Ihi65q5x"
      },
      "source": [
        "#parsing the last review from object to date\r\n",
        "df['last_review'] = pd.to_datetime(df['last_review'])"
      ],
      "execution_count": 105,
      "outputs": []
    },
    {
      "cell_type": "code",
      "metadata": {
        "colab": {
          "base_uri": "https://localhost:8080/"
        },
        "id": "LGtG-U3H6JLZ",
        "outputId": "676cc219-4261-486e-84f5-f5ea08a65369"
      },
      "source": [
        "#checking the data type\r\n",
        "type(df['last_review'][0])"
      ],
      "execution_count": 106,
      "outputs": [
        {
          "output_type": "execute_result",
          "data": {
            "text/plain": [
              "pandas._libs.tslibs.timestamps.Timestamp"
            ]
          },
          "metadata": {
            "tags": []
          },
          "execution_count": 106
        }
      ]
    },
    {
      "cell_type": "markdown",
      "metadata": {
        "id": "F-6L38Ne6uNC"
      },
      "source": [
        "Next, columns with heighest null values are last review and number of reviews....we'll examin the other columns there"
      ]
    },
    {
      "cell_type": "code",
      "metadata": {
        "colab": {
          "base_uri": "https://localhost:8080/",
          "height": 395
        },
        "id": "PpBXtRtp6q6b",
        "outputId": "a042efab-add8-4b0c-94c2-472d891b5681"
      },
      "source": [
        "df[df['last_review'].isna()].head()"
      ],
      "execution_count": 107,
      "outputs": [
        {
          "output_type": "execute_result",
          "data": {
            "text/html": [
              "<div>\n",
              "<style scoped>\n",
              "    .dataframe tbody tr th:only-of-type {\n",
              "        vertical-align: middle;\n",
              "    }\n",
              "\n",
              "    .dataframe tbody tr th {\n",
              "        vertical-align: top;\n",
              "    }\n",
              "\n",
              "    .dataframe thead th {\n",
              "        text-align: right;\n",
              "    }\n",
              "</style>\n",
              "<table border=\"1\" class=\"dataframe\">\n",
              "  <thead>\n",
              "    <tr style=\"text-align: right;\">\n",
              "      <th></th>\n",
              "      <th>id</th>\n",
              "      <th>name</th>\n",
              "      <th>host_id</th>\n",
              "      <th>host_name</th>\n",
              "      <th>neighbourhood_group</th>\n",
              "      <th>neighbourhood</th>\n",
              "      <th>latitude</th>\n",
              "      <th>longitude</th>\n",
              "      <th>room_type</th>\n",
              "      <th>price</th>\n",
              "      <th>minimum_nights</th>\n",
              "      <th>number_of_reviews</th>\n",
              "      <th>last_review</th>\n",
              "      <th>reviews_per_month</th>\n",
              "      <th>calculated_host_listings_count</th>\n",
              "      <th>availability_365</th>\n",
              "    </tr>\n",
              "  </thead>\n",
              "  <tbody>\n",
              "    <tr>\n",
              "      <th>2</th>\n",
              "      <td>3647</td>\n",
              "      <td>THE VILLAGE OF HARLEM....NEW YORK !</td>\n",
              "      <td>4632</td>\n",
              "      <td>Elisabeth</td>\n",
              "      <td>Manhattan</td>\n",
              "      <td>Harlem</td>\n",
              "      <td>40.80902</td>\n",
              "      <td>-73.94190</td>\n",
              "      <td>Private room</td>\n",
              "      <td>150</td>\n",
              "      <td>3</td>\n",
              "      <td>0</td>\n",
              "      <td>NaT</td>\n",
              "      <td>NaN</td>\n",
              "      <td>1</td>\n",
              "      <td>365</td>\n",
              "    </tr>\n",
              "    <tr>\n",
              "      <th>19</th>\n",
              "      <td>7750</td>\n",
              "      <td>Huge 2 BR Upper East  Cental Park</td>\n",
              "      <td>17985</td>\n",
              "      <td>Sing</td>\n",
              "      <td>Manhattan</td>\n",
              "      <td>East Harlem</td>\n",
              "      <td>40.79685</td>\n",
              "      <td>-73.94872</td>\n",
              "      <td>Entire home/apt</td>\n",
              "      <td>190</td>\n",
              "      <td>7</td>\n",
              "      <td>0</td>\n",
              "      <td>NaT</td>\n",
              "      <td>NaN</td>\n",
              "      <td>2</td>\n",
              "      <td>249</td>\n",
              "    </tr>\n",
              "    <tr>\n",
              "      <th>26</th>\n",
              "      <td>8700</td>\n",
              "      <td>Magnifique Suite au N de Manhattan - vue Cloitres</td>\n",
              "      <td>26394</td>\n",
              "      <td>Claude &amp; Sophie</td>\n",
              "      <td>Manhattan</td>\n",
              "      <td>Inwood</td>\n",
              "      <td>40.86754</td>\n",
              "      <td>-73.92639</td>\n",
              "      <td>Private room</td>\n",
              "      <td>80</td>\n",
              "      <td>4</td>\n",
              "      <td>0</td>\n",
              "      <td>NaT</td>\n",
              "      <td>NaN</td>\n",
              "      <td>1</td>\n",
              "      <td>0</td>\n",
              "    </tr>\n",
              "    <tr>\n",
              "      <th>36</th>\n",
              "      <td>11452</td>\n",
              "      <td>Clean and Quiet in Brooklyn</td>\n",
              "      <td>7355</td>\n",
              "      <td>Vt</td>\n",
              "      <td>Brooklyn</td>\n",
              "      <td>Bedford-Stuyvesant</td>\n",
              "      <td>40.68876</td>\n",
              "      <td>-73.94312</td>\n",
              "      <td>Private room</td>\n",
              "      <td>35</td>\n",
              "      <td>60</td>\n",
              "      <td>0</td>\n",
              "      <td>NaT</td>\n",
              "      <td>NaN</td>\n",
              "      <td>1</td>\n",
              "      <td>365</td>\n",
              "    </tr>\n",
              "    <tr>\n",
              "      <th>38</th>\n",
              "      <td>11943</td>\n",
              "      <td>Country space in the city</td>\n",
              "      <td>45445</td>\n",
              "      <td>Harriet</td>\n",
              "      <td>Brooklyn</td>\n",
              "      <td>Flatbush</td>\n",
              "      <td>40.63702</td>\n",
              "      <td>-73.96327</td>\n",
              "      <td>Private room</td>\n",
              "      <td>150</td>\n",
              "      <td>1</td>\n",
              "      <td>0</td>\n",
              "      <td>NaT</td>\n",
              "      <td>NaN</td>\n",
              "      <td>1</td>\n",
              "      <td>365</td>\n",
              "    </tr>\n",
              "  </tbody>\n",
              "</table>\n",
              "</div>"
            ],
            "text/plain": [
              "       id  ... availability_365\n",
              "2    3647  ...              365\n",
              "19   7750  ...              249\n",
              "26   8700  ...                0\n",
              "36  11452  ...              365\n",
              "38  11943  ...              365\n",
              "\n",
              "[5 rows x 16 columns]"
            ]
          },
          "metadata": {
            "tags": []
          },
          "execution_count": 107
        }
      ]
    },
    {
      "cell_type": "markdown",
      "metadata": {
        "id": "OHL8Vf3F7Zyj"
      },
      "source": [
        "From examination we can see these are null when number of reviews are zero so we'll replace them with appropriate value\r\n",
        " "
      ]
    },
    {
      "cell_type": "code",
      "metadata": {
        "id": "NHtCAYZw7ZZD"
      },
      "source": [
        "#filling null value as 0 as there are no reviews for that row \r\n",
        "df['reviews_per_month'].fillna(0,inplace = True)"
      ],
      "execution_count": 108,
      "outputs": []
    },
    {
      "cell_type": "code",
      "metadata": {
        "id": "zQ0i9LgAFXfB"
      },
      "source": [
        "#filling null value as the minimum date that's there in the entire dataframe \r\n",
        "df['last_review'].fillna(df['last_review'].min(),inplace = True)"
      ],
      "execution_count": 109,
      "outputs": []
    },
    {
      "cell_type": "code",
      "metadata": {
        "colab": {
          "base_uri": "https://localhost:8080/"
        },
        "id": "rN8Oua_yxNWa",
        "outputId": "5f57db64-a454-49c3-ce60-45132586ecbb"
      },
      "source": [
        "df['room_type'].unique()"
      ],
      "execution_count": 110,
      "outputs": [
        {
          "output_type": "execute_result",
          "data": {
            "text/plain": [
              "array(['Private room', 'Entire home/apt', 'Shared room'], dtype=object)"
            ]
          },
          "metadata": {
            "tags": []
          },
          "execution_count": 110
        }
      ]
    },
    {
      "cell_type": "markdown",
      "metadata": {
        "id": "Qp92kxp_HdOd"
      },
      "source": [
        "Name and host name are having some null values"
      ]
    },
    {
      "cell_type": "code",
      "metadata": {
        "id": "JkZ-AnpGHBqO"
      },
      "source": [
        "#we'll update those null values as empty as those are names and we are not using them in the data analysis"
      ],
      "execution_count": 111,
      "outputs": []
    },
    {
      "cell_type": "code",
      "metadata": {
        "colab": {
          "base_uri": "https://localhost:8080/",
          "height": 817
        },
        "id": "vhcz2eL5HmIH",
        "outputId": "c3111056-e357-47a5-a523-55103bac8460"
      },
      "source": [
        "df.fillna('empty')"
      ],
      "execution_count": 112,
      "outputs": [
        {
          "output_type": "execute_result",
          "data": {
            "text/html": [
              "<div>\n",
              "<style scoped>\n",
              "    .dataframe tbody tr th:only-of-type {\n",
              "        vertical-align: middle;\n",
              "    }\n",
              "\n",
              "    .dataframe tbody tr th {\n",
              "        vertical-align: top;\n",
              "    }\n",
              "\n",
              "    .dataframe thead th {\n",
              "        text-align: right;\n",
              "    }\n",
              "</style>\n",
              "<table border=\"1\" class=\"dataframe\">\n",
              "  <thead>\n",
              "    <tr style=\"text-align: right;\">\n",
              "      <th></th>\n",
              "      <th>id</th>\n",
              "      <th>name</th>\n",
              "      <th>host_id</th>\n",
              "      <th>host_name</th>\n",
              "      <th>neighbourhood_group</th>\n",
              "      <th>neighbourhood</th>\n",
              "      <th>latitude</th>\n",
              "      <th>longitude</th>\n",
              "      <th>room_type</th>\n",
              "      <th>price</th>\n",
              "      <th>minimum_nights</th>\n",
              "      <th>number_of_reviews</th>\n",
              "      <th>last_review</th>\n",
              "      <th>reviews_per_month</th>\n",
              "      <th>calculated_host_listings_count</th>\n",
              "      <th>availability_365</th>\n",
              "    </tr>\n",
              "  </thead>\n",
              "  <tbody>\n",
              "    <tr>\n",
              "      <th>0</th>\n",
              "      <td>2539</td>\n",
              "      <td>Clean &amp; quiet apt home by the park</td>\n",
              "      <td>2787</td>\n",
              "      <td>John</td>\n",
              "      <td>Brooklyn</td>\n",
              "      <td>Kensington</td>\n",
              "      <td>40.64749</td>\n",
              "      <td>-73.97237</td>\n",
              "      <td>Private room</td>\n",
              "      <td>149</td>\n",
              "      <td>1</td>\n",
              "      <td>9</td>\n",
              "      <td>2018-10-19</td>\n",
              "      <td>0.21</td>\n",
              "      <td>6</td>\n",
              "      <td>365</td>\n",
              "    </tr>\n",
              "    <tr>\n",
              "      <th>1</th>\n",
              "      <td>2595</td>\n",
              "      <td>Skylit Midtown Castle</td>\n",
              "      <td>2845</td>\n",
              "      <td>Jennifer</td>\n",
              "      <td>Manhattan</td>\n",
              "      <td>Midtown</td>\n",
              "      <td>40.75362</td>\n",
              "      <td>-73.98377</td>\n",
              "      <td>Entire home/apt</td>\n",
              "      <td>225</td>\n",
              "      <td>1</td>\n",
              "      <td>45</td>\n",
              "      <td>2019-05-21</td>\n",
              "      <td>0.38</td>\n",
              "      <td>2</td>\n",
              "      <td>355</td>\n",
              "    </tr>\n",
              "    <tr>\n",
              "      <th>2</th>\n",
              "      <td>3647</td>\n",
              "      <td>THE VILLAGE OF HARLEM....NEW YORK !</td>\n",
              "      <td>4632</td>\n",
              "      <td>Elisabeth</td>\n",
              "      <td>Manhattan</td>\n",
              "      <td>Harlem</td>\n",
              "      <td>40.80902</td>\n",
              "      <td>-73.94190</td>\n",
              "      <td>Private room</td>\n",
              "      <td>150</td>\n",
              "      <td>3</td>\n",
              "      <td>0</td>\n",
              "      <td>2011-03-28</td>\n",
              "      <td>0.00</td>\n",
              "      <td>1</td>\n",
              "      <td>365</td>\n",
              "    </tr>\n",
              "    <tr>\n",
              "      <th>3</th>\n",
              "      <td>3831</td>\n",
              "      <td>Cozy Entire Floor of Brownstone</td>\n",
              "      <td>4869</td>\n",
              "      <td>LisaRoxanne</td>\n",
              "      <td>Brooklyn</td>\n",
              "      <td>Clinton Hill</td>\n",
              "      <td>40.68514</td>\n",
              "      <td>-73.95976</td>\n",
              "      <td>Entire home/apt</td>\n",
              "      <td>89</td>\n",
              "      <td>1</td>\n",
              "      <td>270</td>\n",
              "      <td>2019-07-05</td>\n",
              "      <td>4.64</td>\n",
              "      <td>1</td>\n",
              "      <td>194</td>\n",
              "    </tr>\n",
              "    <tr>\n",
              "      <th>4</th>\n",
              "      <td>5022</td>\n",
              "      <td>Entire Apt: Spacious Studio/Loft by central park</td>\n",
              "      <td>7192</td>\n",
              "      <td>Laura</td>\n",
              "      <td>Manhattan</td>\n",
              "      <td>East Harlem</td>\n",
              "      <td>40.79851</td>\n",
              "      <td>-73.94399</td>\n",
              "      <td>Entire home/apt</td>\n",
              "      <td>80</td>\n",
              "      <td>10</td>\n",
              "      <td>9</td>\n",
              "      <td>2018-11-19</td>\n",
              "      <td>0.10</td>\n",
              "      <td>1</td>\n",
              "      <td>0</td>\n",
              "    </tr>\n",
              "    <tr>\n",
              "      <th>...</th>\n",
              "      <td>...</td>\n",
              "      <td>...</td>\n",
              "      <td>...</td>\n",
              "      <td>...</td>\n",
              "      <td>...</td>\n",
              "      <td>...</td>\n",
              "      <td>...</td>\n",
              "      <td>...</td>\n",
              "      <td>...</td>\n",
              "      <td>...</td>\n",
              "      <td>...</td>\n",
              "      <td>...</td>\n",
              "      <td>...</td>\n",
              "      <td>...</td>\n",
              "      <td>...</td>\n",
              "      <td>...</td>\n",
              "    </tr>\n",
              "    <tr>\n",
              "      <th>48890</th>\n",
              "      <td>36484665</td>\n",
              "      <td>Charming one bedroom - newly renovated rowhouse</td>\n",
              "      <td>8232441</td>\n",
              "      <td>Sabrina</td>\n",
              "      <td>Brooklyn</td>\n",
              "      <td>Bedford-Stuyvesant</td>\n",
              "      <td>40.67853</td>\n",
              "      <td>-73.94995</td>\n",
              "      <td>Private room</td>\n",
              "      <td>70</td>\n",
              "      <td>2</td>\n",
              "      <td>0</td>\n",
              "      <td>2011-03-28</td>\n",
              "      <td>0.00</td>\n",
              "      <td>2</td>\n",
              "      <td>9</td>\n",
              "    </tr>\n",
              "    <tr>\n",
              "      <th>48891</th>\n",
              "      <td>36485057</td>\n",
              "      <td>Affordable room in Bushwick/East Williamsburg</td>\n",
              "      <td>6570630</td>\n",
              "      <td>Marisol</td>\n",
              "      <td>Brooklyn</td>\n",
              "      <td>Bushwick</td>\n",
              "      <td>40.70184</td>\n",
              "      <td>-73.93317</td>\n",
              "      <td>Private room</td>\n",
              "      <td>40</td>\n",
              "      <td>4</td>\n",
              "      <td>0</td>\n",
              "      <td>2011-03-28</td>\n",
              "      <td>0.00</td>\n",
              "      <td>2</td>\n",
              "      <td>36</td>\n",
              "    </tr>\n",
              "    <tr>\n",
              "      <th>48892</th>\n",
              "      <td>36485431</td>\n",
              "      <td>Sunny Studio at Historical Neighborhood</td>\n",
              "      <td>23492952</td>\n",
              "      <td>Ilgar &amp; Aysel</td>\n",
              "      <td>Manhattan</td>\n",
              "      <td>Harlem</td>\n",
              "      <td>40.81475</td>\n",
              "      <td>-73.94867</td>\n",
              "      <td>Entire home/apt</td>\n",
              "      <td>115</td>\n",
              "      <td>10</td>\n",
              "      <td>0</td>\n",
              "      <td>2011-03-28</td>\n",
              "      <td>0.00</td>\n",
              "      <td>1</td>\n",
              "      <td>27</td>\n",
              "    </tr>\n",
              "    <tr>\n",
              "      <th>48893</th>\n",
              "      <td>36485609</td>\n",
              "      <td>43rd St. Time Square-cozy single bed</td>\n",
              "      <td>30985759</td>\n",
              "      <td>Taz</td>\n",
              "      <td>Manhattan</td>\n",
              "      <td>Hell's Kitchen</td>\n",
              "      <td>40.75751</td>\n",
              "      <td>-73.99112</td>\n",
              "      <td>Shared room</td>\n",
              "      <td>55</td>\n",
              "      <td>1</td>\n",
              "      <td>0</td>\n",
              "      <td>2011-03-28</td>\n",
              "      <td>0.00</td>\n",
              "      <td>6</td>\n",
              "      <td>2</td>\n",
              "    </tr>\n",
              "    <tr>\n",
              "      <th>48894</th>\n",
              "      <td>36487245</td>\n",
              "      <td>Trendy duplex in the very heart of Hell's Kitchen</td>\n",
              "      <td>68119814</td>\n",
              "      <td>Christophe</td>\n",
              "      <td>Manhattan</td>\n",
              "      <td>Hell's Kitchen</td>\n",
              "      <td>40.76404</td>\n",
              "      <td>-73.98933</td>\n",
              "      <td>Private room</td>\n",
              "      <td>90</td>\n",
              "      <td>7</td>\n",
              "      <td>0</td>\n",
              "      <td>2011-03-28</td>\n",
              "      <td>0.00</td>\n",
              "      <td>1</td>\n",
              "      <td>23</td>\n",
              "    </tr>\n",
              "  </tbody>\n",
              "</table>\n",
              "<p>48895 rows × 16 columns</p>\n",
              "</div>"
            ],
            "text/plain": [
              "             id  ... availability_365\n",
              "0          2539  ...              365\n",
              "1          2595  ...              355\n",
              "2          3647  ...              365\n",
              "3          3831  ...              194\n",
              "4          5022  ...                0\n",
              "...         ...  ...              ...\n",
              "48890  36484665  ...                9\n",
              "48891  36485057  ...               36\n",
              "48892  36485431  ...               27\n",
              "48893  36485609  ...                2\n",
              "48894  36487245  ...               23\n",
              "\n",
              "[48895 rows x 16 columns]"
            ]
          },
          "metadata": {
            "tags": []
          },
          "execution_count": 112
        }
      ]
    },
    {
      "cell_type": "markdown",
      "metadata": {
        "id": "K8b_CJWTJPmz"
      },
      "source": [
        "Cleaning the numerical column data"
      ]
    },
    {
      "cell_type": "code",
      "metadata": {
        "colab": {
          "base_uri": "https://localhost:8080/",
          "height": 283
        },
        "id": "-gON2AC4MCBf",
        "outputId": "610aa30a-327b-48bd-cbc4-cd6f541ee197"
      },
      "source": [
        "df['price'].plot.hist(bins=1000) "
      ],
      "execution_count": 113,
      "outputs": [
        {
          "output_type": "execute_result",
          "data": {
            "text/plain": [
              "<matplotlib.axes._subplots.AxesSubplot at 0x7f6d3e8711d0>"
            ]
          },
          "metadata": {
            "tags": []
          },
          "execution_count": 113
        },
        {
          "output_type": "display_data",
          "data": {
            "image/png": "[encoded data removed]",
            "text/plain": [
              "<Figure size 432x288 with 1 Axes>"
            ]
          },
          "metadata": {
            "tags": [],
            "needs_background": "light"
          }
        }
      ]
    },
    {
      "cell_type": "code",
      "metadata": {
        "colab": {
          "base_uri": "https://localhost:8080/",
          "height": 283
        },
        "id": "jM4Wrvf2RXT-",
        "outputId": "9de31866-a8cf-4058-9a85-9ddc8fa20f8c"
      },
      "source": [
        "df['price'].plot(kind='box')"
      ],
      "execution_count": 114,
      "outputs": [
        {
          "output_type": "execute_result",
          "data": {
            "text/plain": [
              "<matplotlib.axes._subplots.AxesSubplot at 0x7f6d3dd199d0>"
            ]
          },
          "metadata": {
            "tags": []
          },
          "execution_count": 114
        },
        {
          "output_type": "display_data",
          "data": {
            "image/png": "[encoded data removed]",
            "text/plain": [
              "<Figure size 432x288 with 1 Axes>"
            ]
          },
          "metadata": {
            "tags": [],
            "needs_background": "light"
          }
        }
      ]
    },
    {
      "cell_type": "code",
      "metadata": {
        "id": "L903y5xwRZul"
      },
      "source": [
        "#As there are lot of outliers we'll consider only those which are below 2000"
      ],
      "execution_count": null,
      "outputs": []
    },
    {
      "cell_type": "code",
      "metadata": {
        "id": "WVLOk7wFXBLJ"
      },
      "source": [
        "df = df[df['price'] < 2000]"
      ],
      "execution_count": 115,
      "outputs": []
    },
    {
      "cell_type": "markdown",
      "metadata": {
        "id": "o0xRsFtzWy-p"
      },
      "source": [
        "We'll completely remove the outliers when we are doing analysis if it's required"
      ]
    },
    {
      "cell_type": "code",
      "metadata": {
        "id": "EBMttikHU2M9"
      },
      "source": [
        "#df = df[(df['price'] < df['price'].quantile(0.75)) & (df['price'] > df['price'].quantile(0.25))]"
      ],
      "execution_count": 85,
      "outputs": []
    },
    {
      "cell_type": "code",
      "metadata": {
        "colab": {
          "base_uri": "https://localhost:8080/",
          "height": 283
        },
        "id": "lEyqkHaATdtd",
        "outputId": "7a8b09c2-19ca-443b-ee19-3ceb93253cc7"
      },
      "source": [
        "df['price'].plot(kind='box')"
      ],
      "execution_count": 116,
      "outputs": [
        {
          "output_type": "execute_result",
          "data": {
            "text/plain": [
              "<matplotlib.axes._subplots.AxesSubplot at 0x7f6d3dd41d10>"
            ]
          },
          "metadata": {
            "tags": []
          },
          "execution_count": 116
        },
        {
          "output_type": "display_data",
          "data": {
            "image/png": "[encoded data removed]",
            "text/plain": [
              "<Figure size 432x288 with 1 Axes>"
            ]
          },
          "metadata": {
            "tags": [],
            "needs_background": "light"
          }
        }
      ]
    },
    {
      "cell_type": "code",
      "metadata": {
        "colab": {
          "base_uri": "https://localhost:8080/"
        },
        "id": "shmldW5UV22g",
        "outputId": "2a69408a-7f04-48b2-e53b-f94f9cc8060d"
      },
      "source": [
        "df.info()"
      ],
      "execution_count": 117,
      "outputs": [
        {
          "output_type": "stream",
          "text": [
            "<class 'pandas.core.frame.DataFrame'>\n",
            "Int64Index: 48785 entries, 0 to 48894\n",
            "Data columns (total 16 columns):\n",
            " #   Column                          Non-Null Count  Dtype         \n",
            "---  ------                          --------------  -----         \n",
            " 0   id                              48785 non-null  int64         \n",
            " 1   name                            48769 non-null  object        \n",
            " 2   host_id                         48785 non-null  int64         \n",
            " 3   host_name                       48764 non-null  object        \n",
            " 4   neighbourhood_group             48785 non-null  object        \n",
            " 5   neighbourhood                   48785 non-null  object        \n",
            " 6   latitude                        48785 non-null  float64       \n",
            " 7   longitude                       48785 non-null  float64       \n",
            " 8   room_type                       48785 non-null  object        \n",
            " 9   price                           48785 non-null  int64         \n",
            " 10  minimum_nights                  48785 non-null  int64         \n",
            " 11  number_of_reviews               48785 non-null  int64         \n",
            " 12  last_review                     48785 non-null  datetime64[ns]\n",
            " 13  reviews_per_month               48785 non-null  float64       \n",
            " 14  calculated_host_listings_count  48785 non-null  int64         \n",
            " 15  availability_365                48785 non-null  int64         \n",
            "dtypes: datetime64[ns](1), float64(3), int64(7), object(5)\n",
            "memory usage: 6.3+ MB\n"
          ],
          "name": "stdout"
        }
      ]
    },
    {
      "cell_type": "code",
      "metadata": {
        "colab": {
          "base_uri": "https://localhost:8080/",
          "height": 283
        },
        "id": "_QxgZuvAO9n8",
        "outputId": "294b3bc9-0acf-4814-aaa8-6dbad6d6bc97"
      },
      "source": [
        "df['number_of_reviews'].plot(kind = 'box')\r\n"
      ],
      "execution_count": 118,
      "outputs": [
        {
          "output_type": "execute_result",
          "data": {
            "text/plain": [
              "<matplotlib.axes._subplots.AxesSubplot at 0x7f6d3dbfef10>"
            ]
          },
          "metadata": {
            "tags": []
          },
          "execution_count": 118
        },
        {
          "output_type": "display_data",
          "data": {
            "image/png": "[encoded data removed]",
            "text/plain": [
              "<Figure size 432x288 with 1 Axes>"
            ]
          },
          "metadata": {
            "tags": [],
            "needs_background": "light"
          }
        }
      ]
    },
    {
      "cell_type": "markdown",
      "metadata": {
        "id": "w3eNHxu3Xpui"
      },
      "source": [
        "Number of reviews can be like this"
      ]
    },
    {
      "cell_type": "code",
      "metadata": {
        "colab": {
          "base_uri": "https://localhost:8080/",
          "height": 283
        },
        "id": "cPuwFJ_3PA6u",
        "outputId": "53e23505-2c83-459a-f040-fc47211d4ef8"
      },
      "source": [
        "df['reviews_per_month'].plot.hist(bins=100) \r\n"
      ],
      "execution_count": 53,
      "outputs": [
        {
          "output_type": "execute_result",
          "data": {
            "text/plain": [
              "<matplotlib.axes._subplots.AxesSubplot at 0x7f6d413749d0>"
            ]
          },
          "metadata": {
            "tags": []
          },
          "execution_count": 53
        },
        {
          "output_type": "display_data",
          "data": {
            "image/png": "[encoded data removed]",
            "text/plain": [
              "<Figure size 432x288 with 1 Axes>"
            ]
          },
          "metadata": {
            "tags": [],
            "needs_background": "light"
          }
        }
      ]
    },
    {
      "cell_type": "code",
      "metadata": {
        "colab": {
          "base_uri": "https://localhost:8080/"
        },
        "id": "hXrJ5rcyPM-w",
        "outputId": "b2da22e8-f2cb-455d-baca-81de3fe1bcc8"
      },
      "source": [
        "df['minimum_nights'].mean()"
      ],
      "execution_count": 59,
      "outputs": [
        {
          "output_type": "execute_result",
          "data": {
            "text/plain": [
              "7.029962163820431"
            ]
          },
          "metadata": {
            "tags": []
          },
          "execution_count": 59
        }
      ]
    },
    {
      "cell_type": "code",
      "metadata": {
        "colab": {
          "base_uri": "https://localhost:8080/",
          "height": 283
        },
        "id": "jyotLsUNPVDP",
        "outputId": "4d125a12-9aab-4512-a198-8d415b03187f"
      },
      "source": [
        "df['minimum_nights'].plot(kind='box')"
      ],
      "execution_count": 58,
      "outputs": [
        {
          "output_type": "execute_result",
          "data": {
            "text/plain": [
              "<matplotlib.axes._subplots.AxesSubplot at 0x7f6d40bddad0>"
            ]
          },
          "metadata": {
            "tags": []
          },
          "execution_count": 58
        },
        {
          "output_type": "display_data",
          "data": {
            "image/png": "[encoded data removed]",
            "text/plain": [
              "<Figure size 432x288 with 1 Axes>"
            ]
          },
          "metadata": {
            "tags": [],
            "needs_background": "light"
          }
        }
      ]
    },
    {
      "cell_type": "code",
      "metadata": {
        "id": "NC9N97yRYZSw"
      },
      "source": [
        "#we'll check if these are aggregated per host id"
      ],
      "execution_count": null,
      "outputs": []
    },
    {
      "cell_type": "code",
      "metadata": {
        "colab": {
          "base_uri": "https://localhost:8080/",
          "height": 251
        },
        "id": "j1iewiSvZL2h",
        "outputId": "e2f219b8-b4a2-4bb1-e6ae-857a6e9633f6"
      },
      "source": [
        "df.head(2)"
      ],
      "execution_count": 126,
      "outputs": [
        {
          "output_type": "execute_result",
          "data": {
            "text/html": [
              "<div>\n",
              "<style scoped>\n",
              "    .dataframe tbody tr th:only-of-type {\n",
              "        vertical-align: middle;\n",
              "    }\n",
              "\n",
              "    .dataframe tbody tr th {\n",
              "        vertical-align: top;\n",
              "    }\n",
              "\n",
              "    .dataframe thead th {\n",
              "        text-align: right;\n",
              "    }\n",
              "</style>\n",
              "<table border=\"1\" class=\"dataframe\">\n",
              "  <thead>\n",
              "    <tr style=\"text-align: right;\">\n",
              "      <th></th>\n",
              "      <th>id</th>\n",
              "      <th>name</th>\n",
              "      <th>host_id</th>\n",
              "      <th>host_name</th>\n",
              "      <th>neighbourhood_group</th>\n",
              "      <th>neighbourhood</th>\n",
              "      <th>latitude</th>\n",
              "      <th>longitude</th>\n",
              "      <th>room_type</th>\n",
              "      <th>price</th>\n",
              "      <th>minimum_nights</th>\n",
              "      <th>number_of_reviews</th>\n",
              "      <th>last_review</th>\n",
              "      <th>reviews_per_month</th>\n",
              "      <th>calculated_host_listings_count</th>\n",
              "      <th>availability_365</th>\n",
              "    </tr>\n",
              "  </thead>\n",
              "  <tbody>\n",
              "    <tr>\n",
              "      <th>0</th>\n",
              "      <td>2539</td>\n",
              "      <td>Clean &amp; quiet apt home by the park</td>\n",
              "      <td>2787</td>\n",
              "      <td>John</td>\n",
              "      <td>Brooklyn</td>\n",
              "      <td>Kensington</td>\n",
              "      <td>40.64749</td>\n",
              "      <td>-73.97237</td>\n",
              "      <td>Private room</td>\n",
              "      <td>149</td>\n",
              "      <td>1</td>\n",
              "      <td>9</td>\n",
              "      <td>2018-10-19</td>\n",
              "      <td>0.21</td>\n",
              "      <td>6</td>\n",
              "      <td>365</td>\n",
              "    </tr>\n",
              "    <tr>\n",
              "      <th>1</th>\n",
              "      <td>2595</td>\n",
              "      <td>Skylit Midtown Castle</td>\n",
              "      <td>2845</td>\n",
              "      <td>Jennifer</td>\n",
              "      <td>Manhattan</td>\n",
              "      <td>Midtown</td>\n",
              "      <td>40.75362</td>\n",
              "      <td>-73.98377</td>\n",
              "      <td>Entire home/apt</td>\n",
              "      <td>225</td>\n",
              "      <td>1</td>\n",
              "      <td>45</td>\n",
              "      <td>2019-05-21</td>\n",
              "      <td>0.38</td>\n",
              "      <td>2</td>\n",
              "      <td>355</td>\n",
              "    </tr>\n",
              "  </tbody>\n",
              "</table>\n",
              "</div>"
            ],
            "text/plain": [
              "     id  ... availability_365\n",
              "0  2539  ...              365\n",
              "1  2595  ...              355\n",
              "\n",
              "[2 rows x 16 columns]"
            ]
          },
          "metadata": {
            "tags": []
          },
          "execution_count": 126
        }
      ]
    },
    {
      "cell_type": "code",
      "metadata": {
        "colab": {
          "base_uri": "https://localhost:8080/",
          "height": 169
        },
        "id": "uZ964Gx0Yfwv",
        "outputId": "95937c6e-c1a2-420b-a6bc-f963f6376634"
      },
      "source": [
        "df[df['minimum_nights'] > 1000]"
      ],
      "execution_count": 132,
      "outputs": [
        {
          "output_type": "execute_result",
          "data": {
            "text/html": [
              "<div>\n",
              "<style scoped>\n",
              "    .dataframe tbody tr th:only-of-type {\n",
              "        vertical-align: middle;\n",
              "    }\n",
              "\n",
              "    .dataframe tbody tr th {\n",
              "        vertical-align: top;\n",
              "    }\n",
              "\n",
              "    .dataframe thead th {\n",
              "        text-align: right;\n",
              "    }\n",
              "</style>\n",
              "<table border=\"1\" class=\"dataframe\">\n",
              "  <thead>\n",
              "    <tr style=\"text-align: right;\">\n",
              "      <th></th>\n",
              "      <th>id</th>\n",
              "      <th>name</th>\n",
              "      <th>host_id</th>\n",
              "      <th>host_name</th>\n",
              "      <th>neighbourhood_group</th>\n",
              "      <th>neighbourhood</th>\n",
              "      <th>latitude</th>\n",
              "      <th>longitude</th>\n",
              "      <th>room_type</th>\n",
              "      <th>price</th>\n",
              "      <th>minimum_nights</th>\n",
              "      <th>number_of_reviews</th>\n",
              "      <th>last_review</th>\n",
              "      <th>reviews_per_month</th>\n",
              "      <th>calculated_host_listings_count</th>\n",
              "      <th>availability_365</th>\n",
              "    </tr>\n",
              "  </thead>\n",
              "  <tbody>\n",
              "    <tr>\n",
              "      <th>5767</th>\n",
              "      <td>4204302</td>\n",
              "      <td>Prime W. Village location 1 bdrm</td>\n",
              "      <td>17550546</td>\n",
              "      <td>Genevieve</td>\n",
              "      <td>Manhattan</td>\n",
              "      <td>Greenwich Village</td>\n",
              "      <td>40.73293</td>\n",
              "      <td>-73.99782</td>\n",
              "      <td>Entire home/apt</td>\n",
              "      <td>180</td>\n",
              "      <td>1250</td>\n",
              "      <td>2</td>\n",
              "      <td>2014-11-09</td>\n",
              "      <td>0.03</td>\n",
              "      <td>1</td>\n",
              "      <td>365</td>\n",
              "    </tr>\n",
              "  </tbody>\n",
              "</table>\n",
              "</div>"
            ],
            "text/plain": [
              "           id  ... availability_365\n",
              "5767  4204302  ...              365\n",
              "\n",
              "[1 rows x 16 columns]"
            ]
          },
          "metadata": {
            "tags": []
          },
          "execution_count": 132
        }
      ]
    },
    {
      "cell_type": "code",
      "metadata": {
        "colab": {
          "base_uri": "https://localhost:8080/",
          "height": 169
        },
        "id": "nGmK1eWzZp29",
        "outputId": "65f74db4-c7b2-4864-c203-a27a8b5c6ef8"
      },
      "source": [
        "df[df['id']==4204302]"
      ],
      "execution_count": 133,
      "outputs": [
        {
          "output_type": "execute_result",
          "data": {
            "text/html": [
              "<div>\n",
              "<style scoped>\n",
              "    .dataframe tbody tr th:only-of-type {\n",
              "        vertical-align: middle;\n",
              "    }\n",
              "\n",
              "    .dataframe tbody tr th {\n",
              "        vertical-align: top;\n",
              "    }\n",
              "\n",
              "    .dataframe thead th {\n",
              "        text-align: right;\n",
              "    }\n",
              "</style>\n",
              "<table border=\"1\" class=\"dataframe\">\n",
              "  <thead>\n",
              "    <tr style=\"text-align: right;\">\n",
              "      <th></th>\n",
              "      <th>id</th>\n",
              "      <th>name</th>\n",
              "      <th>host_id</th>\n",
              "      <th>host_name</th>\n",
              "      <th>neighbourhood_group</th>\n",
              "      <th>neighbourhood</th>\n",
              "      <th>latitude</th>\n",
              "      <th>longitude</th>\n",
              "      <th>room_type</th>\n",
              "      <th>price</th>\n",
              "      <th>minimum_nights</th>\n",
              "      <th>number_of_reviews</th>\n",
              "      <th>last_review</th>\n",
              "      <th>reviews_per_month</th>\n",
              "      <th>calculated_host_listings_count</th>\n",
              "      <th>availability_365</th>\n",
              "    </tr>\n",
              "  </thead>\n",
              "  <tbody>\n",
              "    <tr>\n",
              "      <th>5767</th>\n",
              "      <td>4204302</td>\n",
              "      <td>Prime W. Village location 1 bdrm</td>\n",
              "      <td>17550546</td>\n",
              "      <td>Genevieve</td>\n",
              "      <td>Manhattan</td>\n",
              "      <td>Greenwich Village</td>\n",
              "      <td>40.73293</td>\n",
              "      <td>-73.99782</td>\n",
              "      <td>Entire home/apt</td>\n",
              "      <td>180</td>\n",
              "      <td>1250</td>\n",
              "      <td>2</td>\n",
              "      <td>2014-11-09</td>\n",
              "      <td>0.03</td>\n",
              "      <td>1</td>\n",
              "      <td>365</td>\n",
              "    </tr>\n",
              "  </tbody>\n",
              "</table>\n",
              "</div>"
            ],
            "text/plain": [
              "           id  ... availability_365\n",
              "5767  4204302  ...              365\n",
              "\n",
              "[1 rows x 16 columns]"
            ]
          },
          "metadata": {
            "tags": []
          },
          "execution_count": 133
        }
      ]
    },
    {
      "cell_type": "markdown",
      "metadata": {
        "id": "GTqYcwTdZ1uB"
      },
      "source": [
        "So no these are not aggregated and we will remove the outliers"
      ]
    },
    {
      "cell_type": "code",
      "metadata": {
        "id": "lOQnlNS9Z0Ze"
      },
      "source": [
        "df = df[(df['minimum_nights'] < df['minimum_nights'].quantile(0.75)) & (df['minimum_nights'] > df['minimum_nights'].quantile(0.25))]"
      ],
      "execution_count": 134,
      "outputs": []
    },
    {
      "cell_type": "code",
      "metadata": {
        "colab": {
          "base_uri": "https://localhost:8080/"
        },
        "id": "GPJIhoxpZE7l",
        "outputId": "7c7246e4-df2d-4f83-8c6b-a78703e22336"
      },
      "source": [
        "df.info()"
      ],
      "execution_count": 136,
      "outputs": [
        {
          "output_type": "stream",
          "text": [
            "<class 'pandas.core.frame.DataFrame'>\n",
            "Int64Index: 22982 entries, 2 to 48891\n",
            "Data columns (total 16 columns):\n",
            " #   Column                          Non-Null Count  Dtype         \n",
            "---  ------                          --------------  -----         \n",
            " 0   id                              22982 non-null  int64         \n",
            " 1   name                            22977 non-null  object        \n",
            " 2   host_id                         22982 non-null  int64         \n",
            " 3   host_name                       22976 non-null  object        \n",
            " 4   neighbourhood_group             22982 non-null  object        \n",
            " 5   neighbourhood                   22982 non-null  object        \n",
            " 6   latitude                        22982 non-null  float64       \n",
            " 7   longitude                       22982 non-null  float64       \n",
            " 8   room_type                       22982 non-null  object        \n",
            " 9   price                           22982 non-null  int64         \n",
            " 10  minimum_nights                  22982 non-null  int64         \n",
            " 11  number_of_reviews               22982 non-null  int64         \n",
            " 12  last_review                     22982 non-null  datetime64[ns]\n",
            " 13  reviews_per_month               22982 non-null  float64       \n",
            " 14  calculated_host_listings_count  22982 non-null  int64         \n",
            " 15  availability_365                22982 non-null  int64         \n",
            "dtypes: datetime64[ns](1), float64(3), int64(7), object(5)\n",
            "memory usage: 3.0+ MB\n"
          ],
          "name": "stdout"
        }
      ]
    },
    {
      "cell_type": "markdown",
      "metadata": {
        "id": "be9KL3a8X-5m"
      },
      "source": [
        "We'll completely remove the outliers in minimum nights required as these are unrealistic"
      ]
    },
    {
      "cell_type": "code",
      "metadata": {
        "colab": {
          "base_uri": "https://localhost:8080/",
          "height": 283
        },
        "id": "B9bJAORfPC3h",
        "outputId": "c871e1f5-01a6-4a6b-dc2e-0b20c68f5114"
      },
      "source": [
        "df['minimum_nights'].plot.hist(bins=100) \r\n"
      ],
      "execution_count": 54,
      "outputs": [
        {
          "output_type": "execute_result",
          "data": {
            "text/plain": [
              "<matplotlib.axes._subplots.AxesSubplot at 0x7f6d41132510>"
            ]
          },
          "metadata": {
            "tags": []
          },
          "execution_count": 54
        },
        {
          "output_type": "display_data",
          "data": {
            "image/png": "[encoded data removed]",
            "text/plain": [
              "<Figure size 432x288 with 1 Axes>"
            ]
          },
          "metadata": {
            "tags": [],
            "needs_background": "light"
          }
        }
      ]
    },
    {
      "cell_type": "code",
      "metadata": {
        "colab": {
          "base_uri": "https://localhost:8080/",
          "height": 283
        },
        "id": "0fAv9oSGPEwC",
        "outputId": "bed2cf9c-d048-48bd-9be4-3ad14d929904"
      },
      "source": [
        "df['availability_365'].plot.hist(bins=100) "
      ],
      "execution_count": 55,
      "outputs": [
        {
          "output_type": "execute_result",
          "data": {
            "text/plain": [
              "<matplotlib.axes._subplots.AxesSubplot at 0x7f6d40dda750>"
            ]
          },
          "metadata": {
            "tags": []
          },
          "execution_count": 55
        },
        {
          "output_type": "display_data",
          "data": {
            "image/png": "[encoded data removed]",
            "text/plain": [
              "<Figure size 432x288 with 1 Axes>"
            ]
          },
          "metadata": {
            "tags": [],
            "needs_background": "light"
          }
        }
      ]
    },
    {
      "cell_type": "code",
      "metadata": {
        "colab": {
          "base_uri": "https://localhost:8080/",
          "height": 622
        },
        "id": "TjXsVqnCsq0F",
        "outputId": "1dbca421-65d5-4841-e5fe-5b3a6ce9443d"
      },
      "source": [
        "sns.distplot(df['price'], hist=True,bins=100)\r\n",
        "sns.distplot(df['number_of_reviews'], hist=True,bins=100)\r\n",
        "sns.distplot(df['minimum_nights'], hist=True,bins=100)\r\n",
        "sns.distplot(df['availability_365'], hist=True,bins=100)\r\n",
        "sns.subplots(False)\r\n"
      ],
      "execution_count": 43,
      "outputs": [
        {
          "output_type": "stream",
          "text": [
            "/usr/local/lib/python3.7/dist-packages/seaborn/distributions.py:2557: FutureWarning: `distplot` is a deprecated function and will be removed in a future version. Please adapt your code to use either `displot` (a figure-level function with similar flexibility) or `histplot` (an axes-level function for histograms).\n",
            "  warnings.warn(msg, FutureWarning)\n",
            "/usr/local/lib/python3.7/dist-packages/seaborn/distributions.py:2557: FutureWarning: `distplot` is a deprecated function and will be removed in a future version. Please adapt your code to use either `displot` (a figure-level function with similar flexibility) or `histplot` (an axes-level function for histograms).\n",
            "  warnings.warn(msg, FutureWarning)\n",
            "/usr/local/lib/python3.7/dist-packages/seaborn/distributions.py:2557: FutureWarning: `distplot` is a deprecated function and will be removed in a future version. Please adapt your code to use either `displot` (a figure-level function with similar flexibility) or `histplot` (an axes-level function for histograms).\n",
            "  warnings.warn(msg, FutureWarning)\n",
            "/usr/local/lib/python3.7/dist-packages/seaborn/distributions.py:2557: FutureWarning: `distplot` is a deprecated function and will be removed in a future version. Please adapt your code to use either `displot` (a figure-level function with similar flexibility) or `histplot` (an axes-level function for histograms).\n",
            "  warnings.warn(msg, FutureWarning)\n"
          ],
          "name": "stderr"
        },
        {
          "output_type": "error",
          "ename": "AttributeError",
          "evalue": "ignored",
          "traceback": [
            "\u001b[0;31m---------------------------------------------------------------------------\u001b[0m",
            "\u001b[0;31mAttributeError\u001b[0m                            Traceback (most recent call last)",
            "\u001b[0;32m<ipython-input-43-07801a296a26>\u001b[0m in \u001b[0;36m<module>\u001b[0;34m()\u001b[0m\n\u001b[1;32m      3\u001b[0m \u001b[0msns\u001b[0m\u001b[0;34m.\u001b[0m\u001b[0mdistplot\u001b[0m\u001b[0;34m(\u001b[0m\u001b[0mdf\u001b[0m\u001b[0;34m[\u001b[0m\u001b[0;34m'minimum_nights'\u001b[0m\u001b[0;34m]\u001b[0m\u001b[0;34m,\u001b[0m \u001b[0mhist\u001b[0m\u001b[0;34m=\u001b[0m\u001b[0;32mTrue\u001b[0m\u001b[0;34m,\u001b[0m\u001b[0mbins\u001b[0m\u001b[0;34m=\u001b[0m\u001b[0;36m100\u001b[0m\u001b[0;34m)\u001b[0m\u001b[0;34m\u001b[0m\u001b[0;34m\u001b[0m\u001b[0m\n\u001b[1;32m      4\u001b[0m \u001b[0msns\u001b[0m\u001b[0;34m.\u001b[0m\u001b[0mdistplot\u001b[0m\u001b[0;34m(\u001b[0m\u001b[0mdf\u001b[0m\u001b[0;34m[\u001b[0m\u001b[0;34m'availability_365'\u001b[0m\u001b[0;34m]\u001b[0m\u001b[0;34m,\u001b[0m \u001b[0mhist\u001b[0m\u001b[0;34m=\u001b[0m\u001b[0;32mTrue\u001b[0m\u001b[0;34m,\u001b[0m\u001b[0mbins\u001b[0m\u001b[0;34m=\u001b[0m\u001b[0;36m100\u001b[0m\u001b[0;34m)\u001b[0m\u001b[0;34m\u001b[0m\u001b[0;34m\u001b[0m\u001b[0m\n\u001b[0;32m----> 5\u001b[0;31m \u001b[0msns\u001b[0m\u001b[0;34m.\u001b[0m\u001b[0msubplots\u001b[0m\u001b[0;34m(\u001b[0m\u001b[0;32mFalse\u001b[0m\u001b[0;34m)\u001b[0m\u001b[0;34m\u001b[0m\u001b[0;34m\u001b[0m\u001b[0m\n\u001b[0m",
            "\u001b[0;31mAttributeError\u001b[0m: module 'seaborn' has no attribute 'subplots'"
          ]
        },
        {
          "output_type": "display_data",
          "data": {
            "image/png": "[encoded data removed]",
            "text/plain": [
              "<Figure size 432x288 with 1 Axes>"
            ]
          },
          "metadata": {
            "tags": [],
            "needs_background": "light"
          }
        }
      ]
    },
    {
      "cell_type": "code",
      "metadata": {
        "colab": {
          "base_uri": "https://localhost:8080/"
        },
        "id": "5t_u0X6Etitw",
        "outputId": "568f73ab-6c74-4e76-cf41-05e59c69f900"
      },
      "source": [
        "5207+26155\r\n"
      ],
      "execution_count": 214,
      "outputs": [
        {
          "output_type": "execute_result",
          "data": {
            "text/plain": [
              "31362"
            ]
          },
          "metadata": {
            "tags": []
          },
          "execution_count": 214
        }
      ]
    },
    {
      "cell_type": "code",
      "metadata": {
        "id": "gtOfkXO0rnqX"
      },
      "source": [
        ""
      ],
      "execution_count": 233,
      "outputs": []
    },
    {
      "cell_type": "code",
      "metadata": {
        "id": "xtBK_hzdWXO9"
      },
      "source": [
        "df = df[df['availability_365'] != 0 ]"
      ],
      "execution_count": 223,
      "outputs": []
    },
    {
      "cell_type": "code",
      "metadata": {
        "colab": {
          "base_uri": "https://localhost:8080/",
          "height": 782
        },
        "id": "RB2VBg8zZiW-",
        "outputId": "2d893ada-03f2-432f-b54d-60f51672703c"
      },
      "source": [
        "#\r\n",
        "\r\n",
        "df.loc[df['price'] == 0]"
      ],
      "execution_count": 208,
      "outputs": [
        {
          "output_type": "execute_result",
          "data": {
            "text/html": [
              "<div>\n",
              "<style scoped>\n",
              "    .dataframe tbody tr th:only-of-type {\n",
              "        vertical-align: middle;\n",
              "    }\n",
              "\n",
              "    .dataframe tbody tr th {\n",
              "        vertical-align: top;\n",
              "    }\n",
              "\n",
              "    .dataframe thead th {\n",
              "        text-align: right;\n",
              "    }\n",
              "</style>\n",
              "<table border=\"1\" class=\"dataframe\">\n",
              "  <thead>\n",
              "    <tr style=\"text-align: right;\">\n",
              "      <th></th>\n",
              "      <th>id</th>\n",
              "      <th>name</th>\n",
              "      <th>host_id</th>\n",
              "      <th>host_name</th>\n",
              "      <th>neighbourhood_group</th>\n",
              "      <th>neighbourhood</th>\n",
              "      <th>latitude</th>\n",
              "      <th>longitude</th>\n",
              "      <th>room_type</th>\n",
              "      <th>price</th>\n",
              "      <th>minimum_nights</th>\n",
              "      <th>number_of_reviews</th>\n",
              "      <th>last_review</th>\n",
              "      <th>reviews_per_month</th>\n",
              "      <th>calculated_host_listings_count</th>\n",
              "      <th>availability_365</th>\n",
              "    </tr>\n",
              "  </thead>\n",
              "  <tbody>\n",
              "    <tr>\n",
              "      <th>23161</th>\n",
              "      <td>18750597</td>\n",
              "      <td>Huge Brooklyn Brownstone Living, Close to it all.</td>\n",
              "      <td>8993084</td>\n",
              "      <td>Kimberly</td>\n",
              "      <td>Brooklyn</td>\n",
              "      <td>Bedford-Stuyvesant</td>\n",
              "      <td>40.69023</td>\n",
              "      <td>-73.95428</td>\n",
              "      <td>Private room</td>\n",
              "      <td>0</td>\n",
              "      <td>4</td>\n",
              "      <td>1</td>\n",
              "      <td>2018-01-06</td>\n",
              "      <td>0.05</td>\n",
              "      <td>4</td>\n",
              "      <td>28</td>\n",
              "    </tr>\n",
              "    <tr>\n",
              "      <th>25433</th>\n",
              "      <td>20333471</td>\n",
              "      <td>★Hostel Style Room | Ideal Traveling Buddies★</td>\n",
              "      <td>131697576</td>\n",
              "      <td>Anisha</td>\n",
              "      <td>Bronx</td>\n",
              "      <td>East Morrisania</td>\n",
              "      <td>40.83296</td>\n",
              "      <td>-73.88668</td>\n",
              "      <td>Private room</td>\n",
              "      <td>0</td>\n",
              "      <td>2</td>\n",
              "      <td>55</td>\n",
              "      <td>2019-06-24</td>\n",
              "      <td>2.56</td>\n",
              "      <td>4</td>\n",
              "      <td>127</td>\n",
              "    </tr>\n",
              "    <tr>\n",
              "      <th>25778</th>\n",
              "      <td>20624541</td>\n",
              "      <td>Modern apartment in the heart of Williamsburg</td>\n",
              "      <td>10132166</td>\n",
              "      <td>Aymeric</td>\n",
              "      <td>Brooklyn</td>\n",
              "      <td>Williamsburg</td>\n",
              "      <td>40.70838</td>\n",
              "      <td>-73.94645</td>\n",
              "      <td>Entire home/apt</td>\n",
              "      <td>0</td>\n",
              "      <td>5</td>\n",
              "      <td>3</td>\n",
              "      <td>2018-01-02</td>\n",
              "      <td>0.15</td>\n",
              "      <td>1</td>\n",
              "      <td>73</td>\n",
              "    </tr>\n",
              "    <tr>\n",
              "      <th>25794</th>\n",
              "      <td>20639628</td>\n",
              "      <td>Spacious comfortable master bedroom with nice ...</td>\n",
              "      <td>86327101</td>\n",
              "      <td>Adeyemi</td>\n",
              "      <td>Brooklyn</td>\n",
              "      <td>Bedford-Stuyvesant</td>\n",
              "      <td>40.68173</td>\n",
              "      <td>-73.91342</td>\n",
              "      <td>Private room</td>\n",
              "      <td>0</td>\n",
              "      <td>1</td>\n",
              "      <td>93</td>\n",
              "      <td>2019-06-15</td>\n",
              "      <td>4.28</td>\n",
              "      <td>6</td>\n",
              "      <td>176</td>\n",
              "    </tr>\n",
              "    <tr>\n",
              "      <th>25795</th>\n",
              "      <td>20639792</td>\n",
              "      <td>Contemporary bedroom in brownstone with nice view</td>\n",
              "      <td>86327101</td>\n",
              "      <td>Adeyemi</td>\n",
              "      <td>Brooklyn</td>\n",
              "      <td>Bedford-Stuyvesant</td>\n",
              "      <td>40.68279</td>\n",
              "      <td>-73.91170</td>\n",
              "      <td>Private room</td>\n",
              "      <td>0</td>\n",
              "      <td>1</td>\n",
              "      <td>95</td>\n",
              "      <td>2019-06-21</td>\n",
              "      <td>4.37</td>\n",
              "      <td>6</td>\n",
              "      <td>232</td>\n",
              "    </tr>\n",
              "    <tr>\n",
              "      <th>25796</th>\n",
              "      <td>20639914</td>\n",
              "      <td>Cozy yet spacious private brownstone bedroom</td>\n",
              "      <td>86327101</td>\n",
              "      <td>Adeyemi</td>\n",
              "      <td>Brooklyn</td>\n",
              "      <td>Bedford-Stuyvesant</td>\n",
              "      <td>40.68258</td>\n",
              "      <td>-73.91284</td>\n",
              "      <td>Private room</td>\n",
              "      <td>0</td>\n",
              "      <td>1</td>\n",
              "      <td>95</td>\n",
              "      <td>2019-06-23</td>\n",
              "      <td>4.35</td>\n",
              "      <td>6</td>\n",
              "      <td>222</td>\n",
              "    </tr>\n",
              "    <tr>\n",
              "      <th>26841</th>\n",
              "      <td>21291569</td>\n",
              "      <td>Coliving in Brooklyn! Modern design / Shared room</td>\n",
              "      <td>101970559</td>\n",
              "      <td>Sergii</td>\n",
              "      <td>Brooklyn</td>\n",
              "      <td>Bushwick</td>\n",
              "      <td>40.69211</td>\n",
              "      <td>-73.90670</td>\n",
              "      <td>Shared room</td>\n",
              "      <td>0</td>\n",
              "      <td>30</td>\n",
              "      <td>2</td>\n",
              "      <td>2019-06-22</td>\n",
              "      <td>0.11</td>\n",
              "      <td>6</td>\n",
              "      <td>333</td>\n",
              "    </tr>\n",
              "    <tr>\n",
              "      <th>26866</th>\n",
              "      <td>21304320</td>\n",
              "      <td>Best Coliving space ever! Shared room.</td>\n",
              "      <td>101970559</td>\n",
              "      <td>Sergii</td>\n",
              "      <td>Brooklyn</td>\n",
              "      <td>Bushwick</td>\n",
              "      <td>40.69166</td>\n",
              "      <td>-73.90928</td>\n",
              "      <td>Shared room</td>\n",
              "      <td>0</td>\n",
              "      <td>30</td>\n",
              "      <td>5</td>\n",
              "      <td>2019-05-24</td>\n",
              "      <td>0.26</td>\n",
              "      <td>6</td>\n",
              "      <td>139</td>\n",
              "    </tr>\n",
              "  </tbody>\n",
              "</table>\n",
              "</div>"
            ],
            "text/plain": [
              "             id  ... availability_365\n",
              "23161  18750597  ...               28\n",
              "25433  20333471  ...              127\n",
              "25778  20624541  ...               73\n",
              "25794  20639628  ...              176\n",
              "25795  20639792  ...              232\n",
              "25796  20639914  ...              222\n",
              "26841  21291569  ...              333\n",
              "26866  21304320  ...              139\n",
              "\n",
              "[8 rows x 16 columns]"
            ]
          },
          "metadata": {
            "tags": []
          },
          "execution_count": 208
        }
      ]
    },
    {
      "cell_type": "code",
      "metadata": {
        "id": "kXA_DTo-ApmC"
      },
      "source": [
        "#correcting the prices with 0 values to median values\r\n",
        "#update the price values based on categorical (subgroup)\r\n",
        "df.loc[df['price'] == 0,'price'] = df.loc[df['price'] != 0,'price'].median()"
      ],
      "execution_count": 166,
      "outputs": []
    },
    {
      "cell_type": "code",
      "metadata": {
        "colab": {
          "base_uri": "https://localhost:8080/"
        },
        "id": "QZ22AaWiZpyv",
        "outputId": "ff5fc31a-1ebf-4163-d3aa-f6deb3f1cb25"
      },
      "source": [
        "df.loc[df['price'] == 0,'price']"
      ],
      "execution_count": 167,
      "outputs": [
        {
          "output_type": "execute_result",
          "data": {
            "text/plain": [
              "Series([], Name: price, dtype: int64)"
            ]
          },
          "metadata": {
            "tags": []
          },
          "execution_count": 167
        }
      ]
    },
    {
      "cell_type": "code",
      "metadata": {
        "id": "FXr_5bjL-798"
      },
      "source": [
        "neighbourhood_group_df = df.groupby('neighbourhood_group')['price'].mean().reset_index()"
      ],
      "execution_count": 168,
      "outputs": []
    },
    {
      "cell_type": "code",
      "metadata": {
        "id": "pgAdn150b0Jf"
      },
      "source": [
        "neighbourhood_group_df['number_of_reviews'] = (df.groupby('neighbourhood_group')['number_of_reviews'].sum().reset_index())['number_of_reviews']"
      ],
      "execution_count": 169,
      "outputs": []
    },
    {
      "cell_type": "code",
      "metadata": {
        "id": "jEHdfUgrrMGE"
      },
      "source": [
        "neighbourhood_group_df['number_of_listings'] = (df.groupby('neighbourhood_group')['id'].count().reset_index())['id']"
      ],
      "execution_count": 170,
      "outputs": []
    },
    {
      "cell_type": "code",
      "metadata": {
        "id": "HTa_41Es-hda"
      },
      "source": [
        "neighbourhood_group_df['standard_deviation'] = (df.groupby('neighbourhood_group')['price'].std().reset_index())['price']"
      ],
      "execution_count": 171,
      "outputs": []
    },
    {
      "cell_type": "code",
      "metadata": {
        "id": "pIQvFBXgLBgv"
      },
      "source": [
        "neighbourhood_group_df['last_review'] = (df.groupby('neighbourhood_group')['last_review'].max().reset_index())['last_review']"
      ],
      "execution_count": 172,
      "outputs": []
    },
    {
      "cell_type": "code",
      "metadata": {
        "id": "IeIUZcylLnGl"
      },
      "source": [
        "neighbourhood_group_df['number_of_hosts'] = (df.groupby('neighbourhood_group')['host_id'].count().reset_index())['host_id']"
      ],
      "execution_count": 173,
      "outputs": []
    },
    {
      "cell_type": "code",
      "metadata": {
        "id": "J7VL8yjYQDHf"
      },
      "source": [
        ""
      ],
      "execution_count": null,
      "outputs": []
    },
    {
      "cell_type": "code",
      "metadata": {
        "colab": {
          "base_uri": "https://localhost:8080/",
          "height": 202
        },
        "id": "HracLfQDdTb5",
        "outputId": "52604252-f004-46d7-afb2-4fc929d32cf1"
      },
      "source": [
        "neighbourhood_group_df.drop('number_of_hosts',axis = 1)"
      ],
      "execution_count": 174,
      "outputs": [
        {
          "output_type": "execute_result",
          "data": {
            "text/html": [
              "<div>\n",
              "<style scoped>\n",
              "    .dataframe tbody tr th:only-of-type {\n",
              "        vertical-align: middle;\n",
              "    }\n",
              "\n",
              "    .dataframe tbody tr th {\n",
              "        vertical-align: top;\n",
              "    }\n",
              "\n",
              "    .dataframe thead th {\n",
              "        text-align: right;\n",
              "    }\n",
              "</style>\n",
              "<table border=\"1\" class=\"dataframe\">\n",
              "  <thead>\n",
              "    <tr style=\"text-align: right;\">\n",
              "      <th></th>\n",
              "      <th>neighbourhood_group</th>\n",
              "      <th>price</th>\n",
              "      <th>number_of_reviews</th>\n",
              "      <th>number_of_listings</th>\n",
              "      <th>standard_deviation</th>\n",
              "      <th>last_review</th>\n",
              "    </tr>\n",
              "  </thead>\n",
              "  <tbody>\n",
              "    <tr>\n",
              "      <th>0</th>\n",
              "      <td>Bronx</td>\n",
              "      <td>89.130197</td>\n",
              "      <td>26582</td>\n",
              "      <td>914</td>\n",
              "      <td>112.617584</td>\n",
              "      <td>2019-07-07</td>\n",
              "    </tr>\n",
              "    <tr>\n",
              "      <th>1</th>\n",
              "      <td>Brooklyn</td>\n",
              "      <td>132.916313</td>\n",
              "      <td>425357</td>\n",
              "      <td>12260</td>\n",
              "      <td>188.984983</td>\n",
              "      <td>2019-07-08</td>\n",
              "    </tr>\n",
              "    <tr>\n",
              "      <th>2</th>\n",
              "      <td>Manhattan</td>\n",
              "      <td>214.202080</td>\n",
              "      <td>392267</td>\n",
              "      <td>13559</td>\n",
              "      <td>325.029426</td>\n",
              "      <td>2019-07-08</td>\n",
              "    </tr>\n",
              "    <tr>\n",
              "      <th>3</th>\n",
              "      <td>Queens</td>\n",
              "      <td>100.029781</td>\n",
              "      <td>143883</td>\n",
              "      <td>4298</td>\n",
              "      <td>108.584467</td>\n",
              "      <td>2019-07-08</td>\n",
              "    </tr>\n",
              "    <tr>\n",
              "      <th>4</th>\n",
              "      <td>Staten Island</td>\n",
              "      <td>114.229607</td>\n",
              "      <td>10865</td>\n",
              "      <td>331</td>\n",
              "      <td>291.526508</td>\n",
              "      <td>2019-07-08</td>\n",
              "    </tr>\n",
              "  </tbody>\n",
              "</table>\n",
              "</div>"
            ],
            "text/plain": [
              "  neighbourhood_group       price  ...  standard_deviation  last_review\n",
              "0               Bronx   89.130197  ...          112.617584   2019-07-07\n",
              "1            Brooklyn  132.916313  ...          188.984983   2019-07-08\n",
              "2           Manhattan  214.202080  ...          325.029426   2019-07-08\n",
              "3              Queens  100.029781  ...          108.584467   2019-07-08\n",
              "4       Staten Island  114.229607  ...          291.526508   2019-07-08\n",
              "\n",
              "[5 rows x 6 columns]"
            ]
          },
          "metadata": {
            "tags": []
          },
          "execution_count": 174
        }
      ]
    },
    {
      "cell_type": "code",
      "metadata": {
        "colab": {
          "base_uri": "https://localhost:8080/",
          "height": 423
        },
        "id": "CuOGO2kRkSDw",
        "outputId": "480d8e09-e04b-44e2-ca25-05f7f250be37"
      },
      "source": [
        "plt.rcParams['figure.figsize'] = (10, 5)\r\n",
        "df.groupby(['neighbourhood_group','room_type'])['price'].mean().unstack().plot(kind=\"bar\")\r\n",
        "plt.title('Price range over different neighbourhood groups')\r\n",
        "plt.ylabel('Average Price')\r\n",
        "plt.xlabel('Neighbourhood`')"
      ],
      "execution_count": 175,
      "outputs": [
        {
          "output_type": "execute_result",
          "data": {
            "text/plain": [
              "Text(0.5, 0, 'Neighbourhood`')"
            ]
          },
          "metadata": {
            "tags": []
          },
          "execution_count": 175
        },
        {
          "output_type": "display_data",
          "data": {
            "image/png": "[encoded data removed]",
            "text/plain": [
              "<Figure size 720x360 with 1 Axes>"
            ]
          },
          "metadata": {
            "tags": [],
            "needs_background": "light"
          }
        }
      ]
    },
    {
      "cell_type": "code",
      "metadata": {
        "id": "5xM3JhUMQgIh"
      },
      "source": [
        "host_df = df.groupby('host_id')['id'].count().reset_index().sort_values('id',ascending = False)"
      ],
      "execution_count": 176,
      "outputs": []
    },
    {
      "cell_type": "code",
      "metadata": {
        "colab": {
          "base_uri": "https://localhost:8080/",
          "height": 415
        },
        "id": "DUyd9EawRqGI",
        "outputId": "b9b71522-f777-4e77-ba56-56a6fae3265e"
      },
      "source": [
        "host_df"
      ],
      "execution_count": 177,
      "outputs": [
        {
          "output_type": "execute_result",
          "data": {
            "text/html": [
              "<div>\n",
              "<style scoped>\n",
              "    .dataframe tbody tr th:only-of-type {\n",
              "        vertical-align: middle;\n",
              "    }\n",
              "\n",
              "    .dataframe tbody tr th {\n",
              "        vertical-align: top;\n",
              "    }\n",
              "\n",
              "    .dataframe thead th {\n",
              "        text-align: right;\n",
              "    }\n",
              "</style>\n",
              "<table border=\"1\" class=\"dataframe\">\n",
              "  <thead>\n",
              "    <tr style=\"text-align: right;\">\n",
              "      <th></th>\n",
              "      <th>host_id</th>\n",
              "      <th>id</th>\n",
              "    </tr>\n",
              "  </thead>\n",
              "  <tbody>\n",
              "    <tr>\n",
              "      <th>19267</th>\n",
              "      <td>219517861</td>\n",
              "      <td>327</td>\n",
              "    </tr>\n",
              "    <tr>\n",
              "      <th>15504</th>\n",
              "      <td>107434423</td>\n",
              "      <td>232</td>\n",
              "    </tr>\n",
              "    <tr>\n",
              "      <th>10412</th>\n",
              "      <td>30283594</td>\n",
              "      <td>121</td>\n",
              "    </tr>\n",
              "    <tr>\n",
              "      <th>7164</th>\n",
              "      <td>12243051</td>\n",
              "      <td>96</td>\n",
              "    </tr>\n",
              "    <tr>\n",
              "      <th>16600</th>\n",
              "      <td>137358866</td>\n",
              "      <td>92</td>\n",
              "    </tr>\n",
              "    <tr>\n",
              "      <th>...</th>\n",
              "      <td>...</td>\n",
              "      <td>...</td>\n",
              "    </tr>\n",
              "    <tr>\n",
              "      <th>7897</th>\n",
              "      <td>16030422</td>\n",
              "      <td>1</td>\n",
              "    </tr>\n",
              "    <tr>\n",
              "      <th>7895</th>\n",
              "      <td>16024560</td>\n",
              "      <td>1</td>\n",
              "    </tr>\n",
              "    <tr>\n",
              "      <th>7894</th>\n",
              "      <td>16015663</td>\n",
              "      <td>1</td>\n",
              "    </tr>\n",
              "    <tr>\n",
              "      <th>7893</th>\n",
              "      <td>16006197</td>\n",
              "      <td>1</td>\n",
              "    </tr>\n",
              "    <tr>\n",
              "      <th>21808</th>\n",
              "      <td>274321313</td>\n",
              "      <td>1</td>\n",
              "    </tr>\n",
              "  </tbody>\n",
              "</table>\n",
              "<p>21809 rows × 2 columns</p>\n",
              "</div>"
            ],
            "text/plain": [
              "         host_id   id\n",
              "19267  219517861  327\n",
              "15504  107434423  232\n",
              "10412   30283594  121\n",
              "7164    12243051   96\n",
              "16600  137358866   92\n",
              "...          ...  ...\n",
              "7897    16030422    1\n",
              "7895    16024560    1\n",
              "7894    16015663    1\n",
              "7893    16006197    1\n",
              "21808  274321313    1\n",
              "\n",
              "[21809 rows x 2 columns]"
            ]
          },
          "metadata": {
            "tags": []
          },
          "execution_count": 177
        }
      ]
    },
    {
      "cell_type": "code",
      "metadata": {
        "id": "v7gPeio1R_6G"
      },
      "source": [
        "def get_neighbourhood(row):\r\n",
        "  li = []\r\n",
        "  for area in df.loc[row == df['host_id'],'neighbourhood_group']:\r\n",
        "    li.append(area)\r\n",
        "  return list(set(li))"
      ],
      "execution_count": 178,
      "outputs": []
    },
    {
      "cell_type": "code",
      "metadata": {
        "id": "ReGbH5YRQ4bd"
      },
      "source": [
        "host_df['neighbourhood'] = host_df['host_id'].apply(lambda row: get_neighbourhood(row))"
      ],
      "execution_count": 179,
      "outputs": []
    },
    {
      "cell_type": "code",
      "metadata": {
        "id": "G9u7ZfBaVEFk"
      },
      "source": [
        "host_df['avg_number_of_days'] = host_df['host_id'].apply(lambda row: df.loc[df['host_id']==row,'availability_365'].mean())"
      ],
      "execution_count": 180,
      "outputs": []
    },
    {
      "cell_type": "code",
      "metadata": {
        "colab": {
          "base_uri": "https://localhost:8080/",
          "height": 415
        },
        "id": "JwKWpa3UUTaR",
        "outputId": "03e87a55-6dd7-41ca-9d1f-81a456040925"
      },
      "source": [
        "host_df"
      ],
      "execution_count": 181,
      "outputs": [
        {
          "output_type": "execute_result",
          "data": {
            "text/html": [
              "<div>\n",
              "<style scoped>\n",
              "    .dataframe tbody tr th:only-of-type {\n",
              "        vertical-align: middle;\n",
              "    }\n",
              "\n",
              "    .dataframe tbody tr th {\n",
              "        vertical-align: top;\n",
              "    }\n",
              "\n",
              "    .dataframe thead th {\n",
              "        text-align: right;\n",
              "    }\n",
              "</style>\n",
              "<table border=\"1\" class=\"dataframe\">\n",
              "  <thead>\n",
              "    <tr style=\"text-align: right;\">\n",
              "      <th></th>\n",
              "      <th>host_id</th>\n",
              "      <th>id</th>\n",
              "      <th>neighbourhood</th>\n",
              "      <th>avg_number_of_days</th>\n",
              "    </tr>\n",
              "  </thead>\n",
              "  <tbody>\n",
              "    <tr>\n",
              "      <th>19267</th>\n",
              "      <td>219517861</td>\n",
              "      <td>327</td>\n",
              "      <td>[Manhattan]</td>\n",
              "      <td>301.492355</td>\n",
              "    </tr>\n",
              "    <tr>\n",
              "      <th>15504</th>\n",
              "      <td>107434423</td>\n",
              "      <td>232</td>\n",
              "      <td>[Manhattan, Brooklyn]</td>\n",
              "      <td>253.810345</td>\n",
              "    </tr>\n",
              "    <tr>\n",
              "      <th>10412</th>\n",
              "      <td>30283594</td>\n",
              "      <td>121</td>\n",
              "      <td>[Manhattan]</td>\n",
              "      <td>313.421488</td>\n",
              "    </tr>\n",
              "    <tr>\n",
              "      <th>7164</th>\n",
              "      <td>12243051</td>\n",
              "      <td>96</td>\n",
              "      <td>[Manhattan]</td>\n",
              "      <td>276.614583</td>\n",
              "    </tr>\n",
              "    <tr>\n",
              "      <th>16600</th>\n",
              "      <td>137358866</td>\n",
              "      <td>92</td>\n",
              "      <td>[Manhattan, Brooklyn, Queens]</td>\n",
              "      <td>219.967391</td>\n",
              "    </tr>\n",
              "    <tr>\n",
              "      <th>...</th>\n",
              "      <td>...</td>\n",
              "      <td>...</td>\n",
              "      <td>...</td>\n",
              "      <td>...</td>\n",
              "    </tr>\n",
              "    <tr>\n",
              "      <th>7897</th>\n",
              "      <td>16030422</td>\n",
              "      <td>1</td>\n",
              "      <td>[Manhattan]</td>\n",
              "      <td>18.000000</td>\n",
              "    </tr>\n",
              "    <tr>\n",
              "      <th>7895</th>\n",
              "      <td>16024560</td>\n",
              "      <td>1</td>\n",
              "      <td>[Brooklyn]</td>\n",
              "      <td>165.000000</td>\n",
              "    </tr>\n",
              "    <tr>\n",
              "      <th>7894</th>\n",
              "      <td>16015663</td>\n",
              "      <td>1</td>\n",
              "      <td>[Queens]</td>\n",
              "      <td>88.000000</td>\n",
              "    </tr>\n",
              "    <tr>\n",
              "      <th>7893</th>\n",
              "      <td>16006197</td>\n",
              "      <td>1</td>\n",
              "      <td>[Brooklyn]</td>\n",
              "      <td>86.000000</td>\n",
              "    </tr>\n",
              "    <tr>\n",
              "      <th>21808</th>\n",
              "      <td>274321313</td>\n",
              "      <td>1</td>\n",
              "      <td>[Manhattan]</td>\n",
              "      <td>31.000000</td>\n",
              "    </tr>\n",
              "  </tbody>\n",
              "</table>\n",
              "<p>21809 rows × 4 columns</p>\n",
              "</div>"
            ],
            "text/plain": [
              "         host_id   id                  neighbourhood  avg_number_of_days\n",
              "19267  219517861  327                    [Manhattan]          301.492355\n",
              "15504  107434423  232          [Manhattan, Brooklyn]          253.810345\n",
              "10412   30283594  121                    [Manhattan]          313.421488\n",
              "7164    12243051   96                    [Manhattan]          276.614583\n",
              "16600  137358866   92  [Manhattan, Brooklyn, Queens]          219.967391\n",
              "...          ...  ...                            ...                 ...\n",
              "7897    16030422    1                    [Manhattan]           18.000000\n",
              "7895    16024560    1                     [Brooklyn]          165.000000\n",
              "7894    16015663    1                       [Queens]           88.000000\n",
              "7893    16006197    1                     [Brooklyn]           86.000000\n",
              "21808  274321313    1                    [Manhattan]           31.000000\n",
              "\n",
              "[21809 rows x 4 columns]"
            ]
          },
          "metadata": {
            "tags": []
          },
          "execution_count": 181
        }
      ]
    },
    {
      "cell_type": "code",
      "metadata": {
        "colab": {
          "base_uri": "https://localhost:8080/",
          "height": 303
        },
        "id": "GxUWG3M-rCDa",
        "outputId": "0f5f6a37-bdd2-403c-8fc2-3c515afd2e96"
      },
      "source": [
        "plt.rcParams['figure.figsize'] = (10, 5)\r\n",
        "plt.pie(neighbourhood_group_df['number_of_listings'], labels = neighbourhood_group_df['neighbourhood_group'])\r\n",
        "plt.show() "
      ],
      "execution_count": 182,
      "outputs": [
        {
          "output_type": "display_data",
          "data": {
            "image/png": "[encoded data removed]",
            "text/plain": [
              "<Figure size 720x360 with 1 Axes>"
            ]
          },
          "metadata": {
            "tags": []
          }
        }
      ]
    },
    {
      "cell_type": "code",
      "metadata": {
        "colab": {
          "base_uri": "https://localhost:8080/",
          "height": 441
        },
        "id": "62VEm7PrENQr",
        "outputId": "40f2b2c5-ca2f-43ee-b807-bef39b3871d3"
      },
      "source": [
        "df.groupby('neighbourhood_group').price.plot(kind='kde')"
      ],
      "execution_count": 185,
      "outputs": [
        {
          "output_type": "execute_result",
          "data": {
            "text/plain": [
              "neighbourhood_group\n",
              "Bronx            AxesSubplot(0.125,0.125;0.775x0.755)\n",
              "Brooklyn         AxesSubplot(0.125,0.125;0.775x0.755)\n",
              "Manhattan        AxesSubplot(0.125,0.125;0.775x0.755)\n",
              "Queens           AxesSubplot(0.125,0.125;0.775x0.755)\n",
              "Staten Island    AxesSubplot(0.125,0.125;0.775x0.755)\n",
              "Name: price, dtype: object"
            ]
          },
          "metadata": {
            "tags": []
          },
          "execution_count": 185
        },
        {
          "output_type": "display_data",
          "data": {
            "image/png": "[encoded data removed]",
            "text/plain": [
              "<Figure size 720x360 with 1 Axes>"
            ]
          },
          "metadata": {
            "tags": [],
            "needs_background": "light"
          }
        }
      ]
    },
    {
      "cell_type": "code",
      "metadata": {
        "colab": {
          "base_uri": "https://localhost:8080/",
          "height": 406
        },
        "id": "-xtICYsiFIHZ",
        "outputId": "3dc08f68-3b63-41d5-e406-331868dc972c"
      },
      "source": [
        "sns.distplot(df['price'], hist=True)"
      ],
      "execution_count": 186,
      "outputs": [
        {
          "output_type": "stream",
          "text": [
            "/usr/local/lib/python3.7/dist-packages/seaborn/distributions.py:2557: FutureWarning: `distplot` is a deprecated function and will be removed in a future version. Please adapt your code to use either `displot` (a figure-level function with similar flexibility) or `histplot` (an axes-level function for histograms).\n",
            "  warnings.warn(msg, FutureWarning)\n"
          ],
          "name": "stderr"
        },
        {
          "output_type": "execute_result",
          "data": {
            "text/plain": [
              "<matplotlib.axes._subplots.AxesSubplot at 0x7ff781a61d10>"
            ]
          },
          "metadata": {
            "tags": []
          },
          "execution_count": 186
        },
        {
          "output_type": "display_data",
          "data": {
            "image/png": "[encoded data removed]",
            "text/plain": [
              "<Figure size 720x360 with 1 Axes>"
            ]
          },
          "metadata": {
            "tags": [],
            "needs_background": "light"
          }
        }
      ]
    },
    {
      "cell_type": "code",
      "metadata": {
        "id": "G2xtPa_EGIbT"
      },
      "source": [
        "plt.rcParams['figure.figsize'] = (10, 5)\r\n"
      ],
      "execution_count": 85,
      "outputs": []
    },
    {
      "cell_type": "code",
      "metadata": {
        "colab": {
          "base_uri": "https://localhost:8080/",
          "height": 337
        },
        "id": "HgD8bgGBGtPZ",
        "outputId": "80c711e4-da97-4847-b950-d5191090837f"
      },
      "source": [
        "df['price'].plot.hist(xlim=(0,3000)) \r\n"
      ],
      "execution_count": 90,
      "outputs": [
        {
          "output_type": "execute_result",
          "data": {
            "text/plain": [
              "<matplotlib.axes._subplots.AxesSubplot at 0x7ff791420fd0>"
            ]
          },
          "metadata": {
            "tags": []
          },
          "execution_count": 90
        },
        {
          "output_type": "display_data",
          "data": {
            "image/png": "[encoded data removed]",
            "text/plain": [
              "<Figure size 720x360 with 1 Axes>"
            ]
          },
          "metadata": {
            "tags": [],
            "needs_background": "light"
          }
        }
      ]
    },
    {
      "cell_type": "code",
      "metadata": {
        "colab": {
          "base_uri": "https://localhost:8080/",
          "height": 698
        },
        "id": "C5GRdgrOF8vd",
        "outputId": "3c575a75-4a37-48e2-c0b1-eca7f207db0b"
      },
      "source": [
        "plt.hist(neighbourhood_group_df['price'], color='green')\r\n",
        "plt.xlim(0,200)\r\n",
        "plt.xlabel('Age')\r\n",
        "plt.ylabel('Frequency')\r\n",
        "\r\n",
        "plt.xticks(np.arange(0, 200, 10))"
      ],
      "execution_count": 187,
      "outputs": [
        {
          "output_type": "execute_result",
          "data": {
            "text/plain": [
              "([<matplotlib.axis.XTick at 0x7ff7819af0d0>,\n",
              "  <matplotlib.axis.XTick at 0x7ff7819af950>,\n",
              "  <matplotlib.axis.XTick at 0x7ff7819a7810>,\n",
              "  <matplotlib.axis.XTick at 0x7ff781954dd0>,\n",
              "  <matplotlib.axis.XTick at 0x7ff781975b50>,\n",
              "  <matplotlib.axis.XTick at 0x7ff781975d90>,\n",
              "  <matplotlib.axis.XTick at 0x7ff78197f650>,\n",
              "  <matplotlib.axis.XTick at 0x7ff78197fb90>,\n",
              "  <matplotlib.axis.XTick at 0x7ff78197f750>,\n",
              "  <matplotlib.axis.XTick at 0x7ff78197f510>,\n",
              "  <matplotlib.axis.XTick at 0x7ff781975710>,\n",
              "  <matplotlib.axis.XTick at 0x7ff781906950>,\n",
              "  <matplotlib.axis.XTick at 0x7ff781906cd0>,\n",
              "  <matplotlib.axis.XTick at 0x7ff78190f2d0>,\n",
              "  <matplotlib.axis.XTick at 0x7ff78190f790>,\n",
              "  <matplotlib.axis.XTick at 0x7ff78190fcd0>,\n",
              "  <matplotlib.axis.XTick at 0x7ff7819172d0>,\n",
              "  <matplotlib.axis.XTick at 0x7ff781917790>,\n",
              "  <matplotlib.axis.XTick at 0x7ff781917cd0>,\n",
              "  <matplotlib.axis.XTick at 0x7ff781917510>],\n",
              " <a list of 20 Text major ticklabel objects>)"
            ]
          },
          "metadata": {
            "tags": []
          },
          "execution_count": 187
        },
        {
          "output_type": "display_data",
          "data": {
            "image/png": "[encoded data removed]",
            "text/plain": [
              "<Figure size 720x360 with 1 Axes>"
            ]
          },
          "metadata": {
            "tags": [],
            "needs_background": "light"
          }
        }
      ]
    },
    {
      "cell_type": "code",
      "metadata": {
        "colab": {
          "base_uri": "https://localhost:8080/"
        },
        "id": "KGUqqGRG_LNt",
        "outputId": "f9c41222-a9f1-42a7-ce51-737b38162cd5"
      },
      "source": [
        "corr1 = neighbourhood_group_df['number_of_listings'].corr(neighbourhood_group_df['standard_deviation'],method='pearson')\r\n",
        "print(corr1)"
      ],
      "execution_count": 189,
      "outputs": [
        {
          "output_type": "stream",
          "text": [
            "0.3793623754913061\n"
          ],
          "name": "stdout"
        }
      ]
    },
    {
      "cell_type": "code",
      "metadata": {
        "colab": {
          "base_uri": "https://localhost:8080/",
          "height": 401
        },
        "id": "ktlynO-kA0XJ",
        "outputId": "125a58ae-53dc-478c-e6e6-003d444c4a5d"
      },
      "source": [
        "sns.lmplot(x='number_of_reviews', y='standard_deviation', data= neighbourhood_group_df )"
      ],
      "execution_count": 78,
      "outputs": [
        {
          "output_type": "execute_result",
          "data": {
            "text/plain": [
              "<seaborn.axisgrid.FacetGrid at 0x7ff79a3955d0>"
            ]
          },
          "metadata": {
            "tags": []
          },
          "execution_count": 78
        },
        {
          "output_type": "display_data",
          "data": {
            "image/png": "[encoded data removed]",
            "text/plain": [
              "<Figure size 360x360 with 1 Axes>"
            ]
          },
          "metadata": {
            "tags": [],
            "needs_background": "light"
          }
        }
      ]
    },
    {
      "cell_type": "code",
      "metadata": {
        "colab": {
          "base_uri": "https://localhost:8080/",
          "height": 401
        },
        "id": "mZ3eAfTpt6TS",
        "outputId": "88dbc28a-3b8b-4bc1-d6d0-13295041258c"
      },
      "source": [
        "sns.lmplot(x='number_of_reviews', y='price', data= df )"
      ],
      "execution_count": 123,
      "outputs": [
        {
          "output_type": "execute_result",
          "data": {
            "text/plain": [
              "<seaborn.axisgrid.FacetGrid at 0x7f1ee4617750>"
            ]
          },
          "metadata": {
            "tags": []
          },
          "execution_count": 123
        },
        {
          "output_type": "display_data",
          "data": {
            "image/png": "[encoded data removed]",
            "text/plain": [
              "<Figure size 360x360 with 1 Axes>"
            ]
          },
          "metadata": {
            "tags": [],
            "needs_background": "light"
          }
        }
      ]
    },
    {
      "cell_type": "code",
      "metadata": {
        "colab": {
          "base_uri": "https://localhost:8080/",
          "height": 401
        },
        "id": "XDHTPFEIwejL",
        "outputId": "c0278f6f-8f8a-4f9b-99df-cbf4e4e24d4c"
      },
      "source": [
        "sns.lmplot(x='number_of_reviews', y='price', data= neighbourhood_group_df )"
      ],
      "execution_count": 125,
      "outputs": [
        {
          "output_type": "execute_result",
          "data": {
            "text/plain": [
              "<seaborn.axisgrid.FacetGrid at 0x7f1ee4461e10>"
            ]
          },
          "metadata": {
            "tags": []
          },
          "execution_count": 125
        },
        {
          "output_type": "display_data",
          "data": {
            "image/png": "[encoded data removed]",
            "text/plain": [
              "<Figure size 360x360 with 1 Axes>"
            ]
          },
          "metadata": {
            "tags": [],
            "needs_background": "light"
          }
        }
      ]
    },
    {
      "cell_type": "code",
      "metadata": {
        "id": "70UvN4amutPb"
      },
      "source": [
        "correlation_price_reviews = df.loc[:,['price','number_of_reviews']]"
      ],
      "execution_count": 118,
      "outputs": []
    },
    {
      "cell_type": "code",
      "metadata": {
        "colab": {
          "base_uri": "https://localhost:8080/",
          "height": 110
        },
        "id": "Ewu_y-Chu95C",
        "outputId": "5a82323c-4674-4808-dc98-22369c0faa5c"
      },
      "source": [
        "correlation_price_reviews.corr()"
      ],
      "execution_count": 119,
      "outputs": [
        {
          "output_type": "execute_result",
          "data": {
            "text/html": [
              "<div>\n",
              "<style scoped>\n",
              "    .dataframe tbody tr th:only-of-type {\n",
              "        vertical-align: middle;\n",
              "    }\n",
              "\n",
              "    .dataframe tbody tr th {\n",
              "        vertical-align: top;\n",
              "    }\n",
              "\n",
              "    .dataframe thead th {\n",
              "        text-align: right;\n",
              "    }\n",
              "</style>\n",
              "<table border=\"1\" class=\"dataframe\">\n",
              "  <thead>\n",
              "    <tr style=\"text-align: right;\">\n",
              "      <th></th>\n",
              "      <th>price</th>\n",
              "      <th>number_of_reviews</th>\n",
              "    </tr>\n",
              "  </thead>\n",
              "  <tbody>\n",
              "    <tr>\n",
              "      <th>price</th>\n",
              "      <td>1.000000</td>\n",
              "      <td>-0.047932</td>\n",
              "    </tr>\n",
              "    <tr>\n",
              "      <th>number_of_reviews</th>\n",
              "      <td>-0.047932</td>\n",
              "      <td>1.000000</td>\n",
              "    </tr>\n",
              "  </tbody>\n",
              "</table>\n",
              "</div>"
            ],
            "text/plain": [
              "                      price  number_of_reviews\n",
              "price              1.000000          -0.047932\n",
              "number_of_reviews -0.047932           1.000000"
            ]
          },
          "metadata": {
            "tags": []
          },
          "execution_count": 119
        }
      ]
    },
    {
      "cell_type": "code",
      "metadata": {
        "id": "mtIUncEb_R5G"
      },
      "source": [
        "neighbourhood_df = df.groupby(['neighbourhood_group','neighbourhood'])['price'].mean().reset_index()"
      ],
      "execution_count": 196,
      "outputs": []
    },
    {
      "cell_type": "code",
      "metadata": {
        "id": "HAE36xXJYtQu"
      },
      "source": [
        "neighbourhood_df['number_of_listings'] = (df.groupby(['neighbourhood_group','neighbourhood'])['id'].count().reset_index())['id']"
      ],
      "execution_count": 197,
      "outputs": []
    },
    {
      "cell_type": "code",
      "metadata": {
        "id": "IF3-fXfPbUO7"
      },
      "source": [
        "neighbourhood_df['number_of_reviews'] = (df.groupby(['neighbourhood_group','neighbourhood'])['number_of_reviews'].sum().reset_index())['number_of_reviews']"
      ],
      "execution_count": 198,
      "outputs": []
    },
    {
      "cell_type": "code",
      "metadata": {
        "id": "E-Z0GCOlYVve"
      },
      "source": [
        "neighbourhood_df['standard_deviation'] = (df.groupby(['neighbourhood_group','neighbourhood'])['price'].std().reset_index())['price']"
      ],
      "execution_count": 199,
      "outputs": []
    },
    {
      "cell_type": "code",
      "metadata": {
        "colab": {
          "base_uri": "https://localhost:8080/",
          "height": 415
        },
        "id": "UitO_eBTblfT",
        "outputId": "cad00269-9fa6-46d7-fbaf-0cd593562b04"
      },
      "source": [
        "neighbourhood_df"
      ],
      "execution_count": 200,
      "outputs": [
        {
          "output_type": "execute_result",
          "data": {
            "text/html": [
              "<div>\n",
              "<style scoped>\n",
              "    .dataframe tbody tr th:only-of-type {\n",
              "        vertical-align: middle;\n",
              "    }\n",
              "\n",
              "    .dataframe tbody tr th {\n",
              "        vertical-align: top;\n",
              "    }\n",
              "\n",
              "    .dataframe thead th {\n",
              "        text-align: right;\n",
              "    }\n",
              "</style>\n",
              "<table border=\"1\" class=\"dataframe\">\n",
              "  <thead>\n",
              "    <tr style=\"text-align: right;\">\n",
              "      <th></th>\n",
              "      <th>neighbourhood_group</th>\n",
              "      <th>neighbourhood</th>\n",
              "      <th>price</th>\n",
              "      <th>number_of_listings</th>\n",
              "      <th>number_of_reviews</th>\n",
              "      <th>standard_deviation</th>\n",
              "    </tr>\n",
              "  </thead>\n",
              "  <tbody>\n",
              "    <tr>\n",
              "      <th>0</th>\n",
              "      <td>Bronx</td>\n",
              "      <td>Allerton</td>\n",
              "      <td>91.702703</td>\n",
              "      <td>37</td>\n",
              "      <td>1752</td>\n",
              "      <td>76.842142</td>\n",
              "    </tr>\n",
              "    <tr>\n",
              "      <th>1</th>\n",
              "      <td>Bronx</td>\n",
              "      <td>Baychester</td>\n",
              "      <td>78.000000</td>\n",
              "      <td>6</td>\n",
              "      <td>310</td>\n",
              "      <td>17.561321</td>\n",
              "    </tr>\n",
              "    <tr>\n",
              "      <th>2</th>\n",
              "      <td>Bronx</td>\n",
              "      <td>Belmont</td>\n",
              "      <td>85.823529</td>\n",
              "      <td>17</td>\n",
              "      <td>275</td>\n",
              "      <td>77.808447</td>\n",
              "    </tr>\n",
              "    <tr>\n",
              "      <th>3</th>\n",
              "      <td>Bronx</td>\n",
              "      <td>Bronxdale</td>\n",
              "      <td>54.923077</td>\n",
              "      <td>13</td>\n",
              "      <td>318</td>\n",
              "      <td>18.481800</td>\n",
              "    </tr>\n",
              "    <tr>\n",
              "      <th>4</th>\n",
              "      <td>Bronx</td>\n",
              "      <td>Castle Hill</td>\n",
              "      <td>63.000000</td>\n",
              "      <td>9</td>\n",
              "      <td>118</td>\n",
              "      <td>33.462666</td>\n",
              "    </tr>\n",
              "    <tr>\n",
              "      <th>...</th>\n",
              "      <td>...</td>\n",
              "      <td>...</td>\n",
              "      <td>...</td>\n",
              "      <td>...</td>\n",
              "      <td>...</td>\n",
              "      <td>...</td>\n",
              "    </tr>\n",
              "    <tr>\n",
              "      <th>213</th>\n",
              "      <td>Staten Island</td>\n",
              "      <td>Tompkinsville</td>\n",
              "      <td>77.567568</td>\n",
              "      <td>37</td>\n",
              "      <td>2197</td>\n",
              "      <td>46.831578</td>\n",
              "    </tr>\n",
              "    <tr>\n",
              "      <th>214</th>\n",
              "      <td>Staten Island</td>\n",
              "      <td>Tottenville</td>\n",
              "      <td>144.857143</td>\n",
              "      <td>7</td>\n",
              "      <td>139</td>\n",
              "      <td>98.311458</td>\n",
              "    </tr>\n",
              "    <tr>\n",
              "      <th>215</th>\n",
              "      <td>Staten Island</td>\n",
              "      <td>West Brighton</td>\n",
              "      <td>80.555556</td>\n",
              "      <td>18</td>\n",
              "      <td>656</td>\n",
              "      <td>47.689217</td>\n",
              "    </tr>\n",
              "    <tr>\n",
              "      <th>216</th>\n",
              "      <td>Staten Island</td>\n",
              "      <td>Westerleigh</td>\n",
              "      <td>71.500000</td>\n",
              "      <td>2</td>\n",
              "      <td>18</td>\n",
              "      <td>44.547727</td>\n",
              "    </tr>\n",
              "    <tr>\n",
              "      <th>217</th>\n",
              "      <td>Staten Island</td>\n",
              "      <td>Willowbrook</td>\n",
              "      <td>249.000000</td>\n",
              "      <td>1</td>\n",
              "      <td>9</td>\n",
              "      <td>NaN</td>\n",
              "    </tr>\n",
              "  </tbody>\n",
              "</table>\n",
              "<p>218 rows × 6 columns</p>\n",
              "</div>"
            ],
            "text/plain": [
              "    neighbourhood_group  neighbourhood  ...  number_of_reviews  standard_deviation\n",
              "0                 Bronx       Allerton  ...               1752           76.842142\n",
              "1                 Bronx     Baychester  ...                310           17.561321\n",
              "2                 Bronx        Belmont  ...                275           77.808447\n",
              "3                 Bronx      Bronxdale  ...                318           18.481800\n",
              "4                 Bronx    Castle Hill  ...                118           33.462666\n",
              "..                  ...            ...  ...                ...                 ...\n",
              "213       Staten Island  Tompkinsville  ...               2197           46.831578\n",
              "214       Staten Island    Tottenville  ...                139           98.311458\n",
              "215       Staten Island  West Brighton  ...                656           47.689217\n",
              "216       Staten Island    Westerleigh  ...                 18           44.547727\n",
              "217       Staten Island    Willowbrook  ...                  9                 NaN\n",
              "\n",
              "[218 rows x 6 columns]"
            ]
          },
          "metadata": {
            "tags": []
          },
          "execution_count": 200
        }
      ]
    },
    {
      "cell_type": "code",
      "metadata": {
        "colab": {
          "base_uri": "https://localhost:8080/",
          "height": 714
        },
        "id": "9k49wOZ-nd1V",
        "outputId": "8c4b8048-653a-481c-a972-5392c3250125"
      },
      "source": [
        "plt.rcParams['figure.figsize'] = (20, 10)\r\n",
        "neighbourhood_df.boxplot(by = 'neighbourhood_group' , column='price')"
      ],
      "execution_count": 204,
      "outputs": [
        {
          "output_type": "stream",
          "text": [
            "/usr/local/lib/python3.7/dist-packages/numpy/core/_asarray.py:83: VisibleDeprecationWarning: Creating an ndarray from ragged nested sequences (which is a list-or-tuple of lists-or-tuples-or ndarrays with different lengths or shapes) is deprecated. If you meant to do this, you must specify 'dtype=object' when creating the ndarray\n",
            "  return array(a, dtype, copy=False, order=order)\n"
          ],
          "name": "stderr"
        },
        {
          "output_type": "execute_result",
          "data": {
            "text/plain": [
              "<matplotlib.axes._subplots.AxesSubplot at 0x7ff781694750>"
            ]
          },
          "metadata": {
            "tags": []
          },
          "execution_count": 204
        },
        {
          "output_type": "display_data",
          "data": {
            "image/png": "[encoded data removed]",
            "text/plain": [
              "<Figure size 1440x720 with 1 Axes>"
            ]
          },
          "metadata": {
            "tags": [],
            "needs_background": "light"
          }
        }
      ]
    },
    {
      "cell_type": "code",
      "metadata": {
        "id": "xhmETkJs-Njv"
      },
      "source": [
        ""
      ],
      "execution_count": null,
      "outputs": []
    },
    {
      "cell_type": "code",
      "metadata": {
        "id": "wnEE1j1WveU4"
      },
      "source": [
        "plt.rcParams['figure.figsize'] = (10, 5)"
      ],
      "execution_count": 122,
      "outputs": []
    },
    {
      "cell_type": "code",
      "metadata": {
        "id": "wOkV1RICx4uN"
      },
      "source": [
        "plt.plot()\r\n"
      ],
      "execution_count": null,
      "outputs": []
    },
    {
      "cell_type": "code",
      "metadata": {
        "id": "iuL96GXxwDzi"
      },
      "source": [
        "plt.plot()\r\n",
        "\r\n",
        "plt.title('Monthly Sales in the year 2018')\r\n",
        "plt.ylabel('Total number of sales')\r\n",
        "plt.xlabel('Month')"
      ],
      "execution_count": null,
      "outputs": []
    },
    {
      "cell_type": "code",
      "metadata": {
        "id": "m9Z1hXIwaUd-"
      },
      "source": [
        "room_type_df = df.groupby('room_type')['price'].mean()"
      ],
      "execution_count": null,
      "outputs": []
    },
    {
      "cell_type": "code",
      "metadata": {
        "colab": {
          "base_uri": "https://localhost:8080/"
        },
        "id": "MuqeL_DPhH3T",
        "outputId": "9b1c74f2-334f-443f-e1d6-fea4486e22c0"
      },
      "source": [
        "room_type_df"
      ],
      "execution_count": null,
      "outputs": [
        {
          "output_type": "execute_result",
          "data": {
            "text/plain": [
              "room_type\n",
              "Entire home/apt    211.802590\n",
              "Private room        89.814208\n",
              "Shared room         70.310345\n",
              "Name: price, dtype: float64"
            ]
          },
          "metadata": {
            "tags": []
          },
          "execution_count": 44
        }
      ]
    },
    {
      "cell_type": "code",
      "metadata": {
        "colab": {
          "base_uri": "https://localhost:8080/",
          "height": 214
        },
        "id": "5I9XQpLmWmGD",
        "outputId": "260e0248-e44d-4ed5-84ab-09715ae1dcd7"
      },
      "source": [
        "\r\n",
        "\r\n",
        "geometry = [Point(xy) for xy in zip(df['longitude'], df['latitude'])]\r\n",
        "gdf = GeoDataFrame(df, geometry=geometry)   \r\n",
        "\r\n",
        "#this is a simple map that goes with geopandas\r\n",
        "world = gpd.read_file(gpd.datasets.get_path('naturalearth_cities'))\r\n",
        "gdf.plot(ax=world.plot(figsize=(10, 6)), marker='o', color='red', markersize=15);"
      ],
      "execution_count": null,
      "outputs": [
        {
          "output_type": "display_data",
          "data": {
            "image/png": "[encoded data removed]",
            "text/plain": [
              "<Figure size 720x432 with 1 Axes>"
            ]
          },
          "metadata": {
            "tags": [],
            "needs_background": "light"
          }
        }
      ]
    }
  ]
}